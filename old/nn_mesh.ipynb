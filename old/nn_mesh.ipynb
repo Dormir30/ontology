{
 "cells": [
  {
   "cell_type": "code",
   "execution_count": 1,
   "id": "bd5e99af",
   "metadata": {},
   "outputs": [],
   "source": [
    "import os\n",
    "import pickle\n",
    "import glob\n",
    "import gzip\n",
    "from tqdm import tqdm_notebook as tqdm\n",
    "import pandas as pd\n",
    "import numpy as np\n",
    "import networkx as nx\n",
    "import matplotlib.pyplot as plt\n",
    "import matplotlib.cm as cm\n",
    "import collections"
   ]
  },
  {
   "cell_type": "code",
   "execution_count": 2,
   "id": "7f1e9a32",
   "metadata": {},
   "outputs": [
    {
     "name": "stderr",
     "output_type": "stream",
     "text": [
      "<ipython-input-2-e3ed14ff6204>:10: TqdmDeprecationWarning: This function will be removed in tqdm==5.0.0\n",
      "Please use `tqdm.notebook.tqdm` instead of `tqdm.tqdm_notebook`\n",
      "  mesh_diseases = [descriptor for descriptor in tqdm(mesh_list) for uid in descriptor[-1] if ((uid.startswith(\"C\")==True) & (uid.startswith(\"C22\")!=True)&(uid.startswith(\"C23.888\")!=True)) | (uid.startswith(\"F03\")==True) ]\n"
     ]
    },
    {
     "data": {
      "application/vnd.jupyter.widget-view+json": {
       "model_id": "b23db5f0aded457a9d235f5e12786159",
       "version_major": 2,
       "version_minor": 0
      },
      "text/plain": [
       "  0%|          | 0/29917 [00:00<?, ?it/s]"
      ]
     },
     "metadata": {},
     "output_type": "display_data"
    },
    {
     "name": "stderr",
     "output_type": "stream",
     "text": [
      "<ipython-input-2-e3ed14ff6204>:11: TqdmDeprecationWarning: This function will be removed in tqdm==5.0.0\n",
      "Please use `tqdm.notebook.tqdm` instead of `tqdm.tqdm_notebook`\n",
      "  mesh_symptoms = [descriptor for descriptor in tqdm(mesh_list)  for uid in descriptor[-1] if (uid.startswith(\"C23.888\")==True)]\n"
     ]
    },
    {
     "data": {
      "application/vnd.jupyter.widget-view+json": {
       "model_id": "8e319387c84e41d781ee3ba164760a00",
       "version_major": 2,
       "version_minor": 0
      },
      "text/plain": [
       "  0%|          | 0/29917 [00:00<?, ?it/s]"
      ]
     },
     "metadata": {},
     "output_type": "display_data"
    },
    {
     "data": {
      "text/plain": [
       "(29917, 4887, 394)"
      ]
     },
     "execution_count": 2,
     "metadata": {},
     "output_type": "execute_result"
    }
   ],
   "source": [
    "#2021_mesh\n",
    "os.chdir('/home/admin_user')\n",
    "filename_mesh = 'mesh_list_2021.pickle'\n",
    "with open(filename_mesh, 'rb') as f:\n",
    "    mesh_list = pickle.load(f)\n",
    "\n",
    "#メッシュから　メッシュIDと疾患/症状メッシュ、TreeNumber を取り出す\n",
    "#疾患メッシュ：Cのうち C22（動物)とC23.888（症状）を除外したもの）＋F03（精神障害）\n",
    "#症状メッシュ：C23.888\n",
    "mesh_diseases = [descriptor for descriptor in tqdm(mesh_list) for uid in descriptor[-1] if ((uid.startswith(\"C\")==True) & (uid.startswith(\"C22\")!=True)&(uid.startswith(\"C23.888\")!=True)) | (uid.startswith(\"F03\")==True) ]\n",
    "mesh_symptoms = [descriptor for descriptor in tqdm(mesh_list)  for uid in descriptor[-1] if (uid.startswith(\"C23.888\")==True)]\n",
    "#さらにメッシュ名だけにする＋重複削除\n",
    "mesh_diseases= pd.DataFrame(mesh_diseases)[1].drop_duplicates(keep='last').reset_index(drop=True).values.tolist()\n",
    "mesh_symptoms= pd.DataFrame(mesh_symptoms)[1].drop_duplicates(keep='last').reset_index(drop=True).values.tolist()\n",
    "\n",
    "len(mesh_list),len(mesh_diseases), len(mesh_symptoms)"
   ]
  },
  {
   "cell_type": "code",
   "execution_count": 3,
   "id": "93b65f7e",
   "metadata": {
    "scrolled": true
   },
   "outputs": [
    {
     "name": "stderr",
     "output_type": "stream",
     "text": [
      "<ipython-input-3-53d0c44e9195>:10: TqdmDeprecationWarning: This function will be removed in tqdm==5.0.0\n",
      "Please use `tqdm.notebook.tqdm` instead of `tqdm.tqdm_notebook`\n",
      "  mesh_diseases_2011 = [descriptor for descriptor in tqdm(mesh_list_2011) for uid in descriptor[-1] if ((uid.startswith(\"C\")==True) & (uid.startswith(\"C22\")!=True)&(uid.startswith(\"C23.888\")!=True)) | (uid.startswith(\"F03\")==True) ]\n"
     ]
    },
    {
     "data": {
      "application/vnd.jupyter.widget-view+json": {
       "model_id": "8f55d7f4e2f844909c405ba3f7463bdc",
       "version_major": 2,
       "version_minor": 0
      },
      "text/plain": [
       "  0%|          | 0/26142 [00:00<?, ?it/s]"
      ]
     },
     "metadata": {},
     "output_type": "display_data"
    },
    {
     "name": "stderr",
     "output_type": "stream",
     "text": [
      "<ipython-input-3-53d0c44e9195>:11: TqdmDeprecationWarning: This function will be removed in tqdm==5.0.0\n",
      "Please use `tqdm.notebook.tqdm` instead of `tqdm.tqdm_notebook`\n",
      "  mesh_symptoms_2011 = [descriptor for descriptor in tqdm(mesh_list_2011)  for uid in descriptor[-1] if (uid.startswith(\"C23.888\")==True)]\n"
     ]
    },
    {
     "data": {
      "application/vnd.jupyter.widget-view+json": {
       "model_id": "874ff69eaed34a2a997f1dabb3c0a201",
       "version_major": 2,
       "version_minor": 0
      },
      "text/plain": [
       "  0%|          | 0/26142 [00:00<?, ?it/s]"
      ]
     },
     "metadata": {},
     "output_type": "display_data"
    },
    {
     "data": {
      "text/plain": [
       "(26142, 4475, 328)"
      ]
     },
     "execution_count": 3,
     "metadata": {},
     "output_type": "execute_result"
    }
   ],
   "source": [
    "#2011_mesh\n",
    "\n",
    "filename_mesh = 'mesh_list_2011.pickle'\n",
    "with open(filename_mesh, 'rb') as f:\n",
    "    mesh_list_2011 = pickle.load(f)\n",
    "\n",
    "#メッシュから　メッシュIDと疾患/症状メッシュ、TreeNumber を取り出す\n",
    "#疾患メッシュ：Cのうち C22（動物)とC23.888（症状）を除外したもの）＋F03（精神障害）\n",
    "#症状メッシュ：C23.888\n",
    "mesh_diseases_2011 = [descriptor for descriptor in tqdm(mesh_list_2011) for uid in descriptor[-1] if ((uid.startswith(\"C\")==True) & (uid.startswith(\"C22\")!=True)&(uid.startswith(\"C23.888\")!=True)) | (uid.startswith(\"F03\")==True) ]\n",
    "mesh_symptoms_2011 = [descriptor for descriptor in tqdm(mesh_list_2011)  for uid in descriptor[-1] if (uid.startswith(\"C23.888\")==True)]\n",
    "#さらにメッシュ名だけにする＋重複削除\n",
    "mesh_diseases_2011= pd.DataFrame(mesh_diseases_2011)[1].drop_duplicates(keep='last').reset_index(drop=True).values.tolist()\n",
    "mesh_symptoms_2011= pd.DataFrame(mesh_symptoms_2011)[1].drop_duplicates(keep='last').reset_index(drop=True).values.tolist()\n",
    "\n",
    "len(mesh_list_2011),len(mesh_diseases_2011), len(mesh_symptoms_2011)"
   ]
  },
  {
   "cell_type": "code",
   "execution_count": 16,
   "id": "ef032e05",
   "metadata": {},
   "outputs": [
    {
     "name": "stdout",
     "output_type": "stream",
     "text": [
      "4442 322\n",
      "4475 328\n"
     ]
    }
   ],
   "source": [
    "zhou_diseases = pd.read_csv(\"Supplementary Data 1.txt\", sep=\"\\t\" )[\"MeSH Disease Term\"].values.tolist()\n",
    "zhou_symptoms = pd.read_csv(\"Supplementary Data 2.txt\", sep=\"\\t\" )[\"MeSH Symptom Term\"].values.tolist()\n",
    "print(len(zhou_diseases), len(zhou_symptoms))\n",
    "print(len(mesh_diseases_2011), len(mesh_symptoms_2011))"
   ]
  },
  {
   "cell_type": "code",
   "execution_count": 25,
   "id": "2344525c",
   "metadata": {
    "scrolled": true
   },
   "outputs": [
    {
     "data": {
      "text/plain": [
       "33"
      ]
     },
     "execution_count": 25,
     "metadata": {},
     "output_type": "execute_result"
    }
   ],
   "source": [
    "4475-4442"
   ]
  },
  {
   "cell_type": "code",
   "execution_count": 47,
   "id": "a92ffd0e",
   "metadata": {},
   "outputs": [
    {
     "name": "stdout",
     "output_type": "stream",
     "text": [
      "62\n"
     ]
    },
    {
     "data": {
      "text/plain": [
       "[['Aneuploidy', ['C23.550.210.050', 'G05.365.590.175.050', 'G05.700.131']],\n",
       " ['Bacterial Infections and Mycoses', ['C01']],\n",
       " ['Mental Disorders', ['F03']],\n",
       " ['Cardiovascular Diseases', ['C14']],\n",
       " ['Chromosome Deletion',\n",
       "  ['C23.550.210.050.500.500',\n",
       "   'G05.355.600.800.180',\n",
       "   'G05.365.590.029.530.175',\n",
       "   'G05.365.590.175.050.500.500',\n",
       "   'G05.365.590.762.180',\n",
       "   'G05.700.131.500.500']],\n",
       " ['Digestive System Diseases', ['C06']],\n",
       " ['Endocrine System Diseases', ['C19']],\n",
       " ['Eye Diseases', ['C11']],\n",
       " ['Female Urogenital Diseases and Pregnancy Complications', ['C13']],\n",
       " ['Fetishism (Psychiatric)', ['F03.800.800.600.350']],\n",
       " ['Hemic and Lymphatic Diseases', ['C15']],\n",
       " ['Immune System Diseases', ['C20']],\n",
       " ['Disorders of Environmental Origin', ['C21']],\n",
       " ['Stomatognathic Diseases', ['C07']],\n",
       " ['Musculoskeletal Diseases', ['C05']],\n",
       " ['Congenital, Hereditary, and Neonatal Diseases and Abnormalities', ['C16']],\n",
       " ['Neoplasms', ['C04']],\n",
       " ['Neoplasms by Histologic Type', ['C04.557']],\n",
       " ['Neoplasms by Site', ['C04.588']],\n",
       " ['Neoplastic Processes', ['C04.697', 'C23.550.727']],\n",
       " ['Nervous System Diseases', ['C10']],\n",
       " ['Nutritional and Metabolic Diseases', ['C18']],\n",
       " ['Occupational Diseases', ['C24']],\n",
       " ['Otorhinolaryngologic Diseases', ['C09']],\n",
       " ['Parasitic Diseases', ['C03']],\n",
       " ['Pathologic Processes', ['C23.550']],\n",
       " ['Philadelphia Chromosome',\n",
       "  ['A11.284.187.520.300.325.345.500',\n",
       "   'A11.284.187.520.300.505.515.500',\n",
       "   'C23.550.210.870.680',\n",
       "   'G05.360.162.520.300.325.345.700',\n",
       "   'G05.360.162.520.300.505.515.700',\n",
       "   'G05.365.590.175.870.680']],\n",
       " ['Polyploidy', ['C23.550.210.702', 'G05.365.590.175.677', 'G05.700.740']],\n",
       " ['Recurrence', ['C23.550.291.937']],\n",
       " ['Remission, Spontaneous', ['C23.550.291.656.700', 'G16.100.870']],\n",
       " ['Respiratory Tract Diseases', ['C08']],\n",
       " ['Ring Chromosomes',\n",
       "  ['A11.284.187.788',\n",
       "   'C23.550.210.760',\n",
       "   'G05.360.162.788',\n",
       "   'G05.365.590.175.760']],\n",
       " ['Pathological Conditions, Signs and Symptoms', ['C23']],\n",
       " ['Virus Diseases', ['C02']],\n",
       " ['Wounds and Injuries', ['C26']],\n",
       " ['Smear Layer', ['C07.793.208.688']],\n",
       " ['Embolism and Thrombosis', ['C14.907.355']],\n",
       " ['Adenophorea Infections', ['C03.335.508.100']],\n",
       " ['Skin and Connective Tissue Diseases', ['C17']],\n",
       " ['Cholera Morbus', ['C06.405.205.200']],\n",
       " ['Nevi and Melanomas', ['C04.557.665']],\n",
       " ['Rubivirus Infections', ['C02.782.930.700']],\n",
       " ['Disease Progression', ['C23.550.291.656']],\n",
       " [\"King's Evil\", ['C01.252.410.040.552.846.719.500', 'C15.604.921.500']],\n",
       " ['Mental Disorders Diagnosed in Childhood', ['F03.550']],\n",
       " ['Neurobehavioral Manifestations',\n",
       "  ['C10.597.606', 'C23.888.592.604', 'F01.700']],\n",
       " ['Schizophrenia and Disorders with Psychotic Features', ['F03.700']],\n",
       " ['Pathological Conditions, Anatomical', ['C23.300']],\n",
       " ['Neuromuscular Manifestations', ['C10.597.613', 'C23.888.592.608']],\n",
       " ['Disease Attributes', ['C23.550.291']],\n",
       " ['Flexibacteraceae Infections', ['C01.252.400.368']],\n",
       " ['Preconception Injuries', ['C21.676']],\n",
       " ['Tay-Sachs Disease, AB Variant',\n",
       "  ['C10.228.140.163.100.435.825.300.300.750',\n",
       "   'C16.320.565.189.435.825.300.300.750',\n",
       "   'C16.320.565.398.641.803.350.300.925',\n",
       "   'C16.320.565.595.554.825.300.300.920',\n",
       "   'C18.452.132.100.435.825.300.300.750',\n",
       "   'C18.452.584.687.803.350.300.925',\n",
       "   'C18.452.648.189.435.825.300.300.750',\n",
       "   'C18.452.648.398.641.803.350.300.925',\n",
       "   'C18.452.648.595.554.825.300.300.920']],\n",
       " ['Sulfatidosis',\n",
       "  ['C10.228.140.163.100.435.825.850',\n",
       "   'C16.320.565.189.435.825.850',\n",
       "   'C16.320.565.398.641.803.925',\n",
       "   'C16.320.565.595.554.825.850',\n",
       "   'C18.452.132.100.435.825.850',\n",
       "   'C18.452.584.687.803.925',\n",
       "   'C18.452.648.189.435.825.850',\n",
       "   'C18.452.648.398.641.803.925',\n",
       "   'C18.452.648.595.554.825.850']],\n",
       " ['Male Urogenital Diseases', ['C12']],\n",
       " ['DNA Degradation, Necrotic',\n",
       "  ['C23.550.717.273', 'G04.299.139.638.200', 'G05.355.180.220']],\n",
       " ['Microsatellite Instability',\n",
       "  ['C23.550.362.590', 'G05.365.590.335.590', 'G05.370.590']],\n",
       " ['Posterior Cervical Sympathetic Syndrome', ['C05.116.900.596']],\n",
       " ['Corpse Dismemberment',\n",
       "  ['C23.550.260.224.200', 'C26.986.111', 'I01.198.240.194']],\n",
       " ['Triploidy',\n",
       "  ['C23.550.210.702.500', 'G05.365.590.175.677.500', 'G05.700.740.500']],\n",
       " ['Tetraploidy',\n",
       "  ['C23.550.210.702.249', 'G05.365.590.175.677.249', 'G05.700.740.249']],\n",
       " ['Asymptomatic Infections', ['C23.550.291.187.500']]]"
      ]
     },
     "execution_count": 47,
     "metadata": {},
     "output_type": "execute_result"
    }
   ],
   "source": [
    "#これまで使っていた2011_疾患メッシュ: Cのうち C22（動物)とC23.888（症状）を除外したもの）＋F03（精神障害）\n",
    "\n",
    "#これまで使っていた2011_疾患メッシュ(4,475)のうち、 zhou_diseases(4,442)に含まれていないタームとツリー番号\n",
    "nn_diseaes_1 = []\n",
    "for md in mesh_diseases_2011:\n",
    "    if md not in zhou_diseases:\n",
    "        for mesh in mesh_list_2011:\n",
    "            if md == mesh[1]:\n",
    "                nn_diseaes_1.append( [mesh[1], mesh[-1]])                \n",
    "print(len(nn_diseaes_1))\n",
    "nn_diseaes_1"
   ]
  },
  {
   "cell_type": "code",
   "execution_count": 42,
   "id": "d7e0764c",
   "metadata": {},
   "outputs": [
    {
     "name": "stdout",
     "output_type": "stream",
     "text": [
      "29\n"
     ]
    },
    {
     "data": {
      "text/plain": [
       "[['Dog Diseases', ['C22.268']],\n",
       " ['Cattle Diseases', ['C22.196']],\n",
       " ['Horse Diseases', ['C22.488']],\n",
       " ['Cat Diseases', ['C22.180']],\n",
       " ['Poultry Diseases', ['C22.131.728']],\n",
       " ['Swine Diseases', ['C22.905']],\n",
       " ['Sheep Diseases', ['C22.836']],\n",
       " ['Fish Diseases', ['C22.362']],\n",
       " ['Rodent Diseases', ['C22.795']],\n",
       " ['Bird Diseases', ['C22.131']],\n",
       " ['Mastitis, Bovine', ['C22.196.581']],\n",
       " ['Monkey Diseases', ['C22.735.500']],\n",
       " ['Muscular Dystrophy, Animal', ['C22.595']],\n",
       " ['Goat Diseases', ['C22.405']],\n",
       " ['Lameness, Animal', ['C22.510']],\n",
       " ['PC12 Cells', ['A11.251.210.190.750', 'A11.251.860.180.750', 'A11.299.500']],\n",
       " ['Hip Dysplasia, Canine', ['C22.268.485']],\n",
       " ['Ape Diseases', ['C22.735.050']],\n",
       " ['Foot Rot', ['C22.394']],\n",
       " ['Parturient Paresis', ['C22.695']],\n",
       " ['Disease Models, Animal', ['C22.232', 'E05.598.500', 'E05.599.395.080']],\n",
       " ['Primate Diseases', ['C22.735']],\n",
       " ['Edema Disease of Swine', ['C22.905.260']],\n",
       " ['Porcine Postweaning Multisystemic Wasting Syndrome', ['C22.905.690']],\n",
       " ['White Muscle Disease', ['C22.595.740']],\n",
       " ['Epidermitis, Exudative, of Swine', ['C22.905.382']],\n",
       " ['Reticuloendotheliosis, Avian', ['C22.131.780']],\n",
       " ['Poult Enteritis Mortality Syndrome', ['C22.131.728.650']],\n",
       " ['White Heifer Disease', ['C22.196.963']]]"
      ]
     },
     "execution_count": 42,
     "metadata": {},
     "output_type": "execute_result"
    }
   ],
   "source": [
    "#zhou_diseases(4,442)のうち、 選定済みMmesh_diseases_2011(4,475)に含まれていないタームとツリー番号\n",
    "\n",
    "nn_diseaes_2 = []\n",
    "for z_d in zhou_diseases:\n",
    "    if z_d not in mesh_diseases_2011:\n",
    "        for mesh in mesh_list_2011:\n",
    "            if z_d == mesh[1]:\n",
    "                nn_diseaes_2.append( [mesh[1], mesh[-1]])                \n",
    "print(len(nn_diseaes_2))\n",
    "nn_diseaes_2\n",
    "\n",
    "#C22(animal)"
   ]
  },
  {
   "cell_type": "code",
   "execution_count": 50,
   "id": "076d91d0",
   "metadata": {},
   "outputs": [
    {
     "name": "stdout",
     "output_type": "stream",
     "text": [
      "Body Temperature Changes ['C23.888.119']\n",
      "Signs and Symptoms ['C23.888']\n",
      "Signs and Symptoms, Digestive ['C23.888.821']\n",
      "Signs and Symptoms, Respiratory ['C23.888.852']\n",
      "Neuromuscular Manifestations ['C10.597.613', 'C23.888.592.608']\n",
      "Urological Manifestations ['C23.888.942']\n"
     ]
    },
    {
     "data": {
      "text/plain": [
       "6"
      ]
     },
     "execution_count": 50,
     "metadata": {},
     "output_type": "execute_result"
    }
   ],
   "source": [
    "#症状も\n",
    "\n",
    "nn_symptoms_1 = []\n",
    "for i_1 in mesh_symptoms_2011:\n",
    "    if i_1 not in zhou_symptoms:\n",
    "        for term in mesh_list_2011:\n",
    "            if i_1 == term[1]:\n",
    "                print(term[1], term[-1])\n",
    "                nn_symptoms_1.append(i)\n",
    "len(nn_symptoms_1)"
   ]
  },
  {
   "cell_type": "code",
   "execution_count": 51,
   "id": "61365516",
   "metadata": {},
   "outputs": [
    {
     "data": {
      "text/plain": [
       "0"
      ]
     },
     "execution_count": 51,
     "metadata": {},
     "output_type": "execute_result"
    }
   ],
   "source": [
    "nn_symptoms_2 = []\n",
    "for i_2 in zhou_symptoms:\n",
    "    if i_2 not in mesh_symptoms_2011:\n",
    "        for term in mesh_list_2011:\n",
    "            if i_2 == term[1]:\n",
    "                print(term[1], term[-1])\n",
    "                nn_symptoms_2.append(i)\n",
    "len(nn_symptoms_2)"
   ]
  },
  {
   "cell_type": "code",
   "execution_count": null,
   "id": "34f26f7e",
   "metadata": {},
   "outputs": [],
   "source": []
  }
 ],
 "metadata": {
  "kernelspec": {
   "display_name": "Python 3",
   "language": "python",
   "name": "python3"
  },
  "language_info": {
   "codemirror_mode": {
    "name": "ipython",
    "version": 3
   },
   "file_extension": ".py",
   "mimetype": "text/x-python",
   "name": "python",
   "nbconvert_exporter": "python",
   "pygments_lexer": "ipython3",
   "version": "3.8.8"
  }
 },
 "nbformat": 4,
 "nbformat_minor": 5
}
