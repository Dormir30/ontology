{
 "cells": [
  {
   "cell_type": "code",
   "execution_count": 1,
   "id": "bd5e99af",
   "metadata": {},
   "outputs": [],
   "source": [
    "import os\n",
    "import pickle\n",
    "import glob\n",
    "import gzip\n",
    "from tqdm import tqdm_notebook as tqdm\n",
    "import pandas as pd\n",
    "import numpy as np\n",
    "import networkx as nx\n",
    "import matplotlib.pyplot as plt\n",
    "import matplotlib.cm as cm\n",
    "import collections"
   ]
  },
  {
   "cell_type": "code",
   "execution_count": 2,
   "id": "b5619b2b",
   "metadata": {},
   "outputs": [
    {
     "name": "stderr",
     "output_type": "stream",
     "text": [
      "<ipython-input-2-a73f21baf64c>:9: TqdmDeprecationWarning: This function will be removed in tqdm==5.0.0\n",
      "Please use `tqdm.notebook.tqdm` instead of `tqdm.tqdm_notebook`\n",
      "  mesh_diseases = [descriptor for descriptor in tqdm(mesh_list) for uid in descriptor[-1] if ((uid.startswith(\"C\")==True) & (uid.startswith(\"C22\")!=True)&(uid.startswith(\"C23.888\")!=True)) | (uid.startswith(\"F03\")==True) ]\n"
     ]
    },
    {
     "data": {
      "application/vnd.jupyter.widget-view+json": {
       "model_id": "9cc25eaf76154af6b9177580eee20507",
       "version_major": 2,
       "version_minor": 0
      },
      "text/plain": [
       "  0%|          | 0/29917 [00:00<?, ?it/s]"
      ]
     },
     "metadata": {},
     "output_type": "display_data"
    },
    {
     "name": "stderr",
     "output_type": "stream",
     "text": [
      "<ipython-input-2-a73f21baf64c>:10: TqdmDeprecationWarning: This function will be removed in tqdm==5.0.0\n",
      "Please use `tqdm.notebook.tqdm` instead of `tqdm.tqdm_notebook`\n",
      "  mesh_symptoms = [descriptor for descriptor in tqdm(mesh_list)  for uid in descriptor[-1] if (uid.startswith(\"C23.888\")==True)]\n"
     ]
    },
    {
     "data": {
      "application/vnd.jupyter.widget-view+json": {
       "model_id": "8521a080292d45d8a09baff10f367d84",
       "version_major": 2,
       "version_minor": 0
      },
      "text/plain": [
       "  0%|          | 0/29917 [00:00<?, ?it/s]"
      ]
     },
     "metadata": {},
     "output_type": "display_data"
    },
    {
     "data": {
      "text/plain": [
       "(29917, 4887, 394)"
      ]
     },
     "execution_count": 2,
     "metadata": {},
     "output_type": "execute_result"
    }
   ],
   "source": [
    "#2021\n",
    "filename_mesh = 'mesh_list_2021.pickle'\n",
    "with open(filename_mesh, 'rb') as f:\n",
    "    mesh_list = pickle.load(f)\n",
    "\n",
    "#メッシュから　メッシュIDと疾患/症状メッシュ、TreeNumber を取り出す\n",
    "#疾患メッシュ：Cのうち C22（動物)とC23.888（症状）を除外したもの）＋F03（精神障害）\n",
    "#症状メッシュ：C23.888\n",
    "mesh_diseases = [descriptor for descriptor in tqdm(mesh_list) for uid in descriptor[-1] if ((uid.startswith(\"C\")==True) & (uid.startswith(\"C22\")!=True)&(uid.startswith(\"C23.888\")!=True)) | (uid.startswith(\"F03\")==True) ]\n",
    "mesh_symptoms = [descriptor for descriptor in tqdm(mesh_list)  for uid in descriptor[-1] if (uid.startswith(\"C23.888\")==True)]\n",
    "#さらにメッシュ名だけにする＋重複削除\n",
    "mesh_diseases= pd.DataFrame(mesh_diseases)[1].drop_duplicates(keep='last').reset_index(drop=True).values.tolist()\n",
    "mesh_symptoms= pd.DataFrame(mesh_symptoms)[1].drop_duplicates(keep='last').reset_index(drop=True).values.tolist()\n",
    "\n",
    "len(mesh_list),len(mesh_diseases), len(mesh_symptoms)"
   ]
  },
  {
   "cell_type": "code",
   "execution_count": 3,
   "id": "93b65f7e",
   "metadata": {
    "scrolled": true
   },
   "outputs": [
    {
     "name": "stderr",
     "output_type": "stream",
     "text": [
      "<ipython-input-3-14f0db5d5719>:9: TqdmDeprecationWarning: This function will be removed in tqdm==5.0.0\n",
      "Please use `tqdm.notebook.tqdm` instead of `tqdm.tqdm_notebook`\n",
      "  mesh_diseases_2011 = [descriptor for descriptor in tqdm(mesh_list_2011) for uid in descriptor[-1] if ((uid.startswith(\"C\")==True) & (uid.startswith(\"C22\")!=True)&(uid.startswith(\"C23.888\")!=True)) | (uid.startswith(\"F03\")==True) ]\n"
     ]
    },
    {
     "data": {
      "application/vnd.jupyter.widget-view+json": {
       "model_id": "d0d227b38eac422bb74e4a7f2d6b3725",
       "version_major": 2,
       "version_minor": 0
      },
      "text/plain": [
       "  0%|          | 0/26142 [00:00<?, ?it/s]"
      ]
     },
     "metadata": {},
     "output_type": "display_data"
    },
    {
     "name": "stderr",
     "output_type": "stream",
     "text": [
      "<ipython-input-3-14f0db5d5719>:10: TqdmDeprecationWarning: This function will be removed in tqdm==5.0.0\n",
      "Please use `tqdm.notebook.tqdm` instead of `tqdm.tqdm_notebook`\n",
      "  mesh_symptoms_2011 = [descriptor for descriptor in tqdm(mesh_list_2011)  for uid in descriptor[-1] if (uid.startswith(\"C23.888\")==True)]\n"
     ]
    },
    {
     "data": {
      "application/vnd.jupyter.widget-view+json": {
       "model_id": "827d4c82860f466c8c6284a6213a2cca",
       "version_major": 2,
       "version_minor": 0
      },
      "text/plain": [
       "  0%|          | 0/26142 [00:00<?, ?it/s]"
      ]
     },
     "metadata": {},
     "output_type": "display_data"
    },
    {
     "data": {
      "text/plain": [
       "(26142, 4475, 328)"
      ]
     },
     "execution_count": 3,
     "metadata": {},
     "output_type": "execute_result"
    }
   ],
   "source": [
    "#2011\n",
    "filename_mesh = 'mesh_list_2011.pickle'\n",
    "with open(filename_mesh, 'rb') as f:\n",
    "    mesh_list_2011 = pickle.load(f)\n",
    "\n",
    "#メッシュから　メッシュIDと疾患/症状メッシュ、TreeNumber を取り出す\n",
    "#疾患メッシュ：Cのうち C22（動物)とC23.888（症状）を除外したもの）＋F03（精神障害）\n",
    "#症状メッシュ：C23.888\n",
    "mesh_diseases_2011 = [descriptor for descriptor in tqdm(mesh_list_2011) for uid in descriptor[-1] if ((uid.startswith(\"C\")==True) & (uid.startswith(\"C22\")!=True)&(uid.startswith(\"C23.888\")!=True)) | (uid.startswith(\"F03\")==True) ]\n",
    "mesh_symptoms_2011 = [descriptor for descriptor in tqdm(mesh_list_2011)  for uid in descriptor[-1] if (uid.startswith(\"C23.888\")==True)]\n",
    "#さらにメッシュ名だけにする＋重複削除\n",
    "mesh_diseases_2011= pd.DataFrame(mesh_diseases_2011)[1].drop_duplicates(keep='last').reset_index(drop=True).values.tolist()\n",
    "mesh_symptoms_2011= pd.DataFrame(mesh_symptoms_2011)[1].drop_duplicates(keep='last').reset_index(drop=True).values.tolist()\n",
    "\n",
    "len(mesh_list_2011),len(mesh_diseases_2011), len(mesh_symptoms_2011)"
   ]
  },
  {
   "cell_type": "code",
   "execution_count": 4,
   "id": "10f8f7f1",
   "metadata": {},
   "outputs": [
    {
     "name": "stdout",
     "output_type": "stream",
     "text": [
      "2021MeSH: 29917\n",
      "2011MeSH: 26142\n",
      "2021, 2011どちらにもあるmesh_nameの数: 25546\n",
      "2021にしかないタームの数: 4371\n",
      "2011にしかないタームの数: 596\n"
     ]
    }
   ],
   "source": [
    "#i[0] mesh unique id -> 2021, 2011どちらにもあるmesh_idの数:26019 \n",
    "all_2021 =  [i[1] for i in mesh_list]\n",
    "all_2011 =  [i[1] for i in mesh_list_2011]\n",
    "all_common = list( set(all_2021) & set(all_2011))\n",
    "print(\"2021MeSH:\", len(all_2021))\n",
    "print(\"2011MeSH:\", len(all_2011))\n",
    "print(\"2021, 2011どちらにもあるmesh_nameの数:\", len(all_common))\n",
    "only_2021 = sorted(list(set(all_2021) - set(all_common)))\n",
    "only_2011 = sorted(list(set(all_2011) - set(all_common)))\n",
    "print(\"2021にしかないタームの数:\", len(only_2021))\n",
    "print(\"2011にしかないタームの数:\", len(only_2011))"
   ]
  },
  {
   "cell_type": "code",
   "execution_count": 5,
   "id": "f55a5762",
   "metadata": {},
   "outputs": [
    {
     "name": "stdout",
     "output_type": "stream",
     "text": [
      "2021, 2011どちらにもあるdiseaseタームの数: 4409\n",
      "2021にしかないタームの数: 478\n",
      "2011にしかないタームの数: 66\n"
     ]
    }
   ],
   "source": [
    "#disease\n",
    "print(\"2021, 2011どちらにもあるdiseaseタームの数:\", len(list(set(mesh_diseases) & set(mesh_diseases_2011))))\n",
    "new_d = sorted(list(set(mesh_diseases) - set(mesh_diseases_2011)))\n",
    "old_d = sorted(list(set(mesh_diseases_2011) - set(mesh_diseases)))\n",
    "print(\"2021にしかないタームの数:\", len(new_d))\n",
    "print(\"2011にしかないタームの数:\", len(old_d))"
   ]
  },
  {
   "cell_type": "code",
   "execution_count": 6,
   "id": "7f6ec046",
   "metadata": {},
   "outputs": [
    {
     "name": "stdout",
     "output_type": "stream",
     "text": [
      "2021, 2011どちらにもあるsymptomタームの数: 318\n",
      "2021にしかないタームの数: 76\n",
      "2011にしかないタームの数: 10\n"
     ]
    }
   ],
   "source": [
    "#symptom\n",
    "print(\"2021, 2011どちらにもあるsymptomタームの数:\", len(list(set(mesh_symptoms) & set(mesh_symptoms_2011))))\n",
    "new_s = sorted(list(set(mesh_symptoms) - set(mesh_symptoms_2011)))\n",
    "old_s = sorted(list(set(mesh_symptoms_2011) - set(mesh_symptoms)))\n",
    "print(\"2021にしかないタームの数:\", len(new_s))\n",
    "print(\"2011にしかないタームの数:\", len(old_s))"
   ]
  },
  {
   "cell_type": "code",
   "execution_count": 7,
   "id": "f7bd73ce",
   "metadata": {},
   "outputs": [
    {
     "name": "stdout",
     "output_type": "stream",
     "text": [
      "2021_疾患症状どちらも持つターム数: 284\n",
      "2011_疾患症状どちらも持つターム数: 250\n",
      "['Hyperacusis', 'Ophthalmoplegic Migraine', 'Hearing Loss, Noise-Induced']\n",
      "2021, 2011どちらにもある, 疾患症状どちらも持つタームの数: 231\n"
     ]
    }
   ],
   "source": [
    "#疾患症状どちらも持つターム\n",
    "ds_2021 = list(set(mesh_diseases) & set(mesh_symptoms))\n",
    "ds_2011 = list(set(mesh_diseases_2011) & set(mesh_symptoms_2011))\n",
    "print('2021_疾患症状どちらも持つターム数:',len(ds_2021))\n",
    "print('2011_疾患症状どちらも持つターム数:',len(ds_2011))\n",
    "print(ds_2021[:3])\n",
    "ds = list(set(ds_2021) & set(ds_2011))\n",
    "print(\"2021, 2011どちらにもある, 疾患症状どちらも持つタームの数:\", len(ds))"
   ]
  },
  {
   "cell_type": "code",
   "execution_count": 8,
   "id": "6c55e8ee",
   "metadata": {},
   "outputs": [
    {
     "name": "stdout",
     "output_type": "stream",
     "text": [
      "2021にしかない,疾患症状どちらも持つタームの数: 53\n",
      "2011にしかない,疾患症状どちらも持つタームの数: 19\n"
     ]
    }
   ],
   "source": [
    "new_ds = sorted(list(set(ds_2021) - set(ds)))\n",
    "old_ds = sorted(list(set(ds_2011) - set(ds)))\n",
    "print(\"2021にしかない,疾患症状どちらも持つタームの数:\", len(new_ds))\n",
    "print(\"2011にしかない,疾患症状どちらも持つタームの数:\", len(old_ds))"
   ]
  },
  {
   "cell_type": "code",
   "execution_count": 9,
   "id": "8027e1c7",
   "metadata": {},
   "outputs": [
    {
     "name": "stdout",
     "output_type": "stream",
     "text": [
      "2021_疾患のみターム数: 4603\n",
      "2021_症状のみターム数: 110\n",
      "2021_疾患症状どちらも持つターム数: 284\n",
      "2011_疾患のみターム数: 4225\n",
      "2011_症状のみターム数: 78\n",
      "2011_疾患症状どちらも持つターム数: 250\n"
     ]
    }
   ],
   "source": [
    "only_d_2021 = sorted(list(set(mesh_diseases) - set(ds_2021)))\n",
    "only_s_2021 = sorted(list(set(mesh_symptoms) - set(ds_2021)))\n",
    "\n",
    "only_d_2011 = sorted(list(set(mesh_diseases_2011) - set(ds_2011)))\n",
    "only_s_2011 = sorted(list(set(mesh_symptoms_2011) - set(ds_2011)))\n",
    "\n",
    "print(\"2021_疾患のみターム数:\", len(only_d_2021))\n",
    "print(\"2021_症状のみターム数:\", len(only_s_2021))\n",
    "print('2021_疾患症状どちらも持つターム数:',len(ds_2021))\n",
    "print(\"2011_疾患のみターム数:\", len(only_d_2011))\n",
    "print(\"2011_症状のみターム数:\", len(only_s_2011))\n",
    "print('2011_疾患症状どちらも持つターム数:',len(ds_2011))"
   ]
  },
  {
   "cell_type": "code",
   "execution_count": 10,
   "id": "0310b0c7",
   "metadata": {},
   "outputs": [
    {
     "name": "stdout",
     "output_type": "stream",
     "text": [
      "2021, 2011どちらにもある疾患のみターム: 4161\n",
      "2021, 2011どちらにもある症状のみターム: 76\n"
     ]
    }
   ],
   "source": [
    "only_d_common = list(set(only_d_2021) & set(only_d_2011))\n",
    "only_s_common = list(set(only_s_2021) & set(only_s_2011))\n",
    "print(\"2021, 2011どちらにもある疾患のみターム:\",len(only_d_common))\n",
    "print(\"2021, 2011どちらにもある症状のみターム:\",len(only_s_common))"
   ]
  },
  {
   "cell_type": "code",
   "execution_count": 11,
   "id": "8d461288",
   "metadata": {},
   "outputs": [
    {
     "name": "stdout",
     "output_type": "stream",
     "text": [
      "2021にしかない疾患のみターム: 442\n",
      "2011にしかない疾患のみターム: 64\n"
     ]
    }
   ],
   "source": [
    "only_d_only_2021 = sorted(list(set(only_d_2021) - set(only_d_common)))\n",
    "only_d_only_2011 = sorted(list(set(only_d_2011) - set(only_d_common)))\n",
    "print(\"2021にしかない疾患のみターム:\", len(only_d_only_2021))\n",
    "print(\"2011にしかない疾患のみターム:\", len(only_d_only_2011))\n",
    "#print(\"2021, 2011どちらにもある疾患のみターム\", len(only_d_common))"
   ]
  },
  {
   "cell_type": "code",
   "execution_count": 12,
   "id": "9d963940",
   "metadata": {},
   "outputs": [
    {
     "name": "stdout",
     "output_type": "stream",
     "text": [
      "2021にしかない症状のみターム: 34\n",
      "2011にしかない症状のみターム: 2\n"
     ]
    }
   ],
   "source": [
    "only_s_only_2021 = sorted(list(set(only_s_2021) - set(only_s_common)))\n",
    "only_s_only_2011 = sorted(list(set(only_s_2011) - set(only_s_common)))\n",
    "print(\"2021にしかない症状のみターム:\", len(only_s_only_2021))\n",
    "print(\"2011にしかない症状のみターム:\", len(only_s_only_2011))\n",
    "#print(\"2021, 2011どちらにもある症状のみターム\", len(only_s_common))"
   ]
  },
  {
   "cell_type": "code",
   "execution_count": 13,
   "id": "2fb02a0d",
   "metadata": {},
   "outputs": [
    {
     "data": {
      "text/plain": [
       "['Anoxia', 'Colic']"
      ]
     },
     "execution_count": 13,
     "metadata": {},
     "output_type": "execute_result"
    }
   ],
   "source": [
    "only_s_only_2011"
   ]
  },
  {
   "cell_type": "code",
   "execution_count": 14,
   "id": "dcdf343b",
   "metadata": {},
   "outputs": [
    {
     "data": {
      "text/plain": [
       "['Acute Pain',\n",
       " 'Alert Fatigue, Health Personnel',\n",
       " 'Back Pain',\n",
       " 'Body-Weight Trajectory',\n",
       " 'Breakthrough Pain',\n",
       " 'Cancer Pain',\n",
       " 'Cellulite',\n",
       " 'Chronic Pain',\n",
       " 'Compassion Fatigue',\n",
       " 'Dizziness',\n",
       " 'Facial Pain',\n",
       " 'Failure to Thrive',\n",
       " 'Food Intolerance',\n",
       " 'Gestational Weight Gain',\n",
       " 'Headache',\n",
       " 'Hypoxia',\n",
       " 'Labor Pain',\n",
       " 'Low Back Pain',\n",
       " 'Lower Urinary Tract Symptoms',\n",
       " 'Mastodynia',\n",
       " 'Medically Unexplained Symptoms',\n",
       " 'Neck Pain',\n",
       " 'Nociceptive Pain',\n",
       " 'Pain',\n",
       " 'Pain, Intractable',\n",
       " 'Pain, Procedural',\n",
       " 'Pain, Referred',\n",
       " 'Pelvic Girdle Pain',\n",
       " 'Prodromal Symptoms',\n",
       " 'Rhinorrhea',\n",
       " 'Sleepiness',\n",
       " 'Torticollis',\n",
       " 'Travel-Related Illness',\n",
       " 'Visceral Pain']"
      ]
     },
     "execution_count": 14,
     "metadata": {},
     "output_type": "execute_result"
    }
   ],
   "source": [
    "only_s_only_2021"
   ]
  },
  {
   "cell_type": "code",
   "execution_count": null,
   "id": "997aa396",
   "metadata": {},
   "outputs": [],
   "source": []
  }
 ],
 "metadata": {
  "kernelspec": {
   "display_name": "Python 3",
   "language": "python",
   "name": "python3"
  },
  "language_info": {
   "codemirror_mode": {
    "name": "ipython",
    "version": 3
   },
   "file_extension": ".py",
   "mimetype": "text/x-python",
   "name": "python",
   "nbconvert_exporter": "python",
   "pygments_lexer": "ipython3",
   "version": "3.8.8"
  }
 },
 "nbformat": 4,
 "nbformat_minor": 5
}
