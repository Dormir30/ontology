{
 "cells": [
  {
   "cell_type": "code",
   "execution_count": 1,
   "metadata": {},
   "outputs": [],
   "source": [
    "\n",
    "#import xml.etree.ElementTree as ET\n",
    "#import defusedxml.ElementTree as ET\n",
    "\n",
    "\n",
    "#from collections import OrderedDict\n",
    "#import collections\n",
    "#from collections import Counter\n",
    "\n",
    "import os\n",
    "import pickle\n",
    "import glob\n",
    "import gzip\n",
    "from tqdm import tqdm_notebook as tqdm\n",
    "import pandas as pd\n",
    "import numpy as np\n",
    "import networkx as nx\n",
    "import matplotlib.pyplot as plt\n",
    "import matplotlib.cm as cm"
   ]
  },
  {
   "cell_type": "code",
   "execution_count": 2,
   "metadata": {},
   "outputs": [
    {
     "name": "stderr",
     "output_type": "stream",
     "text": [
      "<ipython-input-2-653cf2ddb605>:8: TqdmDeprecationWarning: This function will be removed in tqdm==5.0.0\n",
      "Please use `tqdm.notebook.tqdm` instead of `tqdm.tqdm_notebook`\n",
      "  mesh_diseases = [descriptor for descriptor in tqdm(mesh_list) for uid in descriptor[-1] if ((uid.startswith(\"C\")==True) & (uid.startswith(\"C22\")!=True)&(uid.startswith(\"C23.888\")!=True)) | (uid.startswith(\"F03\")==True) ]\n"
     ]
    },
    {
     "data": {
      "application/vnd.jupyter.widget-view+json": {
       "model_id": "0151e17f8663431eaf95d5ed166da3f3",
       "version_major": 2,
       "version_minor": 0
      },
      "text/plain": [
       "  0%|          | 0/29917 [00:00<?, ?it/s]"
      ]
     },
     "metadata": {},
     "output_type": "display_data"
    },
    {
     "name": "stderr",
     "output_type": "stream",
     "text": [
      "<ipython-input-2-653cf2ddb605>:9: TqdmDeprecationWarning: This function will be removed in tqdm==5.0.0\n",
      "Please use `tqdm.notebook.tqdm` instead of `tqdm.tqdm_notebook`\n",
      "  mesh_symptoms = [descriptor for descriptor in tqdm(mesh_list)  for uid in descriptor[-1] if (uid.startswith(\"C23.888\")==True)]\n"
     ]
    },
    {
     "data": {
      "application/vnd.jupyter.widget-view+json": {
       "model_id": "d4b5ab925adf47899f0fdc8b747c6d1b",
       "version_major": 2,
       "version_minor": 0
      },
      "text/plain": [
       "  0%|          | 0/29917 [00:00<?, ?it/s]"
      ]
     },
     "metadata": {},
     "output_type": "display_data"
    },
    {
     "data": {
      "text/plain": [
       "(29917, 4887, 394)"
      ]
     },
     "execution_count": 2,
     "metadata": {},
     "output_type": "execute_result"
    }
   ],
   "source": [
    "#MeSH 読込\n",
    "with open('mesh_list_2021.pickle', 'rb') as f:\n",
    "    mesh_list = pickle.load(f)\n",
    "\n",
    "#メッシュから　メッシュIDと疾患/症状メッシュ、TreeNumber を取り出す\n",
    "#疾患メッシュ：Cのうち C22（動物)とC23.888（症状）を除外したもの）＋F03（精神障害）\n",
    "#症状メッシュ：C23.888\n",
    "mesh_diseases = [descriptor for descriptor in tqdm(mesh_list) for uid in descriptor[-1] if ((uid.startswith(\"C\")==True) & (uid.startswith(\"C22\")!=True)&(uid.startswith(\"C23.888\")!=True)) | (uid.startswith(\"F03\")==True) ]\n",
    "mesh_symptoms = [descriptor for descriptor in tqdm(mesh_list)  for uid in descriptor[-1] if (uid.startswith(\"C23.888\")==True)]\n",
    "#さらにメッシュ名だけにする＋重複削除\n",
    "mesh_diseases= pd.DataFrame(mesh_diseases)[1].drop_duplicates(keep='last').reset_index(drop=True).values.tolist()\n",
    "mesh_symptoms= pd.DataFrame(mesh_symptoms)[1].drop_duplicates(keep='last').reset_index(drop=True).values.tolist()\n",
    "\n",
    "len(mesh_list),len(mesh_diseases), len(mesh_symptoms)"
   ]
  },
  {
   "cell_type": "code",
   "execution_count": 3,
   "metadata": {},
   "outputs": [],
   "source": [
    "os.chdir('/home/admin_user/デスクトップ/data')\n",
    "df = pd.read_csv(\"pmid_ds_pair_m2021_zhou.csv\")\n"
   ]
  },
  {
   "cell_type": "code",
   "execution_count": 4,
   "metadata": {},
   "outputs": [
    {
     "data": {
      "text/plain": [
       "145670"
      ]
     },
     "execution_count": 4,
     "metadata": {},
     "output_type": "execute_result"
    }
   ],
   "source": [
    "#共起ペアと共起数\n",
    "co_occ_pair = pd.DataFrame(df.groupby(['symptom', 'disease']).size()).reset_index()\n",
    "co_occ_pair = co_occ_pair.rename(columns={0:'co_occurrence'})\n",
    "co_occ_pair = co_occ_pair.sort_values(by = \"co_occurrence\", ascending=False).reset_index(drop=True)\n",
    "len(co_occ_pair)"
   ]
  },
  {
   "cell_type": "code",
   "execution_count": 5,
   "metadata": {},
   "outputs": [
    {
     "data": {
      "text/plain": [
       "145670"
      ]
     },
     "execution_count": 5,
     "metadata": {},
     "output_type": "execute_result"
    }
   ],
   "source": [
    "# for chi2\n",
    "chi2_pair = co_occ_pair[[\"symptom\",\"disease\"]].values.tolist()\n",
    "len(chi2_pair)"
   ]
  },
  {
   "cell_type": "code",
   "execution_count": 6,
   "metadata": {
    "scrolled": false
   },
   "outputs": [
    {
     "data": {
      "text/html": [
       "<div>\n",
       "<style scoped>\n",
       "    .dataframe tbody tr th:only-of-type {\n",
       "        vertical-align: middle;\n",
       "    }\n",
       "\n",
       "    .dataframe tbody tr th {\n",
       "        vertical-align: top;\n",
       "    }\n",
       "\n",
       "    .dataframe thead th {\n",
       "        text-align: right;\n",
       "    }\n",
       "</style>\n",
       "<table border=\"1\" class=\"dataframe\">\n",
       "  <thead>\n",
       "    <tr style=\"text-align: right;\">\n",
       "      <th>disease</th>\n",
       "      <th>22q11 Deletion Syndrome</th>\n",
       "      <th>46, XX Disorders of Sex Development</th>\n",
       "      <th>ACTH Syndrome, Ectopic</th>\n",
       "      <th>ACTH-Secreting Pituitary Adenoma</th>\n",
       "      <th>AIDS Arteritis, Central Nervous System</th>\n",
       "      <th>AIDS Dementia Complex</th>\n",
       "      <th>AIDS-Associated Nephropathy</th>\n",
       "      <th>AIDS-Related Complex</th>\n",
       "      <th>AIDS-Related Opportunistic Infections</th>\n",
       "      <th>Abdominal Abscess</th>\n",
       "      <th>...</th>\n",
       "      <th>alpha 1-Antitrypsin Deficiency</th>\n",
       "      <th>alpha-Mannosidosis</th>\n",
       "      <th>alpha-Thalassemia</th>\n",
       "      <th>beta-Mannosidosis</th>\n",
       "      <th>beta-Thalassemia</th>\n",
       "      <th>von Hippel-Lindau Disease</th>\n",
       "      <th>von Willebrand Disease, Type 2</th>\n",
       "      <th>von Willebrand Disease, Type 3</th>\n",
       "      <th>von Willebrand Diseases</th>\n",
       "      <th>Total</th>\n",
       "    </tr>\n",
       "    <tr>\n",
       "      <th>symptom</th>\n",
       "      <th></th>\n",
       "      <th></th>\n",
       "      <th></th>\n",
       "      <th></th>\n",
       "      <th></th>\n",
       "      <th></th>\n",
       "      <th></th>\n",
       "      <th></th>\n",
       "      <th></th>\n",
       "      <th></th>\n",
       "      <th></th>\n",
       "      <th></th>\n",
       "      <th></th>\n",
       "      <th></th>\n",
       "      <th></th>\n",
       "      <th></th>\n",
       "      <th></th>\n",
       "      <th></th>\n",
       "      <th></th>\n",
       "      <th></th>\n",
       "      <th></th>\n",
       "    </tr>\n",
       "  </thead>\n",
       "  <tbody>\n",
       "    <tr>\n",
       "      <th>Vomiting, Anticipatory</th>\n",
       "      <td>0</td>\n",
       "      <td>0</td>\n",
       "      <td>0</td>\n",
       "      <td>0</td>\n",
       "      <td>0</td>\n",
       "      <td>0</td>\n",
       "      <td>0</td>\n",
       "      <td>0</td>\n",
       "      <td>0</td>\n",
       "      <td>0</td>\n",
       "      <td>...</td>\n",
       "      <td>0</td>\n",
       "      <td>0</td>\n",
       "      <td>0</td>\n",
       "      <td>0</td>\n",
       "      <td>0</td>\n",
       "      <td>0</td>\n",
       "      <td>0</td>\n",
       "      <td>0</td>\n",
       "      <td>0</td>\n",
       "      <td>181</td>\n",
       "    </tr>\n",
       "    <tr>\n",
       "      <th>Waterhouse-Friderichsen Syndrome</th>\n",
       "      <td>0</td>\n",
       "      <td>0</td>\n",
       "      <td>0</td>\n",
       "      <td>0</td>\n",
       "      <td>0</td>\n",
       "      <td>0</td>\n",
       "      <td>0</td>\n",
       "      <td>0</td>\n",
       "      <td>0</td>\n",
       "      <td>0</td>\n",
       "      <td>...</td>\n",
       "      <td>0</td>\n",
       "      <td>0</td>\n",
       "      <td>0</td>\n",
       "      <td>0</td>\n",
       "      <td>0</td>\n",
       "      <td>0</td>\n",
       "      <td>0</td>\n",
       "      <td>0</td>\n",
       "      <td>0</td>\n",
       "      <td>466</td>\n",
       "    </tr>\n",
       "    <tr>\n",
       "      <th>Weight Gain</th>\n",
       "      <td>0</td>\n",
       "      <td>0</td>\n",
       "      <td>0</td>\n",
       "      <td>0</td>\n",
       "      <td>0</td>\n",
       "      <td>0</td>\n",
       "      <td>0</td>\n",
       "      <td>2</td>\n",
       "      <td>4</td>\n",
       "      <td>0</td>\n",
       "      <td>...</td>\n",
       "      <td>0</td>\n",
       "      <td>0</td>\n",
       "      <td>0</td>\n",
       "      <td>0</td>\n",
       "      <td>0</td>\n",
       "      <td>0</td>\n",
       "      <td>0</td>\n",
       "      <td>0</td>\n",
       "      <td>1</td>\n",
       "      <td>7833</td>\n",
       "    </tr>\n",
       "    <tr>\n",
       "      <th>Weight Loss</th>\n",
       "      <td>0</td>\n",
       "      <td>0</td>\n",
       "      <td>1</td>\n",
       "      <td>0</td>\n",
       "      <td>0</td>\n",
       "      <td>0</td>\n",
       "      <td>0</td>\n",
       "      <td>2</td>\n",
       "      <td>23</td>\n",
       "      <td>0</td>\n",
       "      <td>...</td>\n",
       "      <td>0</td>\n",
       "      <td>0</td>\n",
       "      <td>0</td>\n",
       "      <td>0</td>\n",
       "      <td>0</td>\n",
       "      <td>1</td>\n",
       "      <td>0</td>\n",
       "      <td>0</td>\n",
       "      <td>0</td>\n",
       "      <td>13734</td>\n",
       "    </tr>\n",
       "    <tr>\n",
       "      <th>Total</th>\n",
       "      <td>4</td>\n",
       "      <td>3</td>\n",
       "      <td>13</td>\n",
       "      <td>7</td>\n",
       "      <td>3</td>\n",
       "      <td>112</td>\n",
       "      <td>29</td>\n",
       "      <td>54</td>\n",
       "      <td>624</td>\n",
       "      <td>81</td>\n",
       "      <td>...</td>\n",
       "      <td>60</td>\n",
       "      <td>11</td>\n",
       "      <td>98</td>\n",
       "      <td>6</td>\n",
       "      <td>115</td>\n",
       "      <td>70</td>\n",
       "      <td>3</td>\n",
       "      <td>2</td>\n",
       "      <td>119</td>\n",
       "      <td>1561158</td>\n",
       "    </tr>\n",
       "  </tbody>\n",
       "</table>\n",
       "<p>5 rows × 4305 columns</p>\n",
       "</div>"
      ],
      "text/plain": [
       "disease                           22q11 Deletion Syndrome  \\\n",
       "symptom                                                     \n",
       "Vomiting, Anticipatory                                  0   \n",
       "Waterhouse-Friderichsen Syndrome                        0   \n",
       "Weight Gain                                             0   \n",
       "Weight Loss                                             0   \n",
       "Total                                                   4   \n",
       "\n",
       "disease                           46, XX Disorders of Sex Development  \\\n",
       "symptom                                                                 \n",
       "Vomiting, Anticipatory                                              0   \n",
       "Waterhouse-Friderichsen Syndrome                                    0   \n",
       "Weight Gain                                                         0   \n",
       "Weight Loss                                                         0   \n",
       "Total                                                               3   \n",
       "\n",
       "disease                           ACTH Syndrome, Ectopic  \\\n",
       "symptom                                                    \n",
       "Vomiting, Anticipatory                                 0   \n",
       "Waterhouse-Friderichsen Syndrome                       0   \n",
       "Weight Gain                                            0   \n",
       "Weight Loss                                            1   \n",
       "Total                                                 13   \n",
       "\n",
       "disease                           ACTH-Secreting Pituitary Adenoma  \\\n",
       "symptom                                                              \n",
       "Vomiting, Anticipatory                                           0   \n",
       "Waterhouse-Friderichsen Syndrome                                 0   \n",
       "Weight Gain                                                      0   \n",
       "Weight Loss                                                      0   \n",
       "Total                                                            7   \n",
       "\n",
       "disease                           AIDS Arteritis, Central Nervous System  \\\n",
       "symptom                                                                    \n",
       "Vomiting, Anticipatory                                                 0   \n",
       "Waterhouse-Friderichsen Syndrome                                       0   \n",
       "Weight Gain                                                            0   \n",
       "Weight Loss                                                            0   \n",
       "Total                                                                  3   \n",
       "\n",
       "disease                           AIDS Dementia Complex  \\\n",
       "symptom                                                   \n",
       "Vomiting, Anticipatory                                0   \n",
       "Waterhouse-Friderichsen Syndrome                      0   \n",
       "Weight Gain                                           0   \n",
       "Weight Loss                                           0   \n",
       "Total                                               112   \n",
       "\n",
       "disease                           AIDS-Associated Nephropathy  \\\n",
       "symptom                                                         \n",
       "Vomiting, Anticipatory                                      0   \n",
       "Waterhouse-Friderichsen Syndrome                            0   \n",
       "Weight Gain                                                 0   \n",
       "Weight Loss                                                 0   \n",
       "Total                                                      29   \n",
       "\n",
       "disease                           AIDS-Related Complex  \\\n",
       "symptom                                                  \n",
       "Vomiting, Anticipatory                               0   \n",
       "Waterhouse-Friderichsen Syndrome                     0   \n",
       "Weight Gain                                          2   \n",
       "Weight Loss                                          2   \n",
       "Total                                               54   \n",
       "\n",
       "disease                           AIDS-Related Opportunistic Infections  \\\n",
       "symptom                                                                   \n",
       "Vomiting, Anticipatory                                                0   \n",
       "Waterhouse-Friderichsen Syndrome                                      0   \n",
       "Weight Gain                                                           4   \n",
       "Weight Loss                                                          23   \n",
       "Total                                                               624   \n",
       "\n",
       "disease                           Abdominal Abscess  ...  \\\n",
       "symptom                                              ...   \n",
       "Vomiting, Anticipatory                            0  ...   \n",
       "Waterhouse-Friderichsen Syndrome                  0  ...   \n",
       "Weight Gain                                       0  ...   \n",
       "Weight Loss                                       0  ...   \n",
       "Total                                            81  ...   \n",
       "\n",
       "disease                           alpha 1-Antitrypsin Deficiency  \\\n",
       "symptom                                                            \n",
       "Vomiting, Anticipatory                                         0   \n",
       "Waterhouse-Friderichsen Syndrome                               0   \n",
       "Weight Gain                                                    0   \n",
       "Weight Loss                                                    0   \n",
       "Total                                                         60   \n",
       "\n",
       "disease                           alpha-Mannosidosis  alpha-Thalassemia  \\\n",
       "symptom                                                                   \n",
       "Vomiting, Anticipatory                             0                  0   \n",
       "Waterhouse-Friderichsen Syndrome                   0                  0   \n",
       "Weight Gain                                        0                  0   \n",
       "Weight Loss                                        0                  0   \n",
       "Total                                             11                 98   \n",
       "\n",
       "disease                           beta-Mannosidosis  beta-Thalassemia  \\\n",
       "symptom                                                                 \n",
       "Vomiting, Anticipatory                            0                 0   \n",
       "Waterhouse-Friderichsen Syndrome                  0                 0   \n",
       "Weight Gain                                       0                 0   \n",
       "Weight Loss                                       0                 0   \n",
       "Total                                             6               115   \n",
       "\n",
       "disease                           von Hippel-Lindau Disease  \\\n",
       "symptom                                                       \n",
       "Vomiting, Anticipatory                                    0   \n",
       "Waterhouse-Friderichsen Syndrome                          0   \n",
       "Weight Gain                                               0   \n",
       "Weight Loss                                               1   \n",
       "Total                                                    70   \n",
       "\n",
       "disease                           von Willebrand Disease, Type 2  \\\n",
       "symptom                                                            \n",
       "Vomiting, Anticipatory                                         0   \n",
       "Waterhouse-Friderichsen Syndrome                               0   \n",
       "Weight Gain                                                    0   \n",
       "Weight Loss                                                    0   \n",
       "Total                                                          3   \n",
       "\n",
       "disease                           von Willebrand Disease, Type 3  \\\n",
       "symptom                                                            \n",
       "Vomiting, Anticipatory                                         0   \n",
       "Waterhouse-Friderichsen Syndrome                               0   \n",
       "Weight Gain                                                    0   \n",
       "Weight Loss                                                    0   \n",
       "Total                                                          2   \n",
       "\n",
       "disease                           von Willebrand Diseases    Total  \n",
       "symptom                                                             \n",
       "Vomiting, Anticipatory                                  0      181  \n",
       "Waterhouse-Friderichsen Syndrome                        0      466  \n",
       "Weight Gain                                             1     7833  \n",
       "Weight Loss                                             0    13734  \n",
       "Total                                                 119  1561158  \n",
       "\n",
       "[5 rows x 4305 columns]"
      ]
     },
     "execution_count": 6,
     "metadata": {},
     "output_type": "execute_result"
    }
   ],
   "source": [
    "crosstab_df = pd.crosstab(df[\"symptom\"], df[\"disease\"], margins=True, margins_name=\"Total\")\n",
    "crosstab_df.tail()"
   ]
  },
  {
   "cell_type": "code",
   "execution_count": 7,
   "metadata": {
    "scrolled": true
   },
   "outputs": [
    {
     "name": "stderr",
     "output_type": "stream",
     "text": [
      "<ipython-input-7-5211d7ad17ad>:6: TqdmDeprecationWarning: This function will be removed in tqdm==5.0.0\n",
      "Please use `tqdm.notebook.tqdm` instead of `tqdm.tqdm_notebook`\n",
      "  for pair in tqdm(chi2_pair[:]):\n"
     ]
    },
    {
     "data": {
      "application/vnd.jupyter.widget-view+json": {
       "model_id": "acd7fada200b44db9ec7e1c34ed02fda",
       "version_major": 2,
       "version_minor": 0
      },
      "text/plain": [
       "  0%|          | 0/145670 [00:00<?, ?it/s]"
      ]
     },
     "metadata": {},
     "output_type": "display_data"
    }
   ],
   "source": [
    "from scipy.stats import chi2\n",
    "\n",
    "all_num = crosstab_df.loc[\"Total\",\"Total\"]\n",
    "\n",
    "chi2_list=[] \n",
    "for pair in tqdm(chi2_pair[:]):\n",
    "    #print(pair)\n",
    "        \n",
    "        #観測度数　()内は期待度数\n",
    "        #------------------------------------------\n",
    "        #disease         Obesity         not_Obesity         All\n",
    "        #symptom                                  \n",
    "        #Obesity         observed_1(expected_1)     observed_2(expected_2)       target_symptom_num\n",
    "        #not_Obesity     observed_3(expected_3)     observed_4(expected_4)       (all_num - target_symptom_num)\n",
    "        #All             target_disease_num        (all_num - target_disease_num)        all_num\n",
    "        \n",
    "        \n",
    "        #例\n",
    "        \n",
    "        #観測度数\n",
    "        #disease      Obesity  not_Obesity     All\n",
    "        #symptom                                  \n",
    "        #Obesity         5458         7965   13423\n",
    "        #not_Obesity     2368       112517  114885\n",
    "        #All             7826       120482  128308\n",
    "        \n",
    "        #期待度数: [\n",
    "        #    [   818.72056302  12604.27943698  13423.        ]\n",
    "        #    [  7007.27943698 107877.72056302 114885.        ]\n",
    "        #    [  7826.         120482.         128308.        ]]\n",
    "        \n",
    "        \n",
    "    #観測度数 observed\n",
    "    observed_1 = crosstab_df.loc[pair[0], pair[1]]\n",
    "    target_symptom_num = crosstab_df.loc[pair[0], \"Total\"]\n",
    "    target_disease_num = crosstab_df.loc[\"Total\", pair[1]]\n",
    "    #以下all_numは計算済み\n",
    "    observed_2 = target_symptom_num - observed_1\n",
    "    observed_3 = target_disease_num- observed_1\n",
    "    observed_4 = all_num - (observed_1 + observed_2 + observed_3)\n",
    "        \n",
    "    #期待度数 expected\n",
    "    expected_1 = target_symptom_num / all_num * target_disease_num \n",
    "    expected_2 = target_symptom_num / all_num * (all_num - target_disease_num)\n",
    "    expected_3 = (all_num - target_symptom_num) / all_num * target_disease_num \n",
    "    expected_4 = (all_num - target_symptom_num) / all_num * (all_num - target_disease_num)\n",
    "        \n",
    "    #print(observed_1, observed_2, observed_3, observed_4) #観測度数\n",
    "    #print(expected_1, expected_2, expected_3, expected_4) #期待度数\n",
    "        \n",
    "    #計算\n",
    "    #χ2 = （【観測度数-期待度数】の二乗）÷期待度数　の総和\n",
    "    chai_value = (((observed_1 - expected_1)**2)/expected_1) + (((observed_2 - expected_2)**2)/expected_2) + (((observed_3 - expected_3)**2)/expected_3) + (((observed_4 - expected_4)**2)/expected_4)\n",
    "    #p値\n",
    "    p_value = chi2.sf(chai_value, df=1) #1-sp.stats.chi2.cdf(x = chai_value ,df = 1)\n",
    "        \n",
    "    chi2_list.append([pair[0], pair[-1], chai_value, p_value ])\n",
    "chi2_df = pd.DataFrame(chi2_list)"
   ]
  },
  {
   "cell_type": "code",
   "execution_count": 8,
   "metadata": {},
   "outputs": [
    {
     "data": {
      "text/html": [
       "<div>\n",
       "<style scoped>\n",
       "    .dataframe tbody tr th:only-of-type {\n",
       "        vertical-align: middle;\n",
       "    }\n",
       "\n",
       "    .dataframe tbody tr th {\n",
       "        vertical-align: top;\n",
       "    }\n",
       "\n",
       "    .dataframe thead th {\n",
       "        text-align: right;\n",
       "    }\n",
       "</style>\n",
       "<table border=\"1\" class=\"dataframe\">\n",
       "  <thead>\n",
       "    <tr style=\"text-align: right;\">\n",
       "      <th></th>\n",
       "      <th>0</th>\n",
       "      <th>1</th>\n",
       "      <th>2</th>\n",
       "      <th>3</th>\n",
       "    </tr>\n",
       "  </thead>\n",
       "  <tbody>\n",
       "    <tr>\n",
       "      <th>0</th>\n",
       "      <td>Abdomen, Acute</td>\n",
       "      <td>AIDS-Related Opportunistic Infections</td>\n",
       "      <td>1.463352</td>\n",
       "      <td>2.263975e-01</td>\n",
       "    </tr>\n",
       "    <tr>\n",
       "      <th>1</th>\n",
       "      <td>Abdomen, Acute</td>\n",
       "      <td>Abdominal Abscess</td>\n",
       "      <td>115.613206</td>\n",
       "      <td>5.776559e-27</td>\n",
       "    </tr>\n",
       "    <tr>\n",
       "      <th>2</th>\n",
       "      <td>Abdomen, Acute</td>\n",
       "      <td>Abdominal Injuries</td>\n",
       "      <td>7309.984084</td>\n",
       "      <td>0.000000e+00</td>\n",
       "    </tr>\n",
       "    <tr>\n",
       "      <th>3</th>\n",
       "      <td>Abdomen, Acute</td>\n",
       "      <td>Abdominal Neoplasms</td>\n",
       "      <td>831.515445</td>\n",
       "      <td>7.589260e-183</td>\n",
       "    </tr>\n",
       "    <tr>\n",
       "      <th>4</th>\n",
       "      <td>Abdomen, Acute</td>\n",
       "      <td>Abnormalities, Multiple</td>\n",
       "      <td>18.892903</td>\n",
       "      <td>1.382661e-05</td>\n",
       "    </tr>\n",
       "  </tbody>\n",
       "</table>\n",
       "</div>"
      ],
      "text/plain": [
       "                0                                      1            2  \\\n",
       "0  Abdomen, Acute  AIDS-Related Opportunistic Infections     1.463352   \n",
       "1  Abdomen, Acute                      Abdominal Abscess   115.613206   \n",
       "2  Abdomen, Acute                     Abdominal Injuries  7309.984084   \n",
       "3  Abdomen, Acute                    Abdominal Neoplasms   831.515445   \n",
       "4  Abdomen, Acute                Abnormalities, Multiple    18.892903   \n",
       "\n",
       "               3  \n",
       "0   2.263975e-01  \n",
       "1   5.776559e-27  \n",
       "2   0.000000e+00  \n",
       "3  7.589260e-183  \n",
       "4   1.382661e-05  "
      ]
     },
     "execution_count": 8,
     "metadata": {},
     "output_type": "execute_result"
    }
   ],
   "source": [
    "chi2_df = chi2_df.sort_values(by=[0,1]).reset_index(drop=True)\n",
    "chi2_df.head()"
   ]
  },
  {
   "cell_type": "code",
   "execution_count": 9,
   "metadata": {},
   "outputs": [],
   "source": [
    "#chi2_df整形\n",
    "chi2_df = chi2_df.reset_index(drop=True)\n",
    "chi2_df.columns=[\"symptom\", \"disease\", \"chi2\", \"p\"]\n",
    "chi2_df[\"1-p\"] = 1-chi2_df[\"p\"]\n",
    "chi2_df = chi2_df.sort_values(by=\"1-p\", ascending=True).reset_index(drop=True)\n",
    "chi2_df[\"Np\"] = chi2_df.index\n"
   ]
  },
  {
   "cell_type": "code",
   "execution_count": 10,
   "metadata": {},
   "outputs": [
    {
     "name": "stdout",
     "output_type": "stream",
     "text": [
      "0.8815581684341661\n",
      "index number:  7283\n"
     ]
    },
    {
     "data": {
      "text/html": [
       "<div>\n",
       "<style scoped>\n",
       "    .dataframe tbody tr th:only-of-type {\n",
       "        vertical-align: middle;\n",
       "    }\n",
       "\n",
       "    .dataframe tbody tr th {\n",
       "        vertical-align: top;\n",
       "    }\n",
       "\n",
       "    .dataframe thead th {\n",
       "        text-align: right;\n",
       "    }\n",
       "</style>\n",
       "<table border=\"1\" class=\"dataframe\">\n",
       "  <thead>\n",
       "    <tr style=\"text-align: right;\">\n",
       "      <th></th>\n",
       "      <th>symptom</th>\n",
       "      <th>disease</th>\n",
       "      <th>chi2</th>\n",
       "      <th>p</th>\n",
       "      <th>1-p</th>\n",
       "      <th>Np</th>\n",
       "    </tr>\n",
       "  </thead>\n",
       "  <tbody>\n",
       "    <tr>\n",
       "      <th>7283</th>\n",
       "      <td>Pain</td>\n",
       "      <td>Amyloidosis</td>\n",
       "      <td>0.022198</td>\n",
       "      <td>0.881563</td>\n",
       "      <td>0.118437</td>\n",
       "      <td>7283</td>\n",
       "    </tr>\n",
       "  </tbody>\n",
       "</table>\n",
       "</div>"
      ],
      "text/plain": [
       "     symptom      disease      chi2         p       1-p    Np\n",
       "7283    Pain  Amyloidosis  0.022198  0.881563  0.118437  7283"
      ]
     },
     "execution_count": 10,
     "metadata": {},
     "output_type": "execute_result"
    }
   ],
   "source": [
    "#p値でカットオフ\n",
    "\n",
    "#95％のところにあるp値\n",
    "import numpy as np\n",
    "\n",
    "num = np.percentile(np.array(chi2_df[\"p\"]), 95) \n",
    "print(num)\n",
    "#その値に最も近いp値のインデックスを取得\n",
    "index = np.abs(chi2_df[\"p\"] - num).argsort()[0].tolist()\n",
    "\n",
    "#５％のところにある1-pでも同じ\n",
    "#index = np.abs(chi2_df[\"1-p\"] -np.percentile(np.array(chi2_df[\"1-p\"]), 5)).argsort()[0].tolist()\n",
    "\n",
    "print(\"index number: \", index)\n",
    "chi2_df[index:index+1]"
   ]
  },
  {
   "cell_type": "code",
   "execution_count": 11,
   "metadata": {},
   "outputs": [
    {
     "name": "stdout",
     "output_type": "stream",
     "text": [
      "0 0 → 0.11843744366544717 7283\n"
     ]
    }
   ],
   "source": [
    "#プロット\n",
    "\n",
    "def calc_slope_intersept(x1, y1, x2, y2):\n",
    "    a = (y1 - y2) / (x1 - x2)\n",
    "    b = y1 - a * x1\n",
    "    return (a, b)\n",
    "\n",
    "#座標の最小値と最大値を設定\n",
    "x1 = 0\n",
    "y1 = 0\n",
    "x2 = chi2_df.loc[index, \"1-p\"]\n",
    "y2 = chi2_df.loc[index, \"Np\"]\n",
    "print(x1, y1, \"→\", x2, y2)\n",
    "\n",
    "if __name__ == \"__main__\":\n",
    "    a, b = calc_slope_intersept(x1, y1, x2, y2)"
   ]
  },
  {
   "cell_type": "code",
   "execution_count": 12,
   "metadata": {},
   "outputs": [
    {
     "data": {
      "image/png": "[encoded data removed]",
      "text/plain": [
       "<Figure size 576x360 with 1 Axes>"
      ]
     },
     "metadata": {
      "needs_background": "light"
     },
     "output_type": "display_data"
    }
   ],
   "source": [
    "import sqlalchemy\n",
    "from matplotlib.ticker import ScalarFormatter\n",
    "\n",
    "fig = plt.figure(figsize=(8,5))\n",
    "plt.style.use('seaborn-whitegrid')\n",
    "ax = fig.add_subplot(1,1,1)\n",
    "ax.set_xticks([i/10 for i in range(0,12,1)])\n",
    "ax.yaxis.set_major_formatter(ScalarFormatter(useMathText=True))\n",
    "ax.ticklabel_format(style=\"sci\",  axis=\"y\",scilimits=(0,0))\n",
    "#ax.set_title(\"\")\n",
    "ax.set_xlabel('1-p')\n",
    "ax.set_ylabel('Np')\n",
    "\n",
    "#曲線\n",
    "x2 = chi2_df[\"1-p\"]\n",
    "y2 = chi2_df[\"Np\"]\n",
    "plt.plot(x2, y2, linewidth=5, color=\"c\", alpha=0.5)\n",
    "\n",
    "#(0,0)と最大値の2点を直線で結ぶ\n",
    "plt.plot([0, 1.1], [0, a*1.1],  linewidth=3, color=\"hotpink\", alpha=1)\n",
    "plt.grid(True)\n",
    "plt.show()"
   ]
  },
  {
   "cell_type": "code",
   "execution_count": 13,
   "metadata": {},
   "outputs": [
    {
     "data": {
      "text/html": [
       "<div>\n",
       "<style scoped>\n",
       "    .dataframe tbody tr th:only-of-type {\n",
       "        vertical-align: middle;\n",
       "    }\n",
       "\n",
       "    .dataframe tbody tr th {\n",
       "        vertical-align: top;\n",
       "    }\n",
       "\n",
       "    .dataframe thead th {\n",
       "        text-align: right;\n",
       "    }\n",
       "</style>\n",
       "<table border=\"1\" class=\"dataframe\">\n",
       "  <thead>\n",
       "    <tr style=\"text-align: right;\">\n",
       "      <th></th>\n",
       "      <th>symptom</th>\n",
       "      <th>disease</th>\n",
       "      <th>chi2</th>\n",
       "      <th>p</th>\n",
       "      <th>1-p</th>\n",
       "      <th>Np</th>\n",
       "    </tr>\n",
       "  </thead>\n",
       "  <tbody>\n",
       "  </tbody>\n",
       "</table>\n",
       "</div>"
      ],
      "text/plain": [
       "Empty DataFrame\n",
       "Columns: [symptom, disease, chi2, p, 1-p, Np]\n",
       "Index: []"
      ]
     },
     "execution_count": 13,
     "metadata": {},
     "output_type": "execute_result"
    }
   ],
   "source": [
    "chi2_df[chi2_df.duplicated()] #重複行は無し"
   ]
  },
  {
   "cell_type": "code",
   "execution_count": 14,
   "metadata": {},
   "outputs": [],
   "source": [
    "#共起ペアを作成し直すための準備（P値は0.05未満のもののみを抽出）"
   ]
  },
  {
   "cell_type": "code",
   "execution_count": 15,
   "metadata": {},
   "outputs": [
    {
     "data": {
      "text/plain": [
       "(69354, 7283)"
      ]
     },
     "execution_count": 15,
     "metadata": {},
     "output_type": "execute_result"
    }
   ],
   "source": [
    "len(chi2_df[chi2_df[\"p\"]<0.05]), len(chi2_df[:7283])"
   ]
  },
  {
   "cell_type": "code",
   "execution_count": 16,
   "metadata": {},
   "outputs": [],
   "source": [
    "#0.05で切った共起ぺアと共起数をセットにする\n",
    "\n",
    "#χ二乗検定のp値0.05未満のデータとco_occ_pairをマージさせ、ペア・共起数を抽出する\n",
    "cutoff_pair = chi2_df[chi2_df[\"p\"]<0.05].merge(co_occ_pair, on=[\"symptom\", \"disease\"])\n",
    "cutoff_pair = cutoff_pair.sort_values(by='co_occurrence', ascending=False).reset_index(drop=True)"
   ]
  },
  {
   "cell_type": "code",
   "execution_count": 17,
   "metadata": {
    "scrolled": true
   },
   "outputs": [
    {
     "name": "stdout",
     "output_type": "stream",
     "text": [
      "145670\n",
      "69354\n"
     ]
    }
   ],
   "source": [
    "#カットオフ前後の共起ペアの件数確認 少なくなっているか\n",
    "print(len(co_occ_pair))\n",
    "print(len(cutoff_pair))"
   ]
  },
  {
   "cell_type": "code",
   "execution_count": 18,
   "metadata": {},
   "outputs": [],
   "source": [
    "co_occ_pair.to_csv(\"ds_pair_m2021_zhou.csv\", index=False)\n",
    "cutoff_pair.to_csv(\"ds_pair_m2021_zhou_cut.csv\", index=False)"
   ]
  },
  {
   "cell_type": "code",
   "execution_count": 19,
   "metadata": {},
   "outputs": [
    {
     "name": "stdout",
     "output_type": "stream",
     "text": [
      "co_occ_pair: 1561158\n",
      "cutoff_pair: 1364910\n"
     ]
    }
   ],
   "source": [
    "print(\"co_occ_pair:\", co_occ_pair[\"co_occurrence\"].sum())\n",
    "print(\"cutoff_pair:\", cutoff_pair[\"co_occurrence\"].sum())"
   ]
  },
  {
   "cell_type": "code",
   "execution_count": 20,
   "metadata": {},
   "outputs": [
    {
     "name": "stdout",
     "output_type": "stream",
     "text": [
      "co_occ_unique_disease: 4304\n",
      "co_occ_unique_symptom: 357\n"
     ]
    }
   ],
   "source": [
    "print(\"co_occ_unique_disease:\", co_occ_pair[\"disease\"].nunique())\n",
    "print(\"co_occ_unique_symptom:\", co_occ_pair[\"symptom\"].nunique())"
   ]
  },
  {
   "cell_type": "code",
   "execution_count": null,
   "metadata": {},
   "outputs": [],
   "source": []
  }
 ],
 "metadata": {
  "kernelspec": {
   "display_name": "Python 3",
   "language": "python",
   "name": "python3"
  },
  "language_info": {
   "codemirror_mode": {
    "name": "ipython",
    "version": 3
   },
   "file_extension": ".py",
   "mimetype": "text/x-python",
   "name": "python",
   "nbconvert_exporter": "python",
   "pygments_lexer": "ipython3",
   "version": "3.8.8"
  }
 },
 "nbformat": 4,
 "nbformat_minor": 2
}
