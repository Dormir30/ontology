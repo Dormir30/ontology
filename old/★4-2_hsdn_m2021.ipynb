{
 "cells": [
  {
   "cell_type": "code",
   "execution_count": 1,
   "metadata": {},
   "outputs": [],
   "source": [
    "#from collections import OrderedDict\n",
    "#import collections\n",
    "#from collections import Counter\n",
    "\n",
    "import os\n",
    "import pickle\n",
    "import glob\n",
    "import gzip\n",
    "from tqdm.notebook import tqdm\n",
    "import pandas as pd\n",
    "import numpy as np\n",
    "import networkx as nx\n",
    "import matplotlib.pyplot as plt\n",
    "import matplotlib.cm as cm"
   ]
  },
  {
   "cell_type": "code",
   "execution_count": 2,
   "metadata": {},
   "outputs": [],
   "source": [
    "filename_mesh = 'mesh_list_2021.pickle'\n",
    "filename_1 = \"ds_pair_m2021.csv\""
   ]
  },
  {
   "cell_type": "code",
   "execution_count": 3,
   "metadata": {
    "scrolled": false
   },
   "outputs": [
    {
     "data": {
      "application/vnd.jupyter.widget-view+json": {
       "model_id": "124a738101794d48be25fcf0285ded73",
       "version_major": 2,
       "version_minor": 0
      },
      "text/plain": [
       "  0%|          | 0/29917 [00:00<?, ?it/s]"
      ]
     },
     "metadata": {},
     "output_type": "display_data"
    },
    {
     "data": {
      "application/vnd.jupyter.widget-view+json": {
       "model_id": "654e9cb9cbc242218c9b64b6a75d0f31",
       "version_major": 2,
       "version_minor": 0
      },
      "text/plain": [
       "  0%|          | 0/29917 [00:00<?, ?it/s]"
      ]
     },
     "metadata": {},
     "output_type": "display_data"
    },
    {
     "data": {
      "text/plain": [
       "(29917, 4887, 394)"
      ]
     },
     "execution_count": 3,
     "metadata": {},
     "output_type": "execute_result"
    }
   ],
   "source": [
    "#MeSH 読込\n",
    "with open(filename_mesh, 'rb') as f:\n",
    "    mesh_list = pickle.load(f)\n",
    "\n",
    "#メッシュから　メッシュIDと疾患/症状メッシュ、TreeNumber を取り出す\n",
    "#疾患メッシュ：Cのうち C22（動物)とC23.888（症状）を除外したもの）＋F03（精神障害）\n",
    "#症状メッシュ：C23.888\n",
    "mesh_diseases = [descriptor for descriptor in tqdm(mesh_list) for uid in descriptor[-1] if ((uid.startswith(\"C\")==True) & (uid.startswith(\"C22\")!=True)&(uid.startswith(\"C23.888\")!=True)) | (uid.startswith(\"F03\")==True) ]\n",
    "mesh_symptoms = [descriptor for descriptor in tqdm(mesh_list)  for uid in descriptor[-1] if (uid.startswith(\"C23.888\")==True)]\n",
    "#さらにメッシュ名だけにする＋重複削除\n",
    "mesh_diseases= pd.DataFrame(mesh_diseases)[1].drop_duplicates(keep='last').reset_index(drop=True).values.tolist()\n",
    "mesh_symptoms= pd.DataFrame(mesh_symptoms)[1].drop_duplicates(keep='last').reset_index(drop=True).values.tolist()\n",
    "\n",
    "len(mesh_list),len(mesh_diseases), len(mesh_symptoms)"
   ]
  },
  {
   "cell_type": "code",
   "execution_count": 4,
   "metadata": {},
   "outputs": [],
   "source": [
    "os.chdir('/home/admin_user/デスクトップ/data')\n",
    "co_occ_pair = pd.read_csv(filename_1)\n",
    "co_occ_pair =co_occ_pair[['symptom', 'disease', 'co_occurrence']]"
   ]
  },
  {
   "cell_type": "code",
   "execution_count": 5,
   "metadata": {},
   "outputs": [],
   "source": [
    "#TF-IDF計算"
   ]
  },
  {
   "cell_type": "code",
   "execution_count": 6,
   "metadata": {},
   "outputs": [
    {
     "data": {
      "text/plain": [
       "385"
      ]
     },
     "execution_count": 6,
     "metadata": {},
     "output_type": "execute_result"
    }
   ],
   "source": [
    "#symptomとペアになるdisease総数\n",
    "idf_n_i = co_occ_pair.groupby(\"symptom\").count().reset_index()[[\"symptom\", \"disease\"]].values.tolist()\n",
    "len(idf_n_i)"
   ]
  },
  {
   "cell_type": "code",
   "execution_count": 7,
   "metadata": {},
   "outputs": [
    {
     "data": {
      "application/vnd.jupyter.widget-view+json": {
       "model_id": "b2904553a334425aa56a7e6cb7188218",
       "version_major": 2,
       "version_minor": 0
      },
      "text/plain": [
       "  0%|          | 0/197466 [00:00<?, ?it/s]"
      ]
     },
     "metadata": {},
     "output_type": "display_data"
    }
   ],
   "source": [
    "\n",
    "tfidf_list=[]\n",
    "N = co_occ_pair[\"disease\"].nunique() #3602 #全疾患の種類数\n",
    "\n",
    "for pair in tqdm(co_occ_pair.values.tolist()): #co_occ_pair：共起ペアと共起数\n",
    "    for symptom in idf_n_i: #idf_n_i：symptomとdisease総数\n",
    "        \n",
    "        if pair[0]==symptom[0]: #同じsymptomだったら\n",
    "            \n",
    "            #バラバシ数式\n",
    "            W_ij = pair[-1] #diseaseとの共起数\n",
    "            n_i = symptom[1] #symptomとペアになるdisease総数\n",
    "            tfidf_value = W_ij*np.log(N /n_i) \n",
    "            \n",
    "            tfidf_list.append([pair[0],  pair[1], W_ij, n_i, tfidf_value])\n",
    "\n",
    "tfidf = pd.DataFrame(tfidf_list, columns=[\"symptom\",\"disease\",\"co_occurence\", \"disease_num\", \"tf_idf\"])\n",
    "#disease_num：symptomとペアになるdisease総数\n",
    "tfidf = tfidf.sort_values(by=\"tf_idf\", ascending=False).reset_index(drop=True)\n"
   ]
  },
  {
   "cell_type": "code",
   "execution_count": 8,
   "metadata": {},
   "outputs": [
    {
     "data": {
      "text/plain": [
       "3872199.9626107407"
      ]
     },
     "execution_count": 8,
     "metadata": {},
     "output_type": "execute_result"
    }
   ],
   "source": [
    "tfidf[\"tf_idf\"].sum()"
   ]
  },
  {
   "cell_type": "code",
   "execution_count": 9,
   "metadata": {},
   "outputs": [
    {
     "name": "stdout",
     "output_type": "stream",
     "text": [
      "3872199.9626107393\n"
     ]
    }
   ],
   "source": [
    "#行列の形にする\n",
    "pivot_tfidf_df = tfidf.pivot(index='disease', columns='symptom', values='tf_idf').fillna(0)\n",
    "print(pivot_tfidf_df.sum().sum())"
   ]
  },
  {
   "cell_type": "code",
   "execution_count": 10,
   "metadata": {},
   "outputs": [
    {
     "data": {
      "image/png": "[encoded data removed]",
      "text/plain": [
       "<Figure size 864x288 with 1 Axes>"
      ]
     },
     "metadata": {
      "needs_background": "light"
     },
     "output_type": "display_data"
    }
   ],
   "source": [
    "#疾患・症状のTFIDFがゼロより大きい値を取り出した時の可視化\n",
    "\n",
    "plt.figure(figsize=(12,4))\n",
    "\n",
    "#TFIDFの数\n",
    "#plt.subplot(121)\n",
    "each_disease_sum_vector = [sum(pivot_tfidf_df.loc[disease, :]>0) for disease in pivot_tfidf_df.index]\n",
    "plt.hist(each_disease_sum_vector,color='c', bins=len(set(each_disease_sum_vector)), alpha=0.8)\n",
    "plt.xlabel('sum')\n",
    "plt.ylabel(\"frequency\")\n",
    "plt.show()"
   ]
  },
  {
   "cell_type": "code",
   "execution_count": 11,
   "metadata": {},
   "outputs": [],
   "source": [
    "#コサイン類似度　計算"
   ]
  },
  {
   "cell_type": "code",
   "execution_count": 12,
   "metadata": {},
   "outputs": [
    {
     "name": "stdout",
     "output_type": "stream",
     "text": [
      "4679\n"
     ]
    }
   ],
   "source": [
    "#コサイン算出用データフレームを作る\n",
    "pre_cosine_df = tfidf.sort_values(['symptom', 'disease'])[['symptom', 'disease',\"tf_idf\"]].reset_index(drop=True)\n",
    "pre_cosine_df = pd.pivot_table(pre_cosine_df, index='disease', columns='symptom', values=\"tf_idf\")\n",
    "pre_cosine_df = pre_cosine_df.fillna(0)#欠損値に0を入れる\n",
    "#疾患個数\n",
    "print(len(pre_cosine_df.index))"
   ]
  },
  {
   "cell_type": "code",
   "execution_count": 13,
   "metadata": {},
   "outputs": [
    {
     "name": "stdout",
     "output_type": "stream",
     "text": [
      "21893041\n",
      "('22q11 Deletion Syndrome', '22q11 Deletion Syndrome') ('22q11 Deletion Syndrome', '46, XX Disorders of Sex Development')\n"
     ]
    }
   ],
   "source": [
    "#疾患ペア(直積ペア)を作る\n",
    "import itertools\n",
    "product_list = list(itertools.product(pre_cosine_df.index, pre_cosine_df.index))\n",
    "print(len(product_list))\n",
    "print(product_list[0], product_list[1])"
   ]
  },
  {
   "cell_type": "code",
   "execution_count": 14,
   "metadata": {},
   "outputs": [],
   "source": [
    "#tfidf行列を疾患（＝行）ごとに分けて直積ペアを作る\n",
    "vectors = [each_vectors for each_vectors in np.array(pre_cosine_df)]\n",
    "vectors_list = list(itertools.product(vectors, vectors))"
   ]
  },
  {
   "cell_type": "code",
   "execution_count": 15,
   "metadata": {
    "scrolled": true
   },
   "outputs": [
    {
     "data": {
      "application/vnd.jupyter.widget-view+json": {
       "model_id": "86f7e421023a47d5a10f4e1eb76fbb59",
       "version_major": 2,
       "version_minor": 0
      },
      "text/plain": [
       "0it [00:00, ?it/s]"
      ]
     },
     "metadata": {},
     "output_type": "display_data"
    }
   ],
   "source": [
    "#コサイン類似度\n",
    "\n",
    "#計算式\n",
    "def cosine_similarity(x, y):#xとyはベクトルの成分\n",
    "    return (np.dot(x, y) / (np.sqrt(np.dot(x, x)) * np.sqrt(np.dot(y, y))))\n",
    "\n",
    "#直積ペアにコサイン類似度計算を適用 \n",
    "cosine_similarity_list = []\n",
    "for disease_pair, vector in tqdm(zip( product_list, vectors_list )):\n",
    "    cosine_similarity_list.append([disease_pair[0], disease_pair[-1], cosine_similarity(vector[0], vector[1])])"
   ]
  },
  {
   "cell_type": "code",
   "execution_count": 17,
   "metadata": {},
   "outputs": [
    {
     "name": "stdout",
     "output_type": "stream",
     "text": [
      "21893041 4679\n"
     ]
    }
   ],
   "source": [
    "#データフレーム化\n",
    "cosine_df = pd.DataFrame(cosine_similarity_list, columns=[\"disease_1\", \"disease_2\", \"cosine_similarity\"])\n",
    "cosine_df = cosine_df.sort_values(\"cosine_similarity\", ascending=False).reset_index(drop=True)\n",
    "pivot_cosine_df = cosine_df.pivot(index='disease_1', columns='disease_2', values='cosine_similarity')#.fillna(0)\n",
    "print(len(cosine_df), len(pivot_cosine_df))"
   ]
  },
  {
   "cell_type": "code",
   "execution_count": 18,
   "metadata": {},
   "outputs": [],
   "source": [
    "#インデックスを取得\n",
    "pivot_index = pivot_cosine_df.index.tolist()"
   ]
  },
  {
   "cell_type": "code",
   "execution_count": 19,
   "metadata": {
    "scrolled": false
   },
   "outputs": [
    {
     "data": {
      "text/html": [
       "<div>\n",
       "<style scoped>\n",
       "    .dataframe tbody tr th:only-of-type {\n",
       "        vertical-align: middle;\n",
       "    }\n",
       "\n",
       "    .dataframe tbody tr th {\n",
       "        vertical-align: top;\n",
       "    }\n",
       "\n",
       "    .dataframe thead th {\n",
       "        text-align: right;\n",
       "    }\n",
       "</style>\n",
       "<table border=\"1\" class=\"dataframe\">\n",
       "  <thead>\n",
       "    <tr style=\"text-align: right;\">\n",
       "      <th>disease_2</th>\n",
       "      <th>22q11 Deletion Syndrome</th>\n",
       "      <th>46, XX Disorders of Sex Development</th>\n",
       "      <th>ACTH Syndrome, Ectopic</th>\n",
       "      <th>ACTH-Secreting Pituitary Adenoma</th>\n",
       "      <th>AIDS Arteritis, Central Nervous System</th>\n",
       "      <th>AIDS Dementia Complex</th>\n",
       "      <th>AIDS-Associated Nephropathy</th>\n",
       "      <th>AIDS-Related Complex</th>\n",
       "      <th>AIDS-Related Opportunistic Infections</th>\n",
       "      <th>Abdominal Abscess</th>\n",
       "      <th>...</th>\n",
       "      <th>alpha 1-Antitrypsin Deficiency</th>\n",
       "      <th>alpha-Mannosidosis</th>\n",
       "      <th>alpha-Thalassemia</th>\n",
       "      <th>beta-Mannosidosis</th>\n",
       "      <th>beta-Thalassemia</th>\n",
       "      <th>von Hippel-Lindau Disease</th>\n",
       "      <th>von Willebrand Disease, Type 1</th>\n",
       "      <th>von Willebrand Disease, Type 2</th>\n",
       "      <th>von Willebrand Disease, Type 3</th>\n",
       "      <th>von Willebrand Diseases</th>\n",
       "    </tr>\n",
       "    <tr>\n",
       "      <th>disease_1</th>\n",
       "      <th></th>\n",
       "      <th></th>\n",
       "      <th></th>\n",
       "      <th></th>\n",
       "      <th></th>\n",
       "      <th></th>\n",
       "      <th></th>\n",
       "      <th></th>\n",
       "      <th></th>\n",
       "      <th></th>\n",
       "      <th></th>\n",
       "      <th></th>\n",
       "      <th></th>\n",
       "      <th></th>\n",
       "      <th></th>\n",
       "      <th></th>\n",
       "      <th></th>\n",
       "      <th></th>\n",
       "      <th></th>\n",
       "      <th></th>\n",
       "      <th></th>\n",
       "    </tr>\n",
       "  </thead>\n",
       "  <tbody>\n",
       "    <tr>\n",
       "      <th>22q11 Deletion Syndrome</th>\n",
       "      <td>0.00000</td>\n",
       "      <td>0.0000</td>\n",
       "      <td>0.0</td>\n",
       "      <td>0.0</td>\n",
       "      <td>0.0</td>\n",
       "      <td>0.0</td>\n",
       "      <td>0.0</td>\n",
       "      <td>0.0</td>\n",
       "      <td>0.0</td>\n",
       "      <td>0.0</td>\n",
       "      <td>...</td>\n",
       "      <td>0.0</td>\n",
       "      <td>0.0</td>\n",
       "      <td>0.0</td>\n",
       "      <td>0.0</td>\n",
       "      <td>0.0</td>\n",
       "      <td>0.0</td>\n",
       "      <td>0.0</td>\n",
       "      <td>0.0</td>\n",
       "      <td>0.0</td>\n",
       "      <td>0.0</td>\n",
       "    </tr>\n",
       "    <tr>\n",
       "      <th>46, XX Disorders of Sex Development</th>\n",
       "      <td>0.00408</td>\n",
       "      <td>0.0000</td>\n",
       "      <td>0.0</td>\n",
       "      <td>0.0</td>\n",
       "      <td>0.0</td>\n",
       "      <td>0.0</td>\n",
       "      <td>0.0</td>\n",
       "      <td>0.0</td>\n",
       "      <td>0.0</td>\n",
       "      <td>0.0</td>\n",
       "      <td>...</td>\n",
       "      <td>0.0</td>\n",
       "      <td>0.0</td>\n",
       "      <td>0.0</td>\n",
       "      <td>0.0</td>\n",
       "      <td>0.0</td>\n",
       "      <td>0.0</td>\n",
       "      <td>0.0</td>\n",
       "      <td>0.0</td>\n",
       "      <td>0.0</td>\n",
       "      <td>0.0</td>\n",
       "    </tr>\n",
       "    <tr>\n",
       "      <th>ACTH Syndrome, Ectopic</th>\n",
       "      <td>0.00000</td>\n",
       "      <td>0.1101</td>\n",
       "      <td>0.0</td>\n",
       "      <td>0.0</td>\n",
       "      <td>0.0</td>\n",
       "      <td>0.0</td>\n",
       "      <td>0.0</td>\n",
       "      <td>0.0</td>\n",
       "      <td>0.0</td>\n",
       "      <td>0.0</td>\n",
       "      <td>...</td>\n",
       "      <td>0.0</td>\n",
       "      <td>0.0</td>\n",
       "      <td>0.0</td>\n",
       "      <td>0.0</td>\n",
       "      <td>0.0</td>\n",
       "      <td>0.0</td>\n",
       "      <td>0.0</td>\n",
       "      <td>0.0</td>\n",
       "      <td>0.0</td>\n",
       "      <td>0.0</td>\n",
       "    </tr>\n",
       "    <tr>\n",
       "      <th>ACTH-Secreting Pituitary Adenoma</th>\n",
       "      <td>0.00000</td>\n",
       "      <td>0.0000</td>\n",
       "      <td>0.0</td>\n",
       "      <td>0.0</td>\n",
       "      <td>0.0</td>\n",
       "      <td>0.0</td>\n",
       "      <td>0.0</td>\n",
       "      <td>0.0</td>\n",
       "      <td>0.0</td>\n",
       "      <td>0.0</td>\n",
       "      <td>...</td>\n",
       "      <td>0.0</td>\n",
       "      <td>0.0</td>\n",
       "      <td>0.0</td>\n",
       "      <td>0.0</td>\n",
       "      <td>0.0</td>\n",
       "      <td>0.0</td>\n",
       "      <td>0.0</td>\n",
       "      <td>0.0</td>\n",
       "      <td>0.0</td>\n",
       "      <td>0.0</td>\n",
       "    </tr>\n",
       "    <tr>\n",
       "      <th>AIDS Arteritis, Central Nervous System</th>\n",
       "      <td>0.00000</td>\n",
       "      <td>0.0000</td>\n",
       "      <td>0.0</td>\n",
       "      <td>0.0</td>\n",
       "      <td>0.0</td>\n",
       "      <td>0.0</td>\n",
       "      <td>0.0</td>\n",
       "      <td>0.0</td>\n",
       "      <td>0.0</td>\n",
       "      <td>0.0</td>\n",
       "      <td>...</td>\n",
       "      <td>0.0</td>\n",
       "      <td>0.0</td>\n",
       "      <td>0.0</td>\n",
       "      <td>0.0</td>\n",
       "      <td>0.0</td>\n",
       "      <td>0.0</td>\n",
       "      <td>0.0</td>\n",
       "      <td>0.0</td>\n",
       "      <td>0.0</td>\n",
       "      <td>0.0</td>\n",
       "    </tr>\n",
       "  </tbody>\n",
       "</table>\n",
       "<p>5 rows × 4679 columns</p>\n",
       "</div>"
      ],
      "text/plain": [
       "disease_2                               22q11 Deletion Syndrome  \\\n",
       "disease_1                                                         \n",
       "22q11 Deletion Syndrome                                 0.00000   \n",
       "46, XX Disorders of Sex Development                     0.00408   \n",
       "ACTH Syndrome, Ectopic                                  0.00000   \n",
       "ACTH-Secreting Pituitary Adenoma                        0.00000   \n",
       "AIDS Arteritis, Central Nervous System                  0.00000   \n",
       "\n",
       "disease_2                               46, XX Disorders of Sex Development  \\\n",
       "disease_1                                                                     \n",
       "22q11 Deletion Syndrome                                              0.0000   \n",
       "46, XX Disorders of Sex Development                                  0.0000   \n",
       "ACTH Syndrome, Ectopic                                               0.1101   \n",
       "ACTH-Secreting Pituitary Adenoma                                     0.0000   \n",
       "AIDS Arteritis, Central Nervous System                               0.0000   \n",
       "\n",
       "disease_2                               ACTH Syndrome, Ectopic  \\\n",
       "disease_1                                                        \n",
       "22q11 Deletion Syndrome                                    0.0   \n",
       "46, XX Disorders of Sex Development                        0.0   \n",
       "ACTH Syndrome, Ectopic                                     0.0   \n",
       "ACTH-Secreting Pituitary Adenoma                           0.0   \n",
       "AIDS Arteritis, Central Nervous System                     0.0   \n",
       "\n",
       "disease_2                               ACTH-Secreting Pituitary Adenoma  \\\n",
       "disease_1                                                                  \n",
       "22q11 Deletion Syndrome                                              0.0   \n",
       "46, XX Disorders of Sex Development                                  0.0   \n",
       "ACTH Syndrome, Ectopic                                               0.0   \n",
       "ACTH-Secreting Pituitary Adenoma                                     0.0   \n",
       "AIDS Arteritis, Central Nervous System                               0.0   \n",
       "\n",
       "disease_2                               AIDS Arteritis, Central Nervous System  \\\n",
       "disease_1                                                                        \n",
       "22q11 Deletion Syndrome                                                    0.0   \n",
       "46, XX Disorders of Sex Development                                        0.0   \n",
       "ACTH Syndrome, Ectopic                                                     0.0   \n",
       "ACTH-Secreting Pituitary Adenoma                                           0.0   \n",
       "AIDS Arteritis, Central Nervous System                                     0.0   \n",
       "\n",
       "disease_2                               AIDS Dementia Complex  \\\n",
       "disease_1                                                       \n",
       "22q11 Deletion Syndrome                                   0.0   \n",
       "46, XX Disorders of Sex Development                       0.0   \n",
       "ACTH Syndrome, Ectopic                                    0.0   \n",
       "ACTH-Secreting Pituitary Adenoma                          0.0   \n",
       "AIDS Arteritis, Central Nervous System                    0.0   \n",
       "\n",
       "disease_2                               AIDS-Associated Nephropathy  \\\n",
       "disease_1                                                             \n",
       "22q11 Deletion Syndrome                                         0.0   \n",
       "46, XX Disorders of Sex Development                             0.0   \n",
       "ACTH Syndrome, Ectopic                                          0.0   \n",
       "ACTH-Secreting Pituitary Adenoma                                0.0   \n",
       "AIDS Arteritis, Central Nervous System                          0.0   \n",
       "\n",
       "disease_2                               AIDS-Related Complex  \\\n",
       "disease_1                                                      \n",
       "22q11 Deletion Syndrome                                  0.0   \n",
       "46, XX Disorders of Sex Development                      0.0   \n",
       "ACTH Syndrome, Ectopic                                   0.0   \n",
       "ACTH-Secreting Pituitary Adenoma                         0.0   \n",
       "AIDS Arteritis, Central Nervous System                   0.0   \n",
       "\n",
       "disease_2                               AIDS-Related Opportunistic Infections  \\\n",
       "disease_1                                                                       \n",
       "22q11 Deletion Syndrome                                                   0.0   \n",
       "46, XX Disorders of Sex Development                                       0.0   \n",
       "ACTH Syndrome, Ectopic                                                    0.0   \n",
       "ACTH-Secreting Pituitary Adenoma                                          0.0   \n",
       "AIDS Arteritis, Central Nervous System                                    0.0   \n",
       "\n",
       "disease_2                               Abdominal Abscess  ...  \\\n",
       "disease_1                                                  ...   \n",
       "22q11 Deletion Syndrome                               0.0  ...   \n",
       "46, XX Disorders of Sex Development                   0.0  ...   \n",
       "ACTH Syndrome, Ectopic                                0.0  ...   \n",
       "ACTH-Secreting Pituitary Adenoma                      0.0  ...   \n",
       "AIDS Arteritis, Central Nervous System                0.0  ...   \n",
       "\n",
       "disease_2                               alpha 1-Antitrypsin Deficiency  \\\n",
       "disease_1                                                                \n",
       "22q11 Deletion Syndrome                                            0.0   \n",
       "46, XX Disorders of Sex Development                                0.0   \n",
       "ACTH Syndrome, Ectopic                                             0.0   \n",
       "ACTH-Secreting Pituitary Adenoma                                   0.0   \n",
       "AIDS Arteritis, Central Nervous System                             0.0   \n",
       "\n",
       "disease_2                               alpha-Mannosidosis  alpha-Thalassemia  \\\n",
       "disease_1                                                                       \n",
       "22q11 Deletion Syndrome                                0.0                0.0   \n",
       "46, XX Disorders of Sex Development                    0.0                0.0   \n",
       "ACTH Syndrome, Ectopic                                 0.0                0.0   \n",
       "ACTH-Secreting Pituitary Adenoma                       0.0                0.0   \n",
       "AIDS Arteritis, Central Nervous System                 0.0                0.0   \n",
       "\n",
       "disease_2                               beta-Mannosidosis  beta-Thalassemia  \\\n",
       "disease_1                                                                     \n",
       "22q11 Deletion Syndrome                               0.0               0.0   \n",
       "46, XX Disorders of Sex Development                   0.0               0.0   \n",
       "ACTH Syndrome, Ectopic                                0.0               0.0   \n",
       "ACTH-Secreting Pituitary Adenoma                      0.0               0.0   \n",
       "AIDS Arteritis, Central Nervous System                0.0               0.0   \n",
       "\n",
       "disease_2                               von Hippel-Lindau Disease  \\\n",
       "disease_1                                                           \n",
       "22q11 Deletion Syndrome                                       0.0   \n",
       "46, XX Disorders of Sex Development                           0.0   \n",
       "ACTH Syndrome, Ectopic                                        0.0   \n",
       "ACTH-Secreting Pituitary Adenoma                              0.0   \n",
       "AIDS Arteritis, Central Nervous System                        0.0   \n",
       "\n",
       "disease_2                               von Willebrand Disease, Type 1  \\\n",
       "disease_1                                                                \n",
       "22q11 Deletion Syndrome                                            0.0   \n",
       "46, XX Disorders of Sex Development                                0.0   \n",
       "ACTH Syndrome, Ectopic                                             0.0   \n",
       "ACTH-Secreting Pituitary Adenoma                                   0.0   \n",
       "AIDS Arteritis, Central Nervous System                             0.0   \n",
       "\n",
       "disease_2                               von Willebrand Disease, Type 2  \\\n",
       "disease_1                                                                \n",
       "22q11 Deletion Syndrome                                            0.0   \n",
       "46, XX Disorders of Sex Development                                0.0   \n",
       "ACTH Syndrome, Ectopic                                             0.0   \n",
       "ACTH-Secreting Pituitary Adenoma                                   0.0   \n",
       "AIDS Arteritis, Central Nervous System                             0.0   \n",
       "\n",
       "disease_2                               von Willebrand Disease, Type 3  \\\n",
       "disease_1                                                                \n",
       "22q11 Deletion Syndrome                                            0.0   \n",
       "46, XX Disorders of Sex Development                                0.0   \n",
       "ACTH Syndrome, Ectopic                                             0.0   \n",
       "ACTH-Secreting Pituitary Adenoma                                   0.0   \n",
       "AIDS Arteritis, Central Nervous System                             0.0   \n",
       "\n",
       "disease_2                               von Willebrand Diseases  \n",
       "disease_1                                                        \n",
       "22q11 Deletion Syndrome                                     0.0  \n",
       "46, XX Disorders of Sex Development                         0.0  \n",
       "ACTH Syndrome, Ectopic                                      0.0  \n",
       "ACTH-Secreting Pituitary Adenoma                            0.0  \n",
       "AIDS Arteritis, Central Nervous System                      0.0  \n",
       "\n",
       "[5 rows x 4679 columns]"
      ]
     },
     "execution_count": 19,
     "metadata": {},
     "output_type": "execute_result"
    }
   ],
   "source": [
    "#「同じ疾患同士」「順序が逆になっているだけで同じペアの片方」を削除\n",
    "\n",
    "#アレイに変換\n",
    "recent_array = np.array(pivot_cosine_df)\n",
    "\n",
    "#下三角行列を取得する\n",
    "#numpy.tril()の引数にnumpy.ndarrayを指定すると、対角線より上の成分をゼロとしたnumpy.ndarrayが返される。\n",
    "#対角線のコサイン値＝１は不要なので、この対角線箇所も含めてゼロにしたい。\n",
    "#numpy.tril()の第二引数のkで、境界となる対角線の位置が指定できる（正の値だと上側（右側）、負の値だと下側（左側）に移動する）\n",
    "\n",
    "recent_array = np.tril(recent_array, k=-1) \n",
    "\n",
    "#データフレームにする　対角線含む上の値がゼロになっているか確認\n",
    "repivot_cosine_df= pd.DataFrame(recent_array, index=pivot_cosine_df.index, columns=pivot_cosine_df.columns)\n",
    "repivot_cosine_df[:5]"
   ]
  },
  {
   "cell_type": "code",
   "execution_count": 20,
   "metadata": {},
   "outputs": [
    {
     "name": "stdout",
     "output_type": "stream",
     "text": [
      "9343924\n"
     ]
    }
   ],
   "source": [
    "#下三角行列のうち、コサイン値ゼロ以外の値の位置を取得\n",
    "recent_array_index_list = [[value_0,\n",
    "                            value_1] for value_0, value_1 in zip(list(np.where(recent_array>0)[0]),\n",
    "                                                                 list(np.where(recent_array>0)[1]))]\n",
    "print(len(recent_array_index_list))"
   ]
  },
  {
   "cell_type": "code",
   "execution_count": 21,
   "metadata": {
    "scrolled": false
   },
   "outputs": [
    {
     "data": {
      "application/vnd.jupyter.widget-view+json": {
       "model_id": "d36d273e24e949d2926a7335903542f5",
       "version_major": 2,
       "version_minor": 0
      },
      "text/plain": [
       "  0%|          | 0/9343924 [00:00<?, ?it/s]"
      ]
     },
     "metadata": {},
     "output_type": "display_data"
    }
   ],
   "source": [
    "#元の（半分ゼロにする前の）行列で同じ位置を指定し、そのインデックス（疾患ペア）と値（コサイン値）を取得\n",
    "#疾患a, 疾患b, abのコサイン値\n",
    "repivot_pair = [ [pivot_index[i[0]],\n",
    "                  pivot_index[i[1]], \n",
    "                  repivot_cosine_df.iloc[i[0], i[1]]] for i in tqdm(recent_array_index_list)]\n",
    "\n",
    "# 作成されるデータは\n",
    "#    「同じ疾患同士」「順序が逆になっただけの同じペアのうちの片方」「コサイン値ゼロ」これらを除いたデータ"
   ]
  },
  {
   "cell_type": "code",
   "execution_count": 22,
   "metadata": {},
   "outputs": [],
   "source": [
    "hsdn = pd.DataFrame(repivot_pair, columns=[\"disease_1\", \"disease_2\", \"cosine_similarity\"])"
   ]
  },
  {
   "cell_type": "code",
   "execution_count": 23,
   "metadata": {},
   "outputs": [
    {
     "name": "stdout",
     "output_type": "stream",
     "text": [
      "ds_pair数: 197466\n",
      "disease_MeSHの種類数: 4679\n",
      "symptom_MeSHの種類数: 385 \n",
      "\n",
      "dd_pairの種類数: 9343924\n",
      "dd_pairの種類数(O.1<cos): 2048497\n",
      "dd_pairの種類数(O.2<cos): 833831\n",
      "dd_pairの種類数(O.5<cos): 117718\n",
      "2048497\n",
      "4676\n",
      "0.1<cosでのcos_max: 1.0\n",
      "0.1<cosでのcos_min: 0.10000000014520655\n",
      "------------\n",
      "2048287\n",
      "4676\n",
      "0.1<cos<1でのcos_max: 0.9999999999999998\n",
      "0.1<cos<1でのcos_min: 0.10000000014520655\n"
     ]
    }
   ],
   "source": [
    "print(\"ds_pair数:\", len(tfidf))\n",
    "print(\"disease_MeSHの種類数:\", len(repivot_cosine_df.index))\n",
    "print(\"symptom_MeSHの種類数:\", len(idf_n_i), \"\\n\")\n",
    "\n",
    "print(\"dd_pairの種類数:\", len(hsdn))\n",
    "print(\"dd_pairの種類数(O.1<cos):\", len(hsdn[hsdn[\"cosine_similarity\"]>0.1]))\n",
    "print(\"dd_pairの種類数(O.2<cos):\", len(hsdn[hsdn[\"cosine_similarity\"]>0.2]))\n",
    "print(\"dd_pairの種類数(O.5<cos):\", len(hsdn[hsdn[\"cosine_similarity\"]>0.5]))\n",
    "\n",
    "cos1 = hsdn[hsdn[\"cosine_similarity\"]>0.1]\n",
    "print(len(cos1))\n",
    "print(len(set(cos1[\"disease_1\"].values.tolist() + cos1[\"disease_2\"].values.tolist())))\n",
    "print(\"0.1<cosでのcos_max:\", cos1[\"cosine_similarity\"].max())\n",
    "print(\"0.1<cosでのcos_min:\", cos1[\"cosine_similarity\"].min())\n",
    "print(\"------------\")\n",
    "cos2 = hsdn[ (hsdn[\"cosine_similarity\"]>0.1) & (hsdn[\"cosine_similarity\"]<1)]\n",
    "print(len(cos2))\n",
    "print(len(set(cos2[\"disease_1\"].values.tolist() + cos2[\"disease_2\"].values.tolist())))\n",
    "print(\"0.1<cos<1でのcos_max:\", cos2[\"cosine_similarity\"].max())\n",
    "print(\"0.1<cos<1でのcos_min:\", cos2[\"cosine_similarity\"].min())"
   ]
  },
  {
   "cell_type": "code",
   "execution_count": 24,
   "metadata": {},
   "outputs": [],
   "source": [
    "#保存\n",
    "hsdn.to_csv(\"hsdn_m2021.csv\", index=False)"
   ]
  },
  {
   "cell_type": "code",
   "execution_count": 25,
   "metadata": {},
   "outputs": [
    {
     "name": "stdout",
     "output_type": "stream",
     "text": [
      "9343924\n"
     ]
    }
   ],
   "source": [
    "# TF-IDFした後で、正のコサイン類似度を持つ疾患-疾患ペアの数は？\n",
    "print(len(hsdn))"
   ]
  },
  {
   "cell_type": "code",
   "execution_count": 25,
   "metadata": {},
   "outputs": [
    {
     "name": "stdout",
     "output_type": "stream",
     "text": [
      "Name: \n",
      "Type: Graph\n",
      "Number of nodes: 4679\n",
      "Number of edges: 9343924\n",
      "Average degree: 3993.9833\n"
     ]
    }
   ],
   "source": [
    "import networkx as nx\n",
    "import matplotlib.pyplot as plt\n",
    "\n",
    "G = nx.from_pandas_edgelist( hsdn,\"disease_1\", \"disease_2\" )\n",
    "print(nx.info(G))"
   ]
  },
  {
   "cell_type": "code",
   "execution_count": 26,
   "metadata": {
    "scrolled": true
   },
   "outputs": [
    {
     "name": "stderr",
     "output_type": "stream",
     "text": [
      "<ipython-input-26-d798651f9263>:11: MatplotlibDeprecationWarning: The 'basex' parameter of __init__() has been renamed 'base' since Matplotlib 3.3; support for the old name will be dropped two minor releases later.\n",
      "  plt.loglog(basex=10,basey=10)\n",
      "<ipython-input-26-d798651f9263>:11: MatplotlibDeprecationWarning: The 'basey' parameter of __init__() has been renamed 'base' since Matplotlib 3.3; support for the old name will be dropped two minor releases later.\n",
      "  plt.loglog(basex=10,basey=10)\n"
     ]
    },
    {
     "name": "stdout",
     "output_type": "stream",
     "text": [
      "ポイントの数は共起頻度数の種類数 865\n"
     ]
    },
    {
     "data": {
      "image/png": "[encoded data removed]",
      "text/plain": [
       "<Figure size 432x288 with 1 Axes>"
      ]
     },
     "metadata": {
      "needs_background": "light"
     },
     "output_type": "display_data"
    }
   ],
   "source": [
    "#一文献につき共起する数とその文献数\n",
    "\n",
    "#両方の軸を対数スケールで設定する必要がある　loglog() 関数を使用\n",
    "#loglog() 関数\n",
    "#X 軸と Y 軸の両方に沿って対数スケーリングを行う時使える\n",
    "#X 軸と Y 軸の対数の底は、basex パラメータと basey パラメータによって設定\n",
    "\n",
    "a = pd.Series(co_occ_pair[\"co_occurrence\"].value_counts())\n",
    "\n",
    "plt.scatter(a.index, a, color=\"black\")\n",
    "plt.loglog(basex=10,basey=10)\n",
    "plt.xlabel(\"merge_limited_df + uncutoff: symptom disease co-occurence\")\n",
    "plt.ylabel(\"number of records\",)\n",
    "print(\"ポイントの数は共起頻度数の種類数\", len(a))\n",
    "plt.show()"
   ]
  },
  {
   "cell_type": "code",
   "execution_count": 27,
   "metadata": {},
   "outputs": [
    {
     "data": {
      "image/png": "[encoded data removed]",
      "text/plain": [
       "<Figure size 432x288 with 1 Axes>"
      ]
     },
     "metadata": {
      "needs_background": "light"
     },
     "output_type": "display_data"
    }
   ],
   "source": [
    "plt.yscale('log')\n",
    "plt.plot([ degree/len(G.nodes) for degree in nx.degree_histogram(G)])\n",
    "plt.yticks([0.001, 0.01, 0.1, 1])\n",
    "plt.show()"
   ]
  },
  {
   "cell_type": "code",
   "execution_count": 28,
   "metadata": {
    "scrolled": true
   },
   "outputs": [
    {
     "data": {
      "image/png": "[encoded data removed]",
      "text/plain": [
       "<Figure size 432x288 with 1 Axes>"
      ]
     },
     "metadata": {
      "needs_background": "light"
     },
     "output_type": "display_data"
    }
   ],
   "source": [
    "plt.plot([ degree/len(G.nodes) for degree in nx.degree_histogram(G)])\n",
    "plt.show()"
   ]
  },
  {
   "cell_type": "code",
   "execution_count": 29,
   "metadata": {},
   "outputs": [
    {
     "name": "stdout",
     "output_type": "stream",
     "text": [
      "disease_MeSH数の半分の数: 4679 /2= 2339.5\n",
      "disease_MeSH数の半分の数より大きい次数を持つdisease_MeSHの数: 4428\n",
      "その割合: 0.9463560589869631\n"
     ]
    }
   ],
   "source": [
    "half_d_mesh= G.number_of_nodes()/2\n",
    "degree = pd.DataFrame(nx.degree(G))\n",
    "large_degree = degree[degree[1] > half_d_mesh ]\n",
    "print(\"disease_MeSH数の半分の数:\", G.number_of_nodes(), \"/2=\", half_d_mesh)\n",
    "print(\"disease_MeSH数の半分の数より大きい次数を持つdisease_MeSHの数:\", len(large_degree))\n",
    "print(\"その割合:\", len(large_degree)/G.number_of_nodes())"
   ]
  },
  {
   "cell_type": "code",
   "execution_count": 30,
   "metadata": {},
   "outputs": [
    {
     "name": "stdout",
     "output_type": "stream",
     "text": [
      "最大エッジ数を持つdisease_MeSHとエッジ数: [('Postoperative Complications', 4675), ('Neoplasms', 4672)]\n",
      "最小エッジ数を持つdisease_MeSHとエッジ数: [('Fibromatosis, Plantar', 15), ('Alcoholic Korsakoff Syndrome', 9)]\n"
     ]
    }
   ],
   "source": [
    "print(\"最大エッジ数を持つdisease_MeSHとエッジ数:\", sorted(G.degree(), key=lambda x: -x[1])[:2])\n",
    "print(\"最小エッジ数を持つdisease_MeSHとエッジ数:\", sorted(G.degree(), key=lambda x: -x[1])[-2:])"
   ]
  },
  {
   "cell_type": "code",
   "execution_count": 32,
   "metadata": {},
   "outputs": [
    {
     "name": "stdout",
     "output_type": "stream",
     "text": [
      "'Hyponatremia'-'Odontoma'パスが存在するか: True\n",
      "その経路, 経路長: ['Hyponatremia', 'Odontoma'] 1\n",
      "Hyponatremia の接続疾患数 [4638]\n",
      "Odontoma の接続疾患数 [3606]\n"
     ]
    }
   ],
   "source": [
    "#\"Hyponatremia', 'Odontoma\" \n",
    "SOURCE = \"Hyponatremia\"\n",
    "TARGET = \"Odontoma\"\n",
    "print(\"'Hyponatremia'-'Odontoma'パスが存在するか:\", nx.has_path(G, source=SOURCE, target=TARGET))\n",
    "print(\"その経路, 経路長:\", nx.shortest_path(G,  source=SOURCE, target=TARGET), nx.shortest_path_length(G,  source=SOURCE, target=TARGET))\n",
    "print(\"Hyponatremia の接続疾患数\", [i[1] for i in G.degree() if \"Hyponatremia\" in i])\n",
    "print(\"Odontoma の接続疾患数\", [i[1] for i in G.degree() if \"Odontoma\" in i])"
   ]
  },
  {
   "cell_type": "code",
   "execution_count": 33,
   "metadata": {},
   "outputs": [
    {
     "data": {
      "text/plain": [
       "[('Postoperative Complications', 0.9993587002992731),\n",
       " ('Neoplasms', 0.9987174005985463),\n",
       " ('Disease', 0.9982898674647285),\n",
       " ('Diabetes Mellitus', 0.9980761008978195),\n",
       " ('Pregnancy Complications', 0.9980761008978195),\n",
       " ('Epilepsy', 0.9978623343309105),\n",
       " ('HIV Infections', 0.9978623343309105),\n",
       " ('Mental Disorders', 0.9978623343309105),\n",
       " ('Brain Diseases', 0.9976485677640017),\n",
       " ('Cardiovascular Diseases', 0.9976485677640017)]"
      ]
     },
     "execution_count": 33,
     "metadata": {},
     "output_type": "execute_result"
    }
   ],
   "source": [
    "sorted(nx.degree_centrality(G).items(), key=lambda x: -x[1])[:10]"
   ]
  },
  {
   "cell_type": "code",
   "execution_count": 34,
   "metadata": {},
   "outputs": [
    {
     "data": {
      "text/html": [
       "<div>\n",
       "<style scoped>\n",
       "    .dataframe tbody tr th:only-of-type {\n",
       "        vertical-align: middle;\n",
       "    }\n",
       "\n",
       "    .dataframe tbody tr th {\n",
       "        vertical-align: top;\n",
       "    }\n",
       "\n",
       "    .dataframe thead th {\n",
       "        text-align: right;\n",
       "    }\n",
       "</style>\n",
       "<table border=\"1\" class=\"dataframe\">\n",
       "  <thead>\n",
       "    <tr style=\"text-align: right;\">\n",
       "      <th></th>\n",
       "      <th>disease_1</th>\n",
       "      <th>disease_2</th>\n",
       "      <th>cosine_similarity</th>\n",
       "    </tr>\n",
       "  </thead>\n",
       "  <tbody>\n",
       "    <tr>\n",
       "      <th>0</th>\n",
       "      <td>Atypical Squamous Cells of the Cervix</td>\n",
       "      <td>Asthenozoospermia</td>\n",
       "      <td>1.0</td>\n",
       "    </tr>\n",
       "    <tr>\n",
       "      <th>1</th>\n",
       "      <td>Balanitis Xerotica Obliterans</td>\n",
       "      <td>Anal Gland Neoplasms</td>\n",
       "      <td>1.0</td>\n",
       "    </tr>\n",
       "    <tr>\n",
       "      <th>2</th>\n",
       "      <td>Birnaviridae Infections</td>\n",
       "      <td>Barth Syndrome</td>\n",
       "      <td>1.0</td>\n",
       "    </tr>\n",
       "    <tr>\n",
       "      <th>3</th>\n",
       "      <td>Bluetongue</td>\n",
       "      <td>African Horse Sickness</td>\n",
       "      <td>1.0</td>\n",
       "    </tr>\n",
       "    <tr>\n",
       "      <th>4</th>\n",
       "      <td>Body Remains</td>\n",
       "      <td>Barth Syndrome</td>\n",
       "      <td>1.0</td>\n",
       "    </tr>\n",
       "    <tr>\n",
       "      <th>5</th>\n",
       "      <td>Body Remains</td>\n",
       "      <td>Birnaviridae Infections</td>\n",
       "      <td>1.0</td>\n",
       "    </tr>\n",
       "    <tr>\n",
       "      <th>6</th>\n",
       "      <td>Breast Carcinoma In Situ</td>\n",
       "      <td>Adenocarcinoma in Situ</td>\n",
       "      <td>1.0</td>\n",
       "    </tr>\n",
       "    <tr>\n",
       "      <th>7</th>\n",
       "      <td>Bunion</td>\n",
       "      <td>Adenocarcinoma in Situ</td>\n",
       "      <td>1.0</td>\n",
       "    </tr>\n",
       "    <tr>\n",
       "      <th>8</th>\n",
       "      <td>Bunion</td>\n",
       "      <td>Breast Carcinoma In Situ</td>\n",
       "      <td>1.0</td>\n",
       "    </tr>\n",
       "    <tr>\n",
       "      <th>9</th>\n",
       "      <td>Carcinoma, Brown-Pearce</td>\n",
       "      <td>Barth Syndrome</td>\n",
       "      <td>1.0</td>\n",
       "    </tr>\n",
       "  </tbody>\n",
       "</table>\n",
       "</div>"
      ],
      "text/plain": [
       "                               disease_1                 disease_2  \\\n",
       "0  Atypical Squamous Cells of the Cervix         Asthenozoospermia   \n",
       "1          Balanitis Xerotica Obliterans      Anal Gland Neoplasms   \n",
       "2                Birnaviridae Infections            Barth Syndrome   \n",
       "3                             Bluetongue    African Horse Sickness   \n",
       "4                           Body Remains            Barth Syndrome   \n",
       "5                           Body Remains   Birnaviridae Infections   \n",
       "6               Breast Carcinoma In Situ    Adenocarcinoma in Situ   \n",
       "7                                 Bunion    Adenocarcinoma in Situ   \n",
       "8                                 Bunion  Breast Carcinoma In Situ   \n",
       "9                Carcinoma, Brown-Pearce            Barth Syndrome   \n",
       "\n",
       "   cosine_similarity  \n",
       "0                1.0  \n",
       "1                1.0  \n",
       "2                1.0  \n",
       "3                1.0  \n",
       "4                1.0  \n",
       "5                1.0  \n",
       "6                1.0  \n",
       "7                1.0  \n",
       "8                1.0  \n",
       "9                1.0  "
      ]
     },
     "execution_count": 34,
     "metadata": {},
     "output_type": "execute_result"
    }
   ],
   "source": [
    "#違う疾患ペアなのにコサイン値１のデータを取り出す　→ベクトルの状況確認要\n",
    "hsdn[hsdn[\"cosine_similarity\"] ==1].reset_index(drop=True)[:10]"
   ]
  },
  {
   "cell_type": "code",
   "execution_count": 35,
   "metadata": {},
   "outputs": [
    {
     "name": "stdout",
     "output_type": "stream",
     "text": [
      "C04 Neoplasms                                                          42\n",
      "C01 Infections                                                         39\n",
      "C16 Congenital, Hereditary, and Neonatal Diseases and Abnormalities    29\n",
      "C17 Skin and Connective Tissue Diseases                                11\n",
      "C23 Pathological Conditions, Signs and Symptoms                         8\n",
      "C07 Stomatognathic Diseases                                             8\n",
      "C15 Hemic and Lymphatic Diseases                                        8\n",
      "C10 Nervous System Diseases                                             8\n",
      "C05 Musculoskeletal Diseases                                            8\n",
      "C13 Female Urogenital Diseases and Pregnancy Complications              7\n",
      "C22 Animal Diseases                                                     7\n",
      "C11 Eye Diseases                                                        6\n",
      "C12 Male Urogenital Diseases                                            6\n",
      "C06 Digestive System Diseases                                           6\n",
      "C14 Cardiovascular Diseases                                             6\n",
      "C18 Nutritional and Metabolic Diseases                                  6\n",
      "C20 Immune System Diseases                                              3\n",
      "C08 Respiratory Tract Diseases                                          3\n",
      "F03 Mental Disorders                                                    2\n",
      "C09 Otorhinolaryngologic Diseases                                       2\n",
      "C26 Wounds and Injuries                                                 1\n",
      "A11 Cells                                                               1\n",
      "dtype: int64\n"
     ]
    },
    {
     "data": {
      "image/png": "[encoded data removed]",
      "text/plain": [
       "<Figure size 432x288 with 1 Axes>"
      ]
     },
     "metadata": {
      "needs_background": "light"
     },
     "output_type": "display_data"
    }
   ],
   "source": [
    "#コサイン値1の疾患ペア（同じ疾患同士は除く）から、ユニークな疾患名を抽出\n",
    "\n",
    "cos1_disease_name = list(set( [i[0] for i in repivot_pair  if i[-1]==1] + [i[1] for i in repivot_pair if i[-1]==1] ))\n",
    "#3桁のメッシュ＝メッシュカテゴリー　を抽出\n",
    "tree_cate = [ [mesh[1], mesh[-1][0]] for mesh in mesh_list for s in mesh[-1] if len(s) == 3 ]\n",
    "\n",
    "#ユニークな疾患名がどのメッシュカテゴリーに含まれるか調査\n",
    "cos1_disease_category = []\n",
    "for  i in cos1_disease_name:\n",
    "    for mesh in mesh_list:\n",
    "        if i == mesh[1]:\n",
    "            cos1_disease_category.extend ([m[:3] for m in mesh[-1]])\n",
    "            \n",
    "cos1_disease_category_set = []\n",
    "for i in cos1_disease_category:\n",
    "    for mesh in tree_cate:\n",
    "        if i==mesh[-1]:\n",
    "            cos1_disease_category_set.append(mesh )\n",
    "\n",
    "print(pd.Series( pd.DataFrame(cos1_disease_category_set)[1] +\" \"+ pd.DataFrame(cos1_disease_category_set)[0] ).value_counts())\n",
    "pd.DataFrame(cos1_disease_category_set)[1].value_counts().plot.bar()\n",
    "plt.show()"
   ]
  },
  {
   "cell_type": "code",
   "execution_count": 36,
   "metadata": {},
   "outputs": [
    {
     "data": {
      "image/png": "[encoded data removed]",
      "text/plain": [
       "<Figure size 432x288 with 1 Axes>"
      ]
     },
     "metadata": {
      "needs_background": "light"
     },
     "output_type": "display_data"
    }
   ],
   "source": [
    "#コサイン値のヒストグラム\n",
    "plt.hist( pd.DataFrame(repivot_pair)[2], alpha=0.5, bins=20, color='c') \n",
    "plt.show()"
   ]
  },
  {
   "cell_type": "code",
   "execution_count": null,
   "metadata": {},
   "outputs": [],
   "source": []
  }
 ],
 "metadata": {
  "kernelspec": {
   "display_name": "Python 3",
   "language": "python",
   "name": "python3"
  },
  "language_info": {
   "codemirror_mode": {
    "name": "ipython",
    "version": 3
   },
   "file_extension": ".py",
   "mimetype": "text/x-python",
   "name": "python",
   "nbconvert_exporter": "python",
   "pygments_lexer": "ipython3",
   "version": "3.8.8"
  }
 },
 "nbformat": 4,
 "nbformat_minor": 2
}
