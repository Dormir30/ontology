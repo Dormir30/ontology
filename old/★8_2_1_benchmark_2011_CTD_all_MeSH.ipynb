{
 "cells": [
  {
   "cell_type": "code",
   "execution_count": 1,
   "id": "952baded",
   "metadata": {},
   "outputs": [],
   "source": [
    "# ライブラリ読み込み\n",
    "import pandas as pd\n",
    "import numpy as np\n",
    "import matplotlib.pyplot as plt\n",
    "import pronto\n",
    "import copy\n",
    "import networkx as nx\n",
    "import os\n",
    "import pickle\n",
    "import glob\n",
    "import gzip\n",
    "from tqdm.notebook import tqdm\n",
    "import itertools\n",
    "#from collections import OrderedDict\n",
    "#import collections\n",
    "#from collections import Counter"
   ]
  },
  {
   "cell_type": "code",
   "execution_count": 2,
   "id": "a87f79d4",
   "metadata": {},
   "outputs": [],
   "source": [
    "#Zhou\n",
    "\n",
    "os.chdir(\"/home/admin_user/デスクトップ/UMLS2012AA\")\n",
    "file_1 = \"hp_201103.obo.gz\"\n",
    "file_2 = \"hp_annotations_201103.tab.gz\"\n",
    "file_3 = \"CTD_diseases.tsv.gz\"\n",
    "file_4 = \"MRFILES.RRF.gz\"\n",
    "file_5 = \"MRSTY.RRF.gz\"\n",
    "file_6 = \"MRCONSO.RRF.aa.gz\"\n",
    "file_7 = \"MRCONSO.RRF.ab.gz\"\n",
    "file_8 = \"SRFIL\""
   ]
  },
  {
   "cell_type": "code",
   "execution_count": 3,
   "id": "1679ef36",
   "metadata": {},
   "outputs": [
    {
     "data": {
      "text/plain": [
       "10139"
      ]
     },
     "execution_count": 3,
     "metadata": {},
     "output_type": "execute_result"
    }
   ],
   "source": [
    "#HPOオントロジー\n",
    "#'hp.obo'読み込み　タームを取り出す\n",
    "ont = pronto.Ontology(file_1)\n",
    "len(ont)"
   ]
  },
  {
   "cell_type": "code",
   "execution_count": 4,
   "id": "79d97bd1",
   "metadata": {},
   "outputs": [
    {
     "name": "stdout",
     "output_type": "stream",
     "text": [
      "HPの数: 9166 CUIの数: 9485 マッピングの数: 32783 32783\n"
     ]
    }
   ],
   "source": [
    "#HPOオントロジー中で XREFにUMLSを持つもの(UMLSへのマッピングの数)\n",
    "\n",
    "hp=[]\n",
    "umls = []\n",
    "hp_umls=[]\n",
    "hp_cui = []\n",
    "\n",
    "for term in ont.terms():\n",
    "    for each_xref in term.xrefs:\n",
    "        if (\"Xref('UMLS:\" in str(each_xref)):\n",
    "            cui = str(each_xref).replace(\"Xref('UMLS:\", \"\").replace(\"')\", \"\")\n",
    "            hp.append(term.id) #HPO_id\n",
    "            umls.append( cui) #CUI\n",
    "            hp_umls.append([term.id, cui]) #HPO_id, CUI\n",
    "            hp_cui.append([term.name + '(' + term.id + ')', term.id, cui]) #HPO_id, HPO_name, CUI\n",
    "                \n",
    "hp = sorted(list(set(hp)))\n",
    "umls = sorted(list(set(umls)))\n",
    "hp_umls = sorted(list(map(list, set(map(tuple, hp_umls)))))\n",
    "hp_cui = sorted(list(map(list, set(map(tuple, hp_cui)))))\n",
    "\n",
    "print(\"HPの数:\", len(hp), \"CUIの数:\", len(umls), \"マッピングの数:\", len(hp_umls) ,len(hp_cui) )\n",
    "\n",
    "#廃止タームを除外  HPの数: 11599 CUIの数: 12867 マッピングの数: 13016"
   ]
  },
  {
   "cell_type": "code",
   "execution_count": 5,
   "id": "83a32138",
   "metadata": {},
   "outputs": [
    {
     "name": "stdout",
     "output_type": "stream",
     "text": [
      "HPの数: 9166 CUIの数: 9485 マッピングの数: 32783 32783\n"
     ]
    }
   ],
   "source": [
    "#HPOオントロジー中で XREFにUMLSを持つもの(UMLSへのマッピングの数)\n",
    "\n",
    "hp=[]\n",
    "umls = []\n",
    "hp_umls=[]\n",
    "hp_cui = []\n",
    "\n",
    "for term in ont.terms():\n",
    "    for each_xref in term.xrefs:\n",
    "        if (\"Xref('UMLS:\" in str(each_xref)):\n",
    "            cui = str(each_xref).replace(\"Xref('UMLS:\", \"\").replace(\"')\", \"\")\n",
    "            hp.append(term.id) #HPO_id\n",
    "            umls.append( cui) #CUI\n",
    "            hp_umls.append([term.id, cui]) #HPO_id, CUI\n",
    "            hp_cui.append([term.name + '(' + term.id + ')', term.id, cui]) #HPO_id, HPO_name, CUI\n",
    "                \n",
    "hp = sorted(list(set(hp)))\n",
    "umls = sorted(list(set(umls)))\n",
    "hp_umls = sorted(list(map(list, set(map(tuple, hp_umls)))))\n",
    "hp_cui = sorted(list(map(list, set(map(tuple, hp_cui)))))\n",
    "\n",
    "print(\"HPの数:\", len(hp), \"CUIの数:\", len(umls), \"マッピングの数:\", len(hp_umls) ,len(hp_cui) )\n",
    "\n",
    "#廃止タームを除外  HPの数: 11599 CUIの数: 12867 マッピングの数: 13016"
   ]
  },
  {
   "cell_type": "code",
   "execution_count": 6,
   "id": "0a5e0953",
   "metadata": {},
   "outputs": [
    {
     "name": "stdout",
     "output_type": "stream",
     "text": [
      "hpoaのアノテーション総数: 56439\n",
      "hpoaのOMIMの種類数: 5188\n",
      "hpoaのHPOの種類数: 7312\n"
     ]
    }
   ],
   "source": [
    "#SUBSET ネットワークのベースとなるデータセット\n",
    "\n",
    "#そのソースデータを読み込み\n",
    "\n",
    "#アノテーションデータ\n",
    "phenotype_df = pd.read_csv(\"hp_annotations_201103.tab.gz\", sep=\"\\t\", header=None, engine=\"python\")\n",
    "phenotype_df = phenotype_df[[4,5]]\n",
    "phenotype_df = phenotype_df.rename(columns={4:\"HP\", 5:\"OMIM\"})\n",
    "print(\"hpoaのアノテーション総数:\", len(phenotype_df))\n",
    "print(\"hpoaのOMIMの種類数:\", phenotype_df[\"OMIM\"].nunique())\n",
    "print(\"hpoaのHPOの種類数:\", phenotype_df[\"HP\"].nunique())"
   ]
  },
  {
   "cell_type": "code",
   "execution_count": 7,
   "id": "63431500",
   "metadata": {},
   "outputs": [
    {
     "name": "stdout",
     "output_type": "stream",
     "text": [
      "phenotype.hpoaにあるHPOからのCUIマッピング: 55137\n",
      "そのHPOの数: 7108\n",
      "そのOMIMの数: 5180\n"
     ]
    }
   ],
   "source": [
    "#phenotype.hpoaにあるHPOのCUIマッピング\n",
    "\n",
    "#XREFにUMLSを持つHPO\n",
    "hp_df = pd.DataFrame(hp, columns=[\"HP\"]) \n",
    "#phenotype_dfと合わせる\n",
    "print(\"phenotype.hpoaにあるHPOからのCUIマッピング:\", len(pd.merge(phenotype_df, hp_df)))\n",
    "print(\"そのHPOの数:\", pd.merge(phenotype_df, hp_df)[\"HP\"].nunique())\n",
    "print(\"そのOMIMの数:\", pd.merge(phenotype_df, hp_df)[\"OMIM\"].nunique())"
   ]
  },
  {
   "cell_type": "markdown",
   "id": "9ed1c7bd",
   "metadata": {},
   "source": []
  },
  {
   "cell_type": "code",
   "execution_count": 8,
   "id": "46989fdd",
   "metadata": {},
   "outputs": [],
   "source": [
    "#CTD"
   ]
  },
  {
   "cell_type": "code",
   "execution_count": 9,
   "id": "9b8dba41",
   "metadata": {},
   "outputs": [
    {
     "name": "stdout",
     "output_type": "stream",
     "text": [
      "CTD_diseases.tsv.gz\n",
      "CTDレコード件数: 13144\n",
      "AltDiseaseIDsを持つレコード件数: 6595\n"
     ]
    }
   ],
   "source": [
    "print(file_3) #2011検証と共通\n",
    "all_ctd = pd.read_csv(file_3, sep='\\t', header=27)\n",
    "all_ctd = all_ctd[1:]\n",
    "print(\"CTDレコード件数:\", len(all_ctd))\n",
    "\n",
    "#ctd = ctd.rename(columns={\"# DiseaseName\": \"DiseaseName\"}) #列名変更\n",
    "ctd = all_ctd[[\"DiseaseID\", \"AltDiseaseIDs\"]] #列を限定（→重複データなし ctd[~ctd.duplicated()]）\n",
    "#DAltDiseaseIDsを持つものに限定\n",
    "ctd = ctd[ctd[\"AltDiseaseIDs\"].notna()]\n",
    "ctd = ctd.reset_index(drop=True)\n",
    "print(\"AltDiseaseIDsを持つレコード件数:\", len(ctd))\n"
   ]
  },
  {
   "cell_type": "code",
   "execution_count": 10,
   "id": "485d8bbb",
   "metadata": {},
   "outputs": [
    {
     "name": "stdout",
     "output_type": "stream",
     "text": [
      "3330\n"
     ]
    }
   ],
   "source": [
    "#DiseaseIDかAltDiseaseIDs に MESHかOMIMを持つレコードを探し、そのインデックス番号を取得\n",
    "#「MeSH」\n",
    "m_o_map_index = [ enu for enu, i in enumerate(ctd.values.tolist()) if ((\"MESH\" in i[0]) & (\"OMIM\" in i[1])) | ((\"OMIM\" in i[0]) & (\"MESH\" in i[1]))]\n",
    "\n",
    "#\"MESH:D\" \n",
    "#m_o_map_index = [ enu for enu, i in enumerate(ctd.values.tolist()) if ((\"MESH:D\" in i[0]) & (\"OMIM\" in i[1])) | ((\"OMIM\" in i[0]) & (\"MESH:D\" in i[1]))]\n",
    "\n",
    "#インデックス番号でctdをサイズダウン\n",
    "m_o_map = ctd.iloc[m_o_map_index]\n",
    "m_o_map = m_o_map.reset_index(drop=True)\n",
    "print(len(m_o_map))\n",
    "\n",
    "#AltDiseaseIDs列のデータを要素に分割\n",
    "m_o_map[\"AltDiseaseIDs\"] = m_o_map[\"AltDiseaseIDs\"].str.split(\"|\")"
   ]
  },
  {
   "cell_type": "markdown",
   "id": "aa41286c",
   "metadata": {},
   "source": [
    "#DiseaseIDかAltDiseaseIDs に MESHかOMIMを持つレコードを探し、そのインデックス番号を取得\n",
    "\n",
    "#「MeSH」\n",
    "m_o_map_index = [ enu for enu, i in enumerate(ctd.values.tolist()) if ((\"MESH\" in i[0]) & (\"OMIM\" in i[1])) | ((\"OMIM\" in i[0]) & (\"MESH\" in i[1]))]\n",
    "\n",
    "#インデックス番号でctdをサイズダウン\n",
    "m_o_map = ctd.iloc[m_o_map_index]\n",
    "m_o_map = m_o_map.reset_index(drop=True)\n",
    "print(len(m_o_map)) #3330\n",
    "\n",
    "#AltDiseaseIDs列のデータを要素に分割\n",
    "m_o_map[\"AltDiseaseIDs\"] = m_o_map[\"AltDiseaseIDs\"].str.split(\"|\")"
   ]
  },
  {
   "cell_type": "code",
   "execution_count": 11,
   "id": "952e3da8",
   "metadata": {},
   "outputs": [
    {
     "name": "stdout",
     "output_type": "stream",
     "text": [
      "MESH\n",
      "MeSH-OMIMマッピングの数: 4051\n",
      "MESHの数: 3330\n",
      "OMIMの数: 4051\n"
     ]
    }
   ],
   "source": [
    "#m_o_mapは DiseaseID(MESH)：AltDiseaseIDs(他)＝１：n なので, DiseaseID(MESH)：AltDiseaseIDs(OMIM)=１：１に絞り込む\n",
    "each_m_o_map = [ [m_o[0], each_id] for m_o in m_o_map.values.tolist() for each_id in m_o[1] if \"OMIM\" in each_id ]\n",
    "each_m_o_map_df = pd.DataFrame(each_m_o_map, columns=[\"MESH\", \"OMIM\"])\n",
    "print(\"MESH\")\n",
    "print(\"MeSH-OMIMマッピングの数:\", len(each_m_o_map_df))\n",
    "print(\"MESHの数:\", len(each_m_o_map_df[\"MESH\"].unique()))\n",
    "print(\"OMIMの数:\", len(each_m_o_map_df[\"OMIM\"].unique()))\n",
    "#MESH\n",
    "#MeSH-OMIMマッピングの数: 4051\n",
    "#MESHの数: 3330\n",
    "#OMIMの数: 4051\n"
   ]
  },
  {
   "cell_type": "code",
   "execution_count": 12,
   "id": "143b5cfe",
   "metadata": {},
   "outputs": [],
   "source": [
    "ctd = each_m_o_map_df"
   ]
  },
  {
   "cell_type": "code",
   "execution_count": 13,
   "id": "51dcaa61",
   "metadata": {},
   "outputs": [
    {
     "name": "stdout",
     "output_type": "stream",
     "text": [
      "phenotype.hpoaのアノテーション総数: 56439 HP: 7312 OMIM: 5188\n",
      "CTDでマッピングされるMESH-OMIM: マッピング数: 4051 MESH: 3330 OMIM: 4051\n"
     ]
    }
   ],
   "source": [
    "print(\"phenotype.hpoaのアノテーション総数:\", len(phenotype_df), \"HP:\", phenotype_df[\"HP\"].nunique(), \"OMIM:\", phenotype_df[\"OMIM\"].nunique() )\n",
    "print('CTDでマッピングされるMESH-OMIM:', \"マッピング数:\", len(ctd), \"MESH:\", ctd[\"MESH\"].nunique(), \"OMIM:\", ctd[\"OMIM\"].nunique())"
   ]
  },
  {
   "cell_type": "markdown",
   "id": "1996adcb",
   "metadata": {},
   "source": []
  },
  {
   "cell_type": "code",
   "execution_count": 14,
   "id": "bb5b44ad",
   "metadata": {},
   "outputs": [],
   "source": [
    "#2012AA セマンティックタイプから,T184-CUI-HPOを調査"
   ]
  },
  {
   "cell_type": "code",
   "execution_count": 15,
   "id": "23d804a9",
   "metadata": {},
   "outputs": [
    {
     "name": "stdout",
     "output_type": "stream",
     "text": [
      "MRFILES.RRF.gz\n"
     ]
    }
   ],
   "source": [
    "print(file_4)\n",
    "mrfiles = pd.read_csv(file_4, sep=\"\\|\", header=None, engine=\"python\")\n",
    "mrfiles.columns=[\"FIL\", \"DES\", \"FMT\", \"CLS\", \"RWS\" ,\"BTS\", 0]\n",
    "mrfiles = mrfiles.iloc[:,:-1]\n",
    "\n",
    "#FILがファイル名, FMTが列名\n",
    "mrfiles[\"FMT_split\"] = mrfiles [\"FMT\"].str.split(\",\")"
   ]
  },
  {
   "cell_type": "code",
   "execution_count": 16,
   "id": "f0ebc947",
   "metadata": {},
   "outputs": [
    {
     "name": "stdout",
     "output_type": "stream",
     "text": [
      "18 ['CUI', 'LAT', 'TS', 'LUI', 'STT', 'SUI', 'ISPREF', 'AUI', 'SAUI', 'SCUI', 'SDUI', 'SAB', 'TTY', 'CODE', 'STR', 'SRL', 'SUPPRESS', 'CVF']\n",
      "6 ['CUI', 'TUI', 'STN', 'STY', 'ATUI', 'CVF']\n"
     ]
    }
   ],
   "source": [
    "#列名取得\n",
    "conso_col = mrfiles[mrfiles [\"FIL\"] ==\"MRCONSO.RRF\"][\"FMT_split\"].values.tolist()[0] #2MRCONSO.RRF の列名\n",
    "mrsty_col = mrfiles[mrfiles [\"FIL\"] ==\"MRSTY.RRF\"][\"FMT_split\"].values.tolist()[0] #3\"MRSTY.RRF\"の列名\n",
    "print(len(conso_col), conso_col)\n",
    "print(len(mrsty_col), mrsty_col)"
   ]
  },
  {
   "cell_type": "code",
   "execution_count": 17,
   "id": "3762af53",
   "metadata": {},
   "outputs": [
    {
     "name": "stdout",
     "output_type": "stream",
     "text": [
      "MRSTY.RRF.gz\n",
      "2929701\n"
     ]
    }
   ],
   "source": [
    "#3 MRSTY.RRF \tSemantic Types→セマンティックタイプ\n",
    "print(file_5)\n",
    "mrsty_org = pd.read_csv(file_5, sep=\"\\|\", header=None, engine=\"python\")\n",
    "mrsty_org.columns = mrsty_col + [0]\n",
    "mrsty_org = mrsty_org.iloc[:,:len(mrsty_col)]\n",
    "#データがあるのはCUI, TUI列のみだったので２列だけに絞る\n",
    "mrsty_org = mrsty_org[[\"CUI\", \"TUI\"]]\n",
    "print(len(mrsty_org))"
   ]
  },
  {
   "cell_type": "code",
   "execution_count": 18,
   "id": "82c1d0d1",
   "metadata": {},
   "outputs": [
    {
     "name": "stdout",
     "output_type": "stream",
     "text": [
      "mrsty.rrf のうち T184_CUI: 13537\n",
      "T184_CUI 紐づけられるHPO: 463\n",
      "phenotype_dfのHPOのうち T184にあたるHPOの件数: 430\n"
     ]
    }
   ],
   "source": [
    "#T184を持つCUI\n",
    "t184_cui = mrsty_org[ mrsty_org[\"TUI\"] == \"T184\"][\"CUI\"].values.tolist()\n",
    "print(\"mrsty.rrf のうち T184_CUI:\", len(t184_cui))\n",
    "\n",
    "#UMLSのT184に紐づけられたCUI。HPOオントロジーではHPOとCUIが紐づけられているので、CUIを使ってT184とHPOがマッピングできる\n",
    "#HPO_CUIのペアのうち、T184_CUIとペアになっているHPOを取り出す\n",
    "t184_hp = sorted(list(set([ i[0] for i in hp_umls  if i[1] in t184_cui])))\n",
    "print(\"T184_CUI 紐づけられるHPO:\", len(t184_hp))\n",
    "\n",
    "#subsetのHPOのうち T184にあたるHPOの件数\n",
    "print(\"phenotype_dfのHPOのうち T184にあたるHPOの件数:\", len(set(phenotype_df[\"HP\"].values.tolist()) & set(t184_hp)))"
   ]
  },
  {
   "cell_type": "code",
   "execution_count": 19,
   "id": "fde933d4",
   "metadata": {},
   "outputs": [
    {
     "name": "stdout",
     "output_type": "stream",
     "text": [
      "5326 HP: 430 OMIM: 2148\n"
     ]
    }
   ],
   "source": [
    "#アノテーションデータをT184_HPOで絞り込む\n",
    "t184_index = [enu for enu, i in enumerate(phenotype_df[\"HP\"])  if i in t184_hp]\n",
    "phenotype_df_t184= phenotype_df.iloc[t184_index].reset_index(drop=True)\n",
    "print(len(phenotype_df_t184), \"HP:\", phenotype_df_t184[\"HP\"].nunique(), \"OMIM:\", phenotype_df_t184[\"OMIM\"].nunique())\n"
   ]
  },
  {
   "cell_type": "code",
   "execution_count": 20,
   "id": "48ca3670",
   "metadata": {},
   "outputs": [
    {
     "name": "stdout",
     "output_type": "stream",
     "text": [
      "2148 4051\n"
     ]
    }
   ],
   "source": [
    "print(phenotype_df_t184[\"OMIM\"].nunique(), ctd[\"OMIM\"].nunique())\n",
    "#2148 4051"
   ]
  },
  {
   "cell_type": "code",
   "execution_count": 21,
   "id": "6e2a42bb",
   "metadata": {},
   "outputs": [
    {
     "name": "stdout",
     "output_type": "stream",
     "text": [
      "           HP         OMIM\n",
      "0  HP:0000602  OMIM:100050\n",
      "1  HP:0002240  OMIM:100050\n",
      "2  HP:0001250  OMIM:100300 \n",
      "            MESH         OMIM\n",
      "0  MESH:C537805  OMIM:264300\n",
      "1  MESH:C537806  OMIM:203400\n",
      "2  MESH:C537806  OMIM:610600\n"
     ]
    }
   ],
   "source": [
    "print(phenotype_df_t184[:3], \"\\n\", ctd[:3])"
   ]
  },
  {
   "cell_type": "code",
   "execution_count": 22,
   "id": "71dbe113",
   "metadata": {
    "scrolled": true
   },
   "outputs": [
    {
     "name": "stdout",
     "output_type": "stream",
     "text": [
      "3688\n"
     ]
    },
    {
     "data": {
      "text/plain": [
       "[['HP', 372], ['OMIM', 1306], ['MESH', 1236]]"
      ]
     },
     "execution_count": 22,
     "metadata": {},
     "output_type": "execute_result"
    }
   ],
   "source": [
    "#アノテーションデータを症状タームで限定した（T184にあたるHPOのみ）\n",
    "#さらに疾患タームで限定する（MESHに置換できるOMIMのみ）\n",
    "#subset\n",
    "\n",
    "subset = pd.merge(phenotype_df_t184, ctd)\n",
    "print(len(subset))\n",
    "[ [i, subset[i].nunique()] for i in subset.columns]\n"
   ]
  },
  {
   "cell_type": "code",
   "execution_count": 23,
   "id": "8b4bfbad",
   "metadata": {},
   "outputs": [
    {
     "name": "stdout",
     "output_type": "stream",
     "text": [
      "3581\n",
      "MeSH-HPOペアの数: 3581\n"
     ]
    },
    {
     "data": {
      "text/plain": [
       "1    3505\n",
       "2      59\n",
       "3       9\n",
       "4       6\n",
       "7       2\n",
       "Name: co_occurrence, dtype: int64"
      ]
     },
     "execution_count": 23,
     "metadata": {},
     "output_type": "execute_result"
    }
   ],
   "source": [
    "#MESH-HPOを疾患-症状の共起データとし、症状HPOを共有する疾患ー疾患ネットワークを作る\n",
    "\n",
    "co_occ_pair = pd.DataFrame(subset.groupby(['HP', 'MESH']).size()).reset_index()\n",
    "co_occ_pair = co_occ_pair.rename(columns={0:'co_occurrence'})\n",
    "co_occ_pair = co_occ_pair.sort_values(by = \"co_occurrence\", ascending=False).reset_index(drop=True)\n",
    "print(len(co_occ_pair)) #3368\n",
    "co_occ_pair[\"co_occurrence\"].value_counts()\n",
    "#MESH-HPOを疾患-症状の共起データとし、症状HPOを共有する疾患-疾患ネットワークを作る\n",
    "\n",
    "co_occ_pair = pd.DataFrame(subset.groupby(['HP', 'MESH']).size()).reset_index()\n",
    "co_occ_pair = co_occ_pair.rename(columns={0:'co_occurrence'})\n",
    "co_occ_pair = co_occ_pair.sort_values(by = \"co_occurrence\", ascending=False).reset_index(drop=True)\n",
    "print(\"MeSH-HPOペアの数:\", len(co_occ_pair)) #3368\n",
    "co_occ_pair[\"co_occurrence\"].value_counts()"
   ]
  },
  {
   "cell_type": "code",
   "execution_count": 24,
   "id": "5df144f8",
   "metadata": {},
   "outputs": [],
   "source": [
    "co_occ_pair.columns=[\"symptom\",\"disease\",\"co_occurrence\"]\n",
    "#co_occ_pair.sort_values(\"co_occurrence\", ascending=False)\n",
    "subset.columns=[\"symptom\",\"OMIM\",\"disease\"]"
   ]
  },
  {
   "cell_type": "markdown",
   "id": "178cd2f3",
   "metadata": {},
   "source": [
    "#chi2計算のみ"
   ]
  },
  {
   "cell_type": "markdown",
   "id": "64d882bc",
   "metadata": {},
   "source": [
    "chi2_pair = co_occ_pair[[\"symptom\",\"disease\"]].values.tolist()\n",
    "len(chi2_pair)"
   ]
  },
  {
   "cell_type": "markdown",
   "id": "c98e354a",
   "metadata": {},
   "source": [
    "crosstab_df = pd.crosstab(subset[\"symptom\"], subset[\"disease\"], margins=True, margins_name=\"Total\")\n",
    "crosstab_df.tail()"
   ]
  },
  {
   "cell_type": "markdown",
   "id": "a8305255",
   "metadata": {},
   "source": [
    "from scipy.stats import chi2\n",
    "\n",
    "all_num = crosstab_df.loc[\"Total\",\"Total\"]\n",
    "\n",
    "chi2_list=[] \n",
    "for pair in tqdm(chi2_pair[:]):\n",
    "    #print(pair)\n",
    "        \n",
    "        #観測度数　()内は期待度数\n",
    "        #------------------------------------------\n",
    "        #disease         Obesity         not_Obesity         All\n",
    "        #symptom                                  \n",
    "        #Obesity         observed_1(expected_1)     observed_2(expected_2)       target_symptom_num\n",
    "        #not_Obesity     observed_3(expected_3)     observed_4(expected_4)       (all_num - target_symptom_num)\n",
    "        #All             target_disease_num        (all_num - target_disease_num)        all_num\n",
    "        \n",
    "        \n",
    "        #例\n",
    "        \n",
    "        #観測度数\n",
    "        #disease      Obesity  not_Obesity     All\n",
    "        #symptom                                  \n",
    "        #Obesity         5458         7965   13423\n",
    "        #not_Obesity     2368       112517  114885\n",
    "        #All             7826       120482  128308\n",
    "        \n",
    "        #期待度数: [\n",
    "        #    [   818.72056302  12604.27943698  13423.        ]\n",
    "        #    [  7007.27943698 107877.72056302 114885.        ]\n",
    "        #    [  7826.         120482.         128308.        ]]\n",
    "        \n",
    "        \n",
    "    #観測度数 observed\n",
    "    observed_1 = crosstab_df.loc[pair[0], pair[1]]\n",
    "    target_symptom_num = crosstab_df.loc[pair[0], \"Total\"]\n",
    "    target_disease_num = crosstab_df.loc[\"Total\", pair[1]]\n",
    "    #以下all_numは計算済み\n",
    "    observed_2 = target_symptom_num - observed_1\n",
    "    observed_3 = target_disease_num- observed_1\n",
    "    observed_4 = all_num - (observed_1 + observed_2 + observed_3)\n",
    "        \n",
    "    #期待度数 expected\n",
    "    expected_1 = target_symptom_num / all_num * target_disease_num \n",
    "    expected_2 = target_symptom_num / all_num * (all_num - target_disease_num)\n",
    "    expected_3 = (all_num - target_symptom_num) / all_num * target_disease_num \n",
    "    expected_4 = (all_num - target_symptom_num) / all_num * (all_num - target_disease_num)\n",
    "        \n",
    "    #print(observed_1, observed_2, observed_3, observed_4) #観測度数\n",
    "    #print(expected_1, expected_2, expected_3, expected_4) #期待度数\n",
    "        \n",
    "    #計算\n",
    "    #χ2 = （【観測度数-期待度数】の二乗）÷期待度数　の総和\n",
    "    chai_value = (((observed_1 - expected_1)**2)/expected_1) + (((observed_2 - expected_2)**2)/expected_2) + (((observed_3 - expected_3)**2)/expected_3) + (((observed_4 - expected_4)**2)/expected_4)\n",
    "    #p値\n",
    "    p_value = chi2.sf(chai_value, df=1) #1-sp.stats.chi2.cdf(x = chai_value ,df = 1)\n",
    "        \n",
    "    chi2_list.append([pair[0], pair[-1], chai_value, p_value ])\n",
    "chi2_df = pd.DataFrame(chi2_list)"
   ]
  },
  {
   "cell_type": "markdown",
   "id": "5e4dfd72",
   "metadata": {},
   "source": [
    "chi2_df = chi2_df.sort_values(by=[0,1]).reset_index(drop=True)\n",
    "chi2_df.head()"
   ]
  },
  {
   "cell_type": "markdown",
   "id": "4372ec87",
   "metadata": {},
   "source": [
    "#chi2_df整形\n",
    "chi2_df = chi2_df.reset_index(drop=True)\n",
    "chi2_df.columns=[\"symptom\", \"disease\", \"chi2\", \"p\"]\n",
    "chi2_df[\"1-p\"] = 1-chi2_df[\"p\"]\n",
    "chi2_df = chi2_df.sort_values(by=\"1-p\", ascending=True).reset_index(drop=True)\n",
    "chi2_df[\"Np\"] = chi2_df.index"
   ]
  },
  {
   "cell_type": "markdown",
   "id": "95207bf7",
   "metadata": {},
   "source": [
    "#95％のところにあるp値\n",
    "import numpy as np\n",
    "\n",
    "num = np.percentile(np.array(chi2_df[\"p\"]), 95) \n",
    "print(num)\n",
    "#その値に最も近いp値のインデックスを取得\n",
    "index = np.abs(chi2_df[\"p\"] - num).argsort()[0].tolist()\n",
    "\n",
    "#５％のところにある1-pでも同じ\n",
    "#index = np.abs(chi2_df[\"1-p\"] -np.percentile(np.array(chi2_df[\"1-p\"]), 5)).argsort()[0].tolist()\n",
    "\n",
    "print(\"index number: \", index)\n",
    "chi2_df[index:index+1]"
   ]
  },
  {
   "cell_type": "markdown",
   "id": "ff722c0d",
   "metadata": {},
   "source": [
    "#プロット\n",
    "\n",
    "def calc_slope_intersept(x1, y1, x2, y2):\n",
    "    a = (y1 - y2) / (x1 - x2)\n",
    "    b = y1 - a * x1\n",
    "    return (a, b)\n",
    "\n",
    "#座標の最小値と最大値を設定\n",
    "x1 = 0\n",
    "y1 = 0\n",
    "x2 = chi2_df.loc[index, \"1-p\"]\n",
    "y2 = chi2_df.loc[index, \"Np\"]\n",
    "print(x1, y1, \"→\", x2, y2)\n",
    "\n",
    "if __name__ == \"__main__\":\n",
    "    a, b = calc_slope_intersept(x1, y1, x2, y2)"
   ]
  },
  {
   "cell_type": "markdown",
   "id": "5756388d",
   "metadata": {},
   "source": [
    "import sqlalchemy\n",
    "from matplotlib.ticker import ScalarFormatter\n",
    "\n",
    "fig = plt.figure(figsize=(8,5))\n",
    "plt.style.use('seaborn-whitegrid')\n",
    "ax = fig.add_subplot(1,1,1)\n",
    "ax.set_xticks([i/10 for i in range(0,12,1)])\n",
    "ax.yaxis.set_major_formatter(ScalarFormatter(useMathText=True))\n",
    "ax.ticklabel_format(style=\"sci\",  axis=\"y\",scilimits=(0,0))\n",
    "#ax.set_title(\"\")\n",
    "ax.set_xlabel('1-p')\n",
    "ax.set_ylabel('Np')\n",
    "\n",
    "#曲線\n",
    "x2 = chi2_df[\"1-p\"]\n",
    "y2 = chi2_df[\"Np\"]\n",
    "plt.plot(x2, y2, linewidth=5, color=\"c\", alpha=0.5)\n",
    "\n",
    "#(0,0)と最大値の2点を直線で結ぶ\n",
    "plt.plot([0, 1.1], [0, a*1.1],  linewidth=3, color=\"hotpink\", alpha=1)\n",
    "plt.grid(True)\n",
    "plt.show()"
   ]
  },
  {
   "cell_type": "markdown",
   "id": "c3cc9cc6",
   "metadata": {},
   "source": [
    "chi2_df[chi2_df.duplicated()] #重複行は無し"
   ]
  },
  {
   "cell_type": "code",
   "execution_count": 25,
   "id": "fb040218",
   "metadata": {},
   "outputs": [
    {
     "data": {
      "text/plain": [
       "3581"
      ]
     },
     "execution_count": 25,
     "metadata": {},
     "output_type": "execute_result"
    }
   ],
   "source": [
    "len(co_occ_pair)"
   ]
  },
  {
   "cell_type": "code",
   "execution_count": 26,
   "id": "3c79133e",
   "metadata": {},
   "outputs": [],
   "source": [
    "#ペアはカットせずに全部使う"
   ]
  },
  {
   "cell_type": "code",
   "execution_count": 27,
   "id": "90608387",
   "metadata": {},
   "outputs": [
    {
     "data": {
      "text/plain": [
       "372"
      ]
     },
     "execution_count": 27,
     "metadata": {},
     "output_type": "execute_result"
    }
   ],
   "source": [
    "#TF-IDF計算\n",
    "#symptomとペアになるdisease総数\n",
    "idf_n_i = co_occ_pair.groupby(\"symptom\").count().reset_index()[[\"symptom\", \"disease\"]].values.tolist()\n",
    "len(idf_n_i) "
   ]
  },
  {
   "cell_type": "code",
   "execution_count": 28,
   "id": "842cf398",
   "metadata": {},
   "outputs": [
    {
     "data": {
      "application/vnd.jupyter.widget-view+json": {
       "model_id": "bfc3c19016e540bfb0bd1e89f96c842b",
       "version_major": 2,
       "version_minor": 0
      },
      "text/plain": [
       "  0%|          | 0/3581 [00:00<?, ?it/s]"
      ]
     },
     "metadata": {},
     "output_type": "display_data"
    }
   ],
   "source": [
    "\n",
    "tfidf_list=[]\n",
    "N = co_occ_pair[\"disease\"].nunique() #3602 #全疾患の種類数\n",
    "\n",
    "for pair in tqdm(co_occ_pair.values.tolist()): #co_occ_pair：共起ペアと共起数\n",
    "    for symptom in idf_n_i: #idf_n_i：symptomとdisease総数\n",
    "        \n",
    "        if pair[0]==symptom[0]: #同じsymptomだったら\n",
    "            \n",
    "            #バラバシ数式\n",
    "            W_ij = pair[-1] #diseaseとの共起数\n",
    "            n_i = symptom[1] #symptomとペアになるdisease総数\n",
    "            tfidf_value = W_ij*np.log(N /n_i) \n",
    "            \n",
    "            tfidf_list.append([pair[0],  pair[1], W_ij, n_i, tfidf_value])\n",
    "\n",
    "tfidf = pd.DataFrame(tfidf_list, columns=[\"symptom\",\"disease\",\"co_occurence\", \"disease_num\", \"tf_idf\"])\n",
    "#disease_num：symptomとペアになるdisease総数\n",
    "tfidf = tfidf.sort_values(by=\"tf_idf\", ascending=False).reset_index(drop=True)\n",
    "#3368"
   ]
  },
  {
   "cell_type": "code",
   "execution_count": 29,
   "id": "f5811d46",
   "metadata": {},
   "outputs": [
    {
     "name": "stdout",
     "output_type": "stream",
     "text": [
      "14008.39261591134\n",
      "14008.392615911342\n"
     ]
    }
   ],
   "source": [
    "print(tfidf[\"tf_idf\"].sum())\n",
    "\n",
    "#行列の形にする\n",
    "pivot_tfidf_df = tfidf.pivot(index='disease', columns='symptom', values='tf_idf').fillna(0)\n",
    "print(pivot_tfidf_df.sum().sum())\n"
   ]
  },
  {
   "cell_type": "code",
   "execution_count": 30,
   "id": "02e1a77c",
   "metadata": {},
   "outputs": [
    {
     "data": {
      "image/png": "[encoded data removed]",
      "text/plain": [
       "<Figure size 864x288 with 1 Axes>"
      ]
     },
     "metadata": {
      "needs_background": "light"
     },
     "output_type": "display_data"
    }
   ],
   "source": [
    "#疾患・症状のTFIDFがゼロより大きい値を取り出した時の可視化\n",
    "\n",
    "plt.figure(figsize=(12,4))\n",
    "\n",
    "#TFIDFの数\n",
    "#plt.subplot(121)\n",
    "each_disease_sum_vector = [sum(pivot_tfidf_df.loc[disease, :]>0) for disease in pivot_tfidf_df.index]\n",
    "plt.hist(each_disease_sum_vector,color='c', bins=len(set(each_disease_sum_vector)), alpha=0.8)\n",
    "plt.xlabel('sum')\n",
    "plt.ylabel(\"frequency\")\n",
    "plt.show()"
   ]
  },
  {
   "cell_type": "code",
   "execution_count": 31,
   "id": "d7d220b1",
   "metadata": {},
   "outputs": [
    {
     "name": "stdout",
     "output_type": "stream",
     "text": [
      "1236\n"
     ]
    }
   ],
   "source": [
    "#コサイン類似度　計算\n",
    "\n",
    "#コサイン算出用データフレームを作る\n",
    "pre_cosine_df = tfidf.sort_values(['symptom', 'disease'])[['symptom', 'disease',\"tf_idf\"]].reset_index(drop=True)\n",
    "pre_cosine_df = pd.pivot_table(pre_cosine_df, index='disease', columns='symptom', values=\"tf_idf\")\n",
    "pre_cosine_df = pre_cosine_df.fillna(0)#欠損値に0を入れる\n",
    "#疾患個数\n",
    "print(len(pre_cosine_df.index)) #1431\n"
   ]
  },
  {
   "cell_type": "code",
   "execution_count": 32,
   "id": "94d73e82",
   "metadata": {},
   "outputs": [
    {
     "name": "stdout",
     "output_type": "stream",
     "text": [
      "1527696\n",
      "('MESH:C531617', 'MESH:C531617') ('MESH:C531617', 'MESH:C531651')\n"
     ]
    }
   ],
   "source": [
    "#疾患ペア(直積ペア)を作る\n",
    "import itertools\n",
    "product_list = list(itertools.product(pre_cosine_df.index, pre_cosine_df.index))\n",
    "print(len(product_list))#2047761\n",
    "print(product_list[0], product_list[1])"
   ]
  },
  {
   "cell_type": "code",
   "execution_count": 33,
   "id": "0ea6e543",
   "metadata": {},
   "outputs": [],
   "source": [
    "#tfidf行列を疾患（＝行）ごとに分けて直積ペアを作る\n",
    "vectors = [each_vectors for each_vectors in np.array(pre_cosine_df)]\n",
    "vectors_list = list(itertools.product(vectors, vectors))"
   ]
  },
  {
   "cell_type": "code",
   "execution_count": 34,
   "id": "13e0a916",
   "metadata": {},
   "outputs": [
    {
     "data": {
      "application/vnd.jupyter.widget-view+json": {
       "model_id": "fd3aa573fc0b42eda8e6c91b86af0ffa",
       "version_major": 2,
       "version_minor": 0
      },
      "text/plain": [
       "0it [00:00, ?it/s]"
      ]
     },
     "metadata": {},
     "output_type": "display_data"
    }
   ],
   "source": [
    "#コサイン類似度\n",
    "\n",
    "#計算式\n",
    "def cosine_similarity(x, y):#xとyはベクトルの成分\n",
    "    return (np.dot(x, y) / (np.sqrt(np.dot(x, x)) * np.sqrt(np.dot(y, y))))\n",
    "\n",
    "#直積ペアにコサイン類似度計算を適用 \n",
    "cosine_similarity_list = []\n",
    "for disease_pair, vector in tqdm(zip( product_list, vectors_list )):\n",
    "    cosine_similarity_list.append([disease_pair[0], disease_pair[-1], cosine_similarity(vector[0], vector[1])])"
   ]
  },
  {
   "cell_type": "code",
   "execution_count": 35,
   "id": "dd79aec8",
   "metadata": {},
   "outputs": [
    {
     "name": "stdout",
     "output_type": "stream",
     "text": [
      "1527696 1236\n"
     ]
    }
   ],
   "source": [
    "#データフレーム化\n",
    "cosine_df = pd.DataFrame(cosine_similarity_list, columns=[\"disease_1\", \"disease_2\", \"cosine_similarity\"])\n",
    "cosine_df = cosine_df.sort_values(\"cosine_similarity\", ascending=False).reset_index(drop=True)\n",
    "pivot_cosine_df = cosine_df.pivot(index='disease_1', columns='disease_2', values='cosine_similarity')#.fillna(0)\n",
    "print(len(cosine_df), len(pivot_cosine_df))\n"
   ]
  },
  {
   "cell_type": "code",
   "execution_count": 36,
   "id": "132911e4",
   "metadata": {},
   "outputs": [],
   "source": [
    "#インデックスを取得\n",
    "pivot_index = pivot_cosine_df.index.tolist()"
   ]
  },
  {
   "cell_type": "code",
   "execution_count": 37,
   "id": "e49b0812",
   "metadata": {},
   "outputs": [
    {
     "data": {
      "text/html": [
       "<div>\n",
       "<style scoped>\n",
       "    .dataframe tbody tr th:only-of-type {\n",
       "        vertical-align: middle;\n",
       "    }\n",
       "\n",
       "    .dataframe tbody tr th {\n",
       "        vertical-align: top;\n",
       "    }\n",
       "\n",
       "    .dataframe thead th {\n",
       "        text-align: right;\n",
       "    }\n",
       "</style>\n",
       "<table border=\"1\" class=\"dataframe\">\n",
       "  <thead>\n",
       "    <tr style=\"text-align: right;\">\n",
       "      <th>disease_2</th>\n",
       "      <th>MESH:C531617</th>\n",
       "      <th>MESH:C531651</th>\n",
       "      <th>MESH:C531816</th>\n",
       "      <th>MESH:C531854</th>\n",
       "      <th>MESH:C535274</th>\n",
       "      <th>MESH:C535288</th>\n",
       "      <th>MESH:C535289</th>\n",
       "      <th>MESH:C535301</th>\n",
       "      <th>MESH:C535302</th>\n",
       "      <th>MESH:C535303</th>\n",
       "      <th>...</th>\n",
       "      <th>MESH:D057180</th>\n",
       "      <th>MESH:D058088</th>\n",
       "      <th>MESH:D058494</th>\n",
       "      <th>MESH:D058497</th>\n",
       "      <th>MESH:D058540</th>\n",
       "      <th>MESH:D058631</th>\n",
       "      <th>MESH:D058747</th>\n",
       "      <th>MESH:D059446</th>\n",
       "      <th>MESH:D065635</th>\n",
       "      <th>MESH:D065766</th>\n",
       "    </tr>\n",
       "    <tr>\n",
       "      <th>disease_1</th>\n",
       "      <th></th>\n",
       "      <th></th>\n",
       "      <th></th>\n",
       "      <th></th>\n",
       "      <th></th>\n",
       "      <th></th>\n",
       "      <th></th>\n",
       "      <th></th>\n",
       "      <th></th>\n",
       "      <th></th>\n",
       "      <th></th>\n",
       "      <th></th>\n",
       "      <th></th>\n",
       "      <th></th>\n",
       "      <th></th>\n",
       "      <th></th>\n",
       "      <th></th>\n",
       "      <th></th>\n",
       "      <th></th>\n",
       "      <th></th>\n",
       "      <th></th>\n",
       "    </tr>\n",
       "  </thead>\n",
       "  <tbody>\n",
       "    <tr>\n",
       "      <th>MESH:C531617</th>\n",
       "      <td>0.000000</td>\n",
       "      <td>0.0</td>\n",
       "      <td>0.000000</td>\n",
       "      <td>0.0</td>\n",
       "      <td>0.0</td>\n",
       "      <td>0.0</td>\n",
       "      <td>0.0</td>\n",
       "      <td>0.0</td>\n",
       "      <td>0.0</td>\n",
       "      <td>0.0</td>\n",
       "      <td>...</td>\n",
       "      <td>0.0</td>\n",
       "      <td>0.0</td>\n",
       "      <td>0.0</td>\n",
       "      <td>0.0</td>\n",
       "      <td>0.0</td>\n",
       "      <td>0.0</td>\n",
       "      <td>0.0</td>\n",
       "      <td>0.0</td>\n",
       "      <td>0.0</td>\n",
       "      <td>0.0</td>\n",
       "    </tr>\n",
       "    <tr>\n",
       "      <th>MESH:C531651</th>\n",
       "      <td>0.353548</td>\n",
       "      <td>0.0</td>\n",
       "      <td>0.000000</td>\n",
       "      <td>0.0</td>\n",
       "      <td>0.0</td>\n",
       "      <td>0.0</td>\n",
       "      <td>0.0</td>\n",
       "      <td>0.0</td>\n",
       "      <td>0.0</td>\n",
       "      <td>0.0</td>\n",
       "      <td>...</td>\n",
       "      <td>0.0</td>\n",
       "      <td>0.0</td>\n",
       "      <td>0.0</td>\n",
       "      <td>0.0</td>\n",
       "      <td>0.0</td>\n",
       "      <td>0.0</td>\n",
       "      <td>0.0</td>\n",
       "      <td>0.0</td>\n",
       "      <td>0.0</td>\n",
       "      <td>0.0</td>\n",
       "    </tr>\n",
       "    <tr>\n",
       "      <th>MESH:C531816</th>\n",
       "      <td>0.000000</td>\n",
       "      <td>0.0</td>\n",
       "      <td>0.000000</td>\n",
       "      <td>0.0</td>\n",
       "      <td>0.0</td>\n",
       "      <td>0.0</td>\n",
       "      <td>0.0</td>\n",
       "      <td>0.0</td>\n",
       "      <td>0.0</td>\n",
       "      <td>0.0</td>\n",
       "      <td>...</td>\n",
       "      <td>0.0</td>\n",
       "      <td>0.0</td>\n",
       "      <td>0.0</td>\n",
       "      <td>0.0</td>\n",
       "      <td>0.0</td>\n",
       "      <td>0.0</td>\n",
       "      <td>0.0</td>\n",
       "      <td>0.0</td>\n",
       "      <td>0.0</td>\n",
       "      <td>0.0</td>\n",
       "    </tr>\n",
       "    <tr>\n",
       "      <th>MESH:C531854</th>\n",
       "      <td>0.000000</td>\n",
       "      <td>0.0</td>\n",
       "      <td>0.277856</td>\n",
       "      <td>0.0</td>\n",
       "      <td>0.0</td>\n",
       "      <td>0.0</td>\n",
       "      <td>0.0</td>\n",
       "      <td>0.0</td>\n",
       "      <td>0.0</td>\n",
       "      <td>0.0</td>\n",
       "      <td>...</td>\n",
       "      <td>0.0</td>\n",
       "      <td>0.0</td>\n",
       "      <td>0.0</td>\n",
       "      <td>0.0</td>\n",
       "      <td>0.0</td>\n",
       "      <td>0.0</td>\n",
       "      <td>0.0</td>\n",
       "      <td>0.0</td>\n",
       "      <td>0.0</td>\n",
       "      <td>0.0</td>\n",
       "    </tr>\n",
       "    <tr>\n",
       "      <th>MESH:C535274</th>\n",
       "      <td>0.000000</td>\n",
       "      <td>0.0</td>\n",
       "      <td>0.000000</td>\n",
       "      <td>0.0</td>\n",
       "      <td>0.0</td>\n",
       "      <td>0.0</td>\n",
       "      <td>0.0</td>\n",
       "      <td>0.0</td>\n",
       "      <td>0.0</td>\n",
       "      <td>0.0</td>\n",
       "      <td>...</td>\n",
       "      <td>0.0</td>\n",
       "      <td>0.0</td>\n",
       "      <td>0.0</td>\n",
       "      <td>0.0</td>\n",
       "      <td>0.0</td>\n",
       "      <td>0.0</td>\n",
       "      <td>0.0</td>\n",
       "      <td>0.0</td>\n",
       "      <td>0.0</td>\n",
       "      <td>0.0</td>\n",
       "    </tr>\n",
       "  </tbody>\n",
       "</table>\n",
       "<p>5 rows × 1236 columns</p>\n",
       "</div>"
      ],
      "text/plain": [
       "disease_2     MESH:C531617  MESH:C531651  MESH:C531816  MESH:C531854  \\\n",
       "disease_1                                                              \n",
       "MESH:C531617      0.000000           0.0      0.000000           0.0   \n",
       "MESH:C531651      0.353548           0.0      0.000000           0.0   \n",
       "MESH:C531816      0.000000           0.0      0.000000           0.0   \n",
       "MESH:C531854      0.000000           0.0      0.277856           0.0   \n",
       "MESH:C535274      0.000000           0.0      0.000000           0.0   \n",
       "\n",
       "disease_2     MESH:C535274  MESH:C535288  MESH:C535289  MESH:C535301  \\\n",
       "disease_1                                                              \n",
       "MESH:C531617           0.0           0.0           0.0           0.0   \n",
       "MESH:C531651           0.0           0.0           0.0           0.0   \n",
       "MESH:C531816           0.0           0.0           0.0           0.0   \n",
       "MESH:C531854           0.0           0.0           0.0           0.0   \n",
       "MESH:C535274           0.0           0.0           0.0           0.0   \n",
       "\n",
       "disease_2     MESH:C535302  MESH:C535303  ...  MESH:D057180  MESH:D058088  \\\n",
       "disease_1                                 ...                               \n",
       "MESH:C531617           0.0           0.0  ...           0.0           0.0   \n",
       "MESH:C531651           0.0           0.0  ...           0.0           0.0   \n",
       "MESH:C531816           0.0           0.0  ...           0.0           0.0   \n",
       "MESH:C531854           0.0           0.0  ...           0.0           0.0   \n",
       "MESH:C535274           0.0           0.0  ...           0.0           0.0   \n",
       "\n",
       "disease_2     MESH:D058494  MESH:D058497  MESH:D058540  MESH:D058631  \\\n",
       "disease_1                                                              \n",
       "MESH:C531617           0.0           0.0           0.0           0.0   \n",
       "MESH:C531651           0.0           0.0           0.0           0.0   \n",
       "MESH:C531816           0.0           0.0           0.0           0.0   \n",
       "MESH:C531854           0.0           0.0           0.0           0.0   \n",
       "MESH:C535274           0.0           0.0           0.0           0.0   \n",
       "\n",
       "disease_2     MESH:D058747  MESH:D059446  MESH:D065635  MESH:D065766  \n",
       "disease_1                                                             \n",
       "MESH:C531617           0.0           0.0           0.0           0.0  \n",
       "MESH:C531651           0.0           0.0           0.0           0.0  \n",
       "MESH:C531816           0.0           0.0           0.0           0.0  \n",
       "MESH:C531854           0.0           0.0           0.0           0.0  \n",
       "MESH:C535274           0.0           0.0           0.0           0.0  \n",
       "\n",
       "[5 rows x 1236 columns]"
      ]
     },
     "execution_count": 37,
     "metadata": {},
     "output_type": "execute_result"
    }
   ],
   "source": [
    "#「同じ疾患同士」「順序が逆になっているだけで同じペアの片方」を削除\n",
    "\n",
    "#アレイに変換\n",
    "recent_array = np.array(pivot_cosine_df)\n",
    "\n",
    "#下三角行列を取得する\n",
    "#numpy.tril()の引数にnumpy.ndarrayを指定すると、対角線より上の成分をゼロとしたnumpy.ndarrayが返される。\n",
    "#対角線のコサイン値＝１は不要なので、この対角線箇所も含めてゼロにしたい。\n",
    "#numpy.tril()の第二引数のkで、境界となる対角線の位置が指定できる（正の値だと上側（右側）、負の値だと下側（左側）に移動する）\n",
    "\n",
    "recent_array = np.tril(recent_array, k=-1) \n",
    "\n",
    "#データフレームにする　対角線含む上の値がゼロになっているか確認\n",
    "repivot_cosine_df= pd.DataFrame(recent_array, index=pivot_cosine_df.index, columns=pivot_cosine_df.columns)\n",
    "repivot_cosine_df[:5]\n",
    "#1431 columns"
   ]
  },
  {
   "cell_type": "code",
   "execution_count": 38,
   "id": "7a4e3679",
   "metadata": {},
   "outputs": [
    {
     "name": "stdout",
     "output_type": "stream",
     "text": [
      "98193\n"
     ]
    }
   ],
   "source": [
    "#下三角行列のうち、コサイン値ゼロ以外の値の位置を取得\n",
    "recent_array_index_list = [[value_0,\n",
    "                            value_1] for value_0, value_1 in zip(list(np.where(recent_array>0)[0]),\n",
    "                                                                 list(np.where(recent_array>0)[1]))]\n",
    "print(len(recent_array_index_list)) #165320"
   ]
  },
  {
   "cell_type": "code",
   "execution_count": 39,
   "id": "7b005f5e",
   "metadata": {},
   "outputs": [
    {
     "data": {
      "application/vnd.jupyter.widget-view+json": {
       "model_id": "f91a72aef0514a688a18cd989e34e476",
       "version_major": 2,
       "version_minor": 0
      },
      "text/plain": [
       "  0%|          | 0/98193 [00:00<?, ?it/s]"
      ]
     },
     "metadata": {},
     "output_type": "display_data"
    }
   ],
   "source": [
    "#元の（半分ゼロにする前の）行列で同じ位置を指定し、そのインデックス（疾患ペア）と値（コサイン値）を取得\n",
    "#疾患a, 疾患b, abのコサイン値\n",
    "repivot_pair = [ [pivot_index[i[0]],\n",
    "                  pivot_index[i[1]], \n",
    "                  repivot_cosine_df.iloc[i[0], i[1]]] for i in tqdm(recent_array_index_list)]\n",
    "\n",
    "# 作成されるデータは\n",
    "#    「同じ疾患同士」「順序が逆になっただけの同じペアのうちの片方」「コサイン値ゼロ」これらを除いたデータ"
   ]
  },
  {
   "cell_type": "code",
   "execution_count": 40,
   "id": "0a9a049c",
   "metadata": {},
   "outputs": [],
   "source": [
    "hpo_cos = pd.DataFrame(repivot_pair, columns=[\"disease_1\", \"disease_2\", \"cosine_similarity\"])"
   ]
  },
  {
   "cell_type": "markdown",
   "id": "c5e2cb10",
   "metadata": {},
   "source": [
    "print(\"ds_pair数:\", len(tfidf))\n",
    "print(\"disease_MeSHの種類数:\", len(repivot_cosine_df.index))\n",
    "print(\"symptom_MeSHの種類数:\", len(idf_n_i), \"\\n\")\n",
    "\n",
    "print(\"dd_pairの種類数(all):\", len(hpo_cos))\n",
    "print(\"dd_pairの種類数(O.1<cos):\", len(hpo_cos[hpo_cos[\"cosine_similarity\"]>0.1]))\n",
    "print(\"dd_pairの種類数(O.2<cos):\", len(hpo_cos[hpo_cos[\"cosine_similarity\"]>0.2]))\n",
    "print(\"dd_pairの種類数(O.5<cos):\", len(hpo_cos[hpo_cos[\"cosine_similarity\"]>0.5]), \"\\n\")\n",
    "\n",
    "print(\"---O.1<cos---\")\n",
    "cos1 = hpo_cos[hpo_cos[\"cosine_similarity\"]>0.1]\n",
    "print(\"dd_pairの種類数:\", len(cos1))\n",
    "print(\"disaease(MeSH)の種類数:\", len(set(cos1[\"disease_1\"].values.tolist() + cos1[\"disease_2\"].values.tolist())))\n",
    "print(\"0.1<cosでのcos_max:\", cos1[\"cosine_similarity\"].max())\n",
    "print(\"0.1<cosでのcos_min:\", cos1[\"cosine_similarity\"].min(), \"\\n\")\n",
    "\n",
    "print(\"---O.1<cos<1---\")\n",
    "cos2 = hpo_cos[ (hpo_cos[\"cosine_similarity\"]>0.1) & (hpo_cos[\"cosine_similarity\"]<1)]\n",
    "print(\"dd_pairの種類数:\", len(cos2))\n",
    "print(\"disaease(MeSH)の種類数:\", len(set(cos2[\"disease_1\"].values.tolist() + cos2[\"disease_2\"].values.tolist())))\n",
    "print(\"0.1<cos<1でのcos_max:\", cos2[\"cosine_similarity\"].max())\n",
    "print(\"0.1<cos<1でのcos_min:\", cos2[\"cosine_similarity\"].min())"
   ]
  },
  {
   "cell_type": "markdown",
   "id": "297216d9",
   "metadata": {},
   "source": [
    "ds_pair数: 3368\n",
    "disease_MeSHの種類数: 1431\n",
    "symptom_MeSHの種類数: 165 \n",
    "\n",
    "dd_pairの種類数(all): 165320\n",
    "dd_pairの種類数(O.1<cos): 119282\n",
    "dd_pairの種類数(O.2<cos): 84599\n",
    "dd_pairの種類数(O.5<cos): 27339 \n",
    "\n",
    "---O.1<cos---\n",
    "dd_pairの種類数: 119282\n",
    "disaease(MeSH)の種類数: 1424\n",
    "0.1<cosでのcos_max: 1.0000000000000002\n",
    "0.1<cosでのcos_min: 0.10002392265268653 \n",
    "\n",
    "---O.1<cos<1---\n",
    "dd_pairの種類数: 106525\n",
    "disaease(MeSH)の種類数: 1422\n",
    "0.1<cos<1でのcos_max: 0.9999999999999999\n",
    "0.1<cos<1でのcos_min: 0.10002392265268653"
   ]
  },
  {
   "cell_type": "code",
   "execution_count": 41,
   "id": "68aab2ee",
   "metadata": {},
   "outputs": [
    {
     "name": "stdout",
     "output_type": "stream",
     "text": [
      "98193\n"
     ]
    }
   ],
   "source": [
    "print(len(hpo_cos))"
   ]
  },
  {
   "cell_type": "code",
   "execution_count": 42,
   "id": "2dea53f7",
   "metadata": {
    "scrolled": true
   },
   "outputs": [
    {
     "data": {
      "text/html": [
       "<div>\n",
       "<style scoped>\n",
       "    .dataframe tbody tr th:only-of-type {\n",
       "        vertical-align: middle;\n",
       "    }\n",
       "\n",
       "    .dataframe tbody tr th {\n",
       "        vertical-align: top;\n",
       "    }\n",
       "\n",
       "    .dataframe thead th {\n",
       "        text-align: right;\n",
       "    }\n",
       "</style>\n",
       "<table border=\"1\" class=\"dataframe\">\n",
       "  <thead>\n",
       "    <tr style=\"text-align: right;\">\n",
       "      <th></th>\n",
       "      <th>disease_1</th>\n",
       "      <th>disease_2</th>\n",
       "      <th>cosine_similarity</th>\n",
       "    </tr>\n",
       "  </thead>\n",
       "  <tbody>\n",
       "    <tr>\n",
       "      <th>0</th>\n",
       "      <td>C531651</td>\n",
       "      <td>C531617</td>\n",
       "      <td>0.353548</td>\n",
       "    </tr>\n",
       "    <tr>\n",
       "      <th>1</th>\n",
       "      <td>C531854</td>\n",
       "      <td>C531816</td>\n",
       "      <td>0.277856</td>\n",
       "    </tr>\n",
       "    <tr>\n",
       "      <th>2</th>\n",
       "      <td>C535288</td>\n",
       "      <td>C531816</td>\n",
       "      <td>0.298855</td>\n",
       "    </tr>\n",
       "  </tbody>\n",
       "</table>\n",
       "</div>"
      ],
      "text/plain": [
       "  disease_1 disease_2  cosine_similarity\n",
       "0   C531651   C531617           0.353548\n",
       "1   C531854   C531816           0.277856\n",
       "2   C535288   C531816           0.298855"
      ]
     },
     "execution_count": 42,
     "metadata": {},
     "output_type": "execute_result"
    }
   ],
   "source": [
    "#hpo_cos MeSH表記修正\n",
    "\n",
    "hpo_cos[\"disease_1_id\"] = [i.replace(\"MESH:\", '') for i in hpo_cos[\"disease_1\"] ] \n",
    "hpo_cos[\"disease_2_id\"] = [i.replace(\"MESH:\", '') for i in hpo_cos[\"disease_2\"] ] \n",
    "hpo_cos = hpo_cos[[\"disease_1_id\", \"disease_2_id\", 'cosine_similarity'] ]\n",
    "hpo_cos.set_axis(['disease_1', 'disease_2', 'cosine_similarity'], axis='columns', inplace=True)\n",
    "hpo_cos[:3]"
   ]
  },
  {
   "cell_type": "code",
   "execution_count": 43,
   "id": "d8768af8",
   "metadata": {},
   "outputs": [],
   "source": [
    "#HSDN読み込み\n",
    "\n",
    "#2011_HSDN読み込み\n",
    "os.chdir('/home/admin_user/デスクトップ/data')\n",
    "hsdn = pd.read_csv(\"hsdn_m2011_zhou_cut.csv\")#[[\"disease_1\", \"disease_2\"]]"
   ]
  },
  {
   "cell_type": "code",
   "execution_count": 44,
   "id": "d3b8265c",
   "metadata": {},
   "outputs": [
    {
     "data": {
      "application/vnd.jupyter.widget-view+json": {
       "model_id": "2efe3463f5fa4b5b8c733d0ad4760605",
       "version_major": 2,
       "version_minor": 0
      },
      "text/plain": [
       "  0%|          | 0/26142 [00:00<?, ?it/s]"
      ]
     },
     "metadata": {},
     "output_type": "display_data"
    },
    {
     "data": {
      "application/vnd.jupyter.widget-view+json": {
       "model_id": "9a3eca3b1a4d4de7bb067af5ecacc724",
       "version_major": 2,
       "version_minor": 0
      },
      "text/plain": [
       "  0%|          | 0/26142 [00:00<?, ?it/s]"
      ]
     },
     "metadata": {},
     "output_type": "display_data"
    },
    {
     "data": {
      "text/plain": [
       "(26142, 4475, 328)"
      ]
     },
     "execution_count": 44,
     "metadata": {},
     "output_type": "execute_result"
    }
   ],
   "source": [
    "#hsdnはメッシュ名のネットワークなので、メッシュIDのネットワークを作る\n",
    "\n",
    "#2011MeSH 読込\n",
    "os.chdir('/home/admin_user')\n",
    "with open('mesh_list_2011.pickle', 'rb') as f:\n",
    "    mesh_list = pickle.load(f)\n",
    "\n",
    "#メッシュから　メッシュIDと疾患/症状メッシュ、TreeNumber を取り出す\n",
    "#疾患メッシュ：Cのうち C22（動物)とC23.888（症状）を除外したもの）＋F03（精神障害）\n",
    "#症状メッシュ：C23.888\n",
    "mesh_diseases = [descriptor for descriptor in tqdm(mesh_list) for uid in descriptor[-1] if ((uid.startswith(\"C\")==True) & (uid.startswith(\"C22\")!=True)&(uid.startswith(\"C23.888\")!=True)) | (uid.startswith(\"F03\")==True) ]\n",
    "mesh_symptoms = [descriptor for descriptor in tqdm(mesh_list)  for uid in descriptor[-1] if (uid.startswith(\"C23.888\")==True)]\n",
    "#さらにメッシュ名だけにする＋重複削除\n",
    "mesh_diseases= pd.DataFrame(mesh_diseases)[1].drop_duplicates(keep='last').reset_index(drop=True).values.tolist()\n",
    "mesh_symptoms= pd.DataFrame(mesh_symptoms)[1].drop_duplicates(keep='last').reset_index(drop=True).values.tolist()\n",
    "\n",
    "len(mesh_list),len(mesh_diseases), len(mesh_symptoms)"
   ]
  },
  {
   "cell_type": "code",
   "execution_count": 45,
   "id": "875e86fd",
   "metadata": {},
   "outputs": [
    {
     "data": {
      "application/vnd.jupyter.widget-view+json": {
       "model_id": "6edc3da152a545488723bd67ab4e078b",
       "version_major": 2,
       "version_minor": 0
      },
      "text/plain": [
       "  0%|          | 0/4475 [00:00<?, ?it/s]"
      ]
     },
     "metadata": {},
     "output_type": "display_data"
    }
   ],
   "source": [
    "#hsdnはメッシュ名のネットワークなので、メッシュIDのネットワークを作る\n",
    "\n",
    "#id取り出し\n",
    "mesh_disease_id = [ [s[0],s[1] ] for i in tqdm(mesh_diseases) for s in mesh_list if i ==s[1] ]\n",
    "\n",
    "#mesh_id_hsdn([HSDN]) 作成\n",
    "mesh_id_1 = pd.merge( pd.DataFrame(mesh_disease_id, columns=[\"mesh_id\", \"disease_1\"]) , hsdn[\"disease_1\"], how=\"right\", on = \"disease_1\")\n",
    "mesh_id_2 = pd.merge( pd.DataFrame(mesh_disease_id, columns=[\"mesh_id\", \"disease_2\"]) , hsdn[\"disease_2\"], how=\"right\", on = \"disease_2\")\n"
   ]
  },
  {
   "cell_type": "code",
   "execution_count": 46,
   "id": "a262c93e",
   "metadata": {},
   "outputs": [
    {
     "name": "stdout",
     "output_type": "stream",
     "text": [
      "4554078\n"
     ]
    }
   ],
   "source": [
    "#MeSH_IDペアとコサイン類似度のデータフレームにする(=hsdn_cos)\n",
    "HSDN = pd.concat([mesh_id_1[\"mesh_id\"], mesh_id_2[\"mesh_id\"]], axis=1)\n",
    "hsdn_cos = pd.concat([HSDN, hsdn[\"cosine_similarity\"]], axis=1)\n",
    "hsdn_cos.set_axis(['disease_1', 'disease_2','cosine_similarity'], axis='columns', inplace=True)\n",
    "print(len(hsdn_cos))"
   ]
  },
  {
   "cell_type": "code",
   "execution_count": 47,
   "id": "44716890",
   "metadata": {},
   "outputs": [
    {
     "name": "stdout",
     "output_type": "stream",
     "text": [
      "1220\n"
     ]
    }
   ],
   "source": [
    "print(len(set(hpo_cos[\"disease_1\"].unique().tolist()) | set(hpo_cos[\"disease_2\"].unique().tolist())))"
   ]
  },
  {
   "cell_type": "code",
   "execution_count": 48,
   "id": "79104a42",
   "metadata": {},
   "outputs": [
    {
     "name": "stdout",
     "output_type": "stream",
     "text": [
      "hsdn_cos_G: Name: \n",
      "Type: Graph\n",
      "Number of nodes: 4186\n",
      "Number of edges: 4554078\n",
      "Average degree: 2175.8614 \n",
      "\n",
      "hpo_cos_G: Name: \n",
      "Type: Graph\n",
      "Number of nodes: 1220\n",
      "Number of edges: 98193\n",
      "Average degree: 160.9721 \n",
      "\n"
     ]
    }
   ],
   "source": [
    "#エッジリスト読込・ネットワーク作成\n",
    "import networkx as nx\n",
    "\n",
    "#hsdn\n",
    "hsdn_cos_G = nx.from_pandas_edgelist(hsdn_cos, \"disease_1\", \"disease_2\" )\n",
    "#benchmark\n",
    "hpo_cos_G = nx.from_pandas_edgelist( hpo_cos,\"disease_1\", \"disease_2\" )\n",
    "print(\"hsdn_cos_G:\", nx.info(hsdn_cos_G), \"\\n\")\n",
    "print(\"hpo_cos_G:\", nx.info(hpo_cos_G), \"\\n\")\n"
   ]
  },
  {
   "cell_type": "code",
   "execution_count": 49,
   "id": "a4ad70bd",
   "metadata": {},
   "outputs": [
    {
     "name": "stdout",
     "output_type": "stream",
     "text": [
      "N: 267\n"
     ]
    }
   ],
   "source": [
    "#hsdn_cos_G, hpo_cos_G  共通ノード数: N\n",
    "co_node = list(set([i for i in hsdn_cos_G.nodes()]) & set([i for i in hpo_cos_G.nodes()]))\n",
    "N = len(co_node)\n",
    "print(\"N:\", N) "
   ]
  },
  {
   "cell_type": "code",
   "execution_count": 50,
   "id": "1dc7d41e",
   "metadata": {},
   "outputs": [
    {
     "name": "stdout",
     "output_type": "stream",
     "text": [
      "267 267\n"
     ]
    }
   ],
   "source": [
    "hsdn_co_node = sorted([i for i in hsdn_cos_G.degree()  if i[0] in co_node])\n",
    "hpo_co_node = sorted([i for i in hpo_cos_G.degree()  if i[0] in co_node])\n",
    "print(len(hsdn_co_node), len(hpo_co_node)) "
   ]
  },
  {
   "cell_type": "code",
   "execution_count": 51,
   "id": "3fafed6d",
   "metadata": {},
   "outputs": [
    {
     "name": "stdout",
     "output_type": "stream",
     "text": [
      "L_possible: 35511.0\n"
     ]
    }
   ],
   "source": [
    "#あらかじめ、L_possible=N*(N-1)/2 を計算しておく\n",
    "L_possible = N*(N - 1)/2\n",
    "print(\"L_possible:\", L_possible)"
   ]
  },
  {
   "cell_type": "code",
   "execution_count": 52,
   "id": "c9c7a580",
   "metadata": {
    "scrolled": true
   },
   "outputs": [
    {
     "name": "stdout",
     "output_type": "stream",
     "text": [
      "  disease_1 disease_2  cosine_similarity\n",
      "0   D000182   D058489           0.201217\n",
      "1   D015526   D000182           0.144750\n",
      "2   D016263   D000182           0.009553 \n",
      "   disease_1 disease_2  cosine_similarity\n",
      "0   C531651   C531617           0.353548\n",
      "1   C531854   C531816           0.277856\n",
      "2   C535288   C531816           0.298855\n"
     ]
    }
   ],
   "source": [
    "print(hsdn_cos[:3], \"\\n\", hpo_cos[:3])"
   ]
  },
  {
   "cell_type": "code",
   "execution_count": 53,
   "id": "ffa37036",
   "metadata": {},
   "outputs": [
    {
     "name": "stdout",
     "output_type": "stream",
     "text": [
      "4554078 98193\n"
     ]
    }
   ],
   "source": [
    "print(len(hsdn_cos),len(hpo_cos))"
   ]
  },
  {
   "cell_type": "code",
   "execution_count": 54,
   "id": "14753cb3",
   "metadata": {
    "scrolled": true
   },
   "outputs": [
    {
     "data": {
      "application/vnd.jupyter.widget-view+json": {
       "model_id": "0f38f0e01ee149b58fe636e7c05650da",
       "version_major": 2,
       "version_minor": 0
      },
      "text/plain": [
       "0it [00:00, ?it/s]"
      ]
     },
     "metadata": {},
     "output_type": "display_data"
    },
    {
     "data": {
      "application/vnd.jupyter.widget-view+json": {
       "model_id": "7661ddeedebd437c9035ea42d34983c6",
       "version_major": 2,
       "version_minor": 0
      },
      "text/plain": [
       "0it [00:00, ?it/s]"
      ]
     },
     "metadata": {},
     "output_type": "display_data"
    },
    {
     "name": "stdout",
     "output_type": "stream",
     "text": [
      "L_HSDN: 17678\n",
      "L_HPO: 6395\n"
     ]
    }
   ],
   "source": [
    "#両者の共通部分のリンク数: L_both を求める\n",
    "\n",
    "#共通ノードを同士のペアからなるネットワークに縮小\n",
    "#Number of edges: 4554078\n",
    "hsdn_cos_index = [ enu for enu, i in tqdm(enumerate(hsdn_cos.values.tolist())) if (i[0] in co_node) & (i[1] in co_node) ]\n",
    "#Number of edges: 98193\n",
    "hpo_cos_index = [ enu for enu, i in tqdm(enumerate(hpo_cos.values.tolist())) if (i[0] in co_node) & (i[1] in co_node) ]\n",
    "\n",
    "hsdn_df = hsdn_cos.iloc[hsdn_cos_index].reset_index(drop=True)\n",
    "hpo_df = hpo_cos.iloc[hpo_cos_index].reset_index(drop=True)\n",
    "\n",
    "#HSDNでのリンク数を L_HSDN とする\n",
    "L_HSDN = len(hsdn_df)\n",
    "#HPOのリンク数を L_HPO とする\n",
    "L_HPO = len(hpo_df)\n",
    "\n",
    "print(\"L_HSDN:\", L_HSDN)\n",
    "print(\"L_HPO:\", L_HPO)"
   ]
  },
  {
   "cell_type": "code",
   "execution_count": 55,
   "id": "fab38423",
   "metadata": {},
   "outputs": [
    {
     "name": "stdout",
     "output_type": "stream",
     "text": [
      "2225\n",
      "1291\n",
      "3516\n",
      "L_both: 3516\n"
     ]
    }
   ],
   "source": [
    "#合わせる\n",
    "same_dd_pair_1 = pd.merge(hsdn_df, hpo_df, on=[\"disease_1\", \"disease_2\"])\n",
    "same_dd_pair_1 = same_dd_pair_1.rename(columns={\"cosine_similarity_x\": \"cosine_similarity_HSDN\", \"cosine_similarity_y\": \"cosine_similarity_hpo\"})\n",
    "print(len(same_dd_pair_1)) #4215\n",
    "\n",
    "#順番を逆にして合わせる\n",
    "hpo_df_rev = hpo_df[[\"disease_2\", \"disease_1\", \"cosine_similarity\"]]\n",
    "hpo_df_rev = hpo_df_rev.rename(columns={\"disease_2\":\"disease_1\", \"disease_1\":\"disease_2\"})\n",
    "\n",
    "same_dd_pair_2 = pd.merge(hsdn_df, hpo_df_rev, on=[\"disease_1\", \"disease_2\"])\n",
    "same_dd_pair_2 = same_dd_pair_2.rename(columns={\"cosine_similarity_x\": \"cosine_similarity_HSDN\", \"cosine_similarity_y\": \"cosine_similarity_hpo\"})\n",
    "print(len(same_dd_pair_2)) #2456\n",
    "\n",
    "same_dd_pair = pd.concat([same_dd_pair_1, same_dd_pair_2], axis=0)\n",
    "same_dd_pair = same_dd_pair.reset_index(drop=True)\n",
    "print(len(same_dd_pair)) #6671\n",
    "\n",
    "L_both = len(same_dd_pair)\n",
    "print(\"L_both:\", L_both)"
   ]
  },
  {
   "cell_type": "code",
   "execution_count": 56,
   "id": "435801cc",
   "metadata": {},
   "outputs": [
    {
     "name": "stdout",
     "output_type": "stream",
     "text": [
      "p_HSDN: 0.49781757765199514\n",
      "p_HPO: 0.1800850440708513\n"
     ]
    }
   ],
   "source": [
    "#p_HSDN=L_HSDN/L_possible を計算する\n",
    "p_HSDN=L_HSDN/L_possible\n",
    "#p_HPO=L_HPO/L_possible を計算する\n",
    "p_HPO=L_HPO/L_possible \n",
    "print(\"p_HSDN:\", p_HSDN)\n",
    "print(\"p_HPO:\", p_HPO)\n"
   ]
  },
  {
   "cell_type": "code",
   "execution_count": 57,
   "id": "3c0ff973",
   "metadata": {
    "scrolled": true
   },
   "outputs": [
    {
     "name": "stdout",
     "output_type": "stream",
     "text": [
      "L_expected: 3183.5434090845088\n"
     ]
    }
   ],
   "source": [
    "#p_HSDN * p_HPO * L_possible = L_expected を計算する\n",
    "L_expected = p_HSDN * p_HPO * L_possible\n",
    "print(\"L_expected:\", L_expected)\n",
    "\n",
    "#LL_expected: 5835.7387402933555"
   ]
  },
  {
   "cell_type": "code",
   "execution_count": 58,
   "id": "a11ffc38",
   "metadata": {},
   "outputs": [],
   "source": [
    "#二項分布Binom(n, p)を仮定して、 L_both が得られる確率 P-value を求める\n",
    "#二項分布のn: L_possible\n",
    "#二項分布のp: L_expected/L_possible \n"
   ]
  },
  {
   "cell_type": "code",
   "execution_count": 59,
   "id": "d887f183",
   "metadata": {
    "scrolled": false
   },
   "outputs": [
    {
     "name": "stdout",
     "output_type": "stream",
     "text": [
      "N: 267\n",
      "L_possible: 35511.0\n",
      "L_HSDN: 17678\n",
      "L_HPO: 6395\n",
      "p_HSDN: 0.49781757765199514\n",
      "p_HPO: 0.1800850440708513\n",
      "L_both: 3516\n",
      "L_expected: 3183.5434090845088\n"
     ]
    },
    {
     "data": {
      "text/plain": [
       "6.151814543064852e-10"
      ]
     },
     "execution_count": 59,
     "metadata": {},
     "output_type": "execute_result"
    }
   ],
   "source": [
    "print(\"N:\", N)\n",
    "print(\"L_possible:\", L_possible)\n",
    "print(\"L_HSDN:\", L_HSDN)\n",
    "print(\"L_HPO:\", L_HPO)\n",
    "\n",
    "print(\"p_HSDN:\", p_HSDN)\n",
    "print(\"p_HPO:\", p_HPO)\n",
    "print(\"L_both:\", L_both)\n",
    "print(\"L_expected:\", L_expected)\n",
    "\n",
    "from scipy import stats\n",
    "stats.binom_test(L_both, \n",
    "                 n=L_possible, \n",
    "                 p=L_expected/L_possible, \n",
    "                 alternative='greater')\n",
    "#scipy.stats.binom_test(x, n=None, p=0.5, alternative='two-sided')[source]\n",
    "#x = The number of successes\n",
    "#n = The number of trials.\n",
    "#p = The hypothesized probability of success \n",
    "#alternative = The default value is ‘two-sided’.\n"
   ]
  },
  {
   "cell_type": "code",
   "execution_count": 60,
   "id": "b1266484",
   "metadata": {},
   "outputs": [
    {
     "name": "stdout",
     "output_type": "stream",
     "text": [
      "Zhou_N: 898\n",
      "Zhou_L_possible: 402753\n",
      "Zhou_L_HSDN: 372509\n",
      "Zhou_L_HPO: 111923\n",
      "Zhou_p_HSDN: 0.9249068287511204\n",
      "Zhou_p_HPO: 0.2778948884303779\n",
      "Zhou_L_both: 107098\n",
      "Zhou_L_expected: 103518.34699431164\n"
     ]
    },
    {
     "data": {
      "text/plain": [
       "3.8610006936573684e-38"
      ]
     },
     "execution_count": 60,
     "metadata": {},
     "output_type": "execute_result"
    }
   ],
   "source": [
    "#Zhou\n",
    "Zhou_N = 898\n",
    "Zhou_L_possible = 402753\n",
    "Zhou_L_HSDN = 372509\n",
    "Zhou_L_HPO = 111923\n",
    "Zhou_p_HSDN = Zhou_L_HSDN/Zhou_L_possible\n",
    "Zhou_p_HPO = Zhou_L_HPO/Zhou_L_possible\n",
    "Zhou_L_both = 107098\n",
    "Zhou_L_expected = Zhou_p_HSDN * Zhou_p_HPO * Zhou_L_possible\n",
    "\n",
    "print(\"Zhou_N:\", Zhou_N)\n",
    "print(\"Zhou_L_possible:\", Zhou_L_possible)\n",
    "print(\"Zhou_L_HSDN:\", Zhou_L_HSDN)\n",
    "print(\"Zhou_L_HPO:\", Zhou_L_HPO)\n",
    "print(\"Zhou_p_HSDN:\", Zhou_p_HSDN)\n",
    "print(\"Zhou_p_HPO:\", Zhou_p_HPO)\n",
    "print(\"Zhou_L_both:\", Zhou_L_both)\n",
    "print(\"Zhou_L_expected:\", Zhou_L_expected)\n",
    "\n",
    "stats.binom_test(Zhou_L_both, \n",
    "                 n=Zhou_L_possible, \n",
    "                 p=Zhou_L_expected/Zhou_L_possible, \n",
    "                 alternative='greater')\n",
    "#Zhou et al., (2014)ではP-value = 2.2 × 10-16 \n",
    "#alternative='greater' 3.8610006936573684e-38\n",
    "#alternative='less' 0.9999999999999999\n",
    "#alternative='two-sided' 7.665251007753277e-38"
   ]
  },
  {
   "cell_type": "code",
   "execution_count": 61,
   "id": "62bc589e",
   "metadata": {},
   "outputs": [
    {
     "data": {
      "text/plain": [
       "0.25702687998428725"
      ]
     },
     "execution_count": 61,
     "metadata": {},
     "output_type": "execute_result"
    }
   ],
   "source": [
    "Zhou_L_expected/Zhou_L_possible"
   ]
  },
  {
   "cell_type": "code",
   "execution_count": 64,
   "id": "b1f9b51c",
   "metadata": {},
   "outputs": [
    {
     "name": "stdout",
     "output_type": "stream",
     "text": [
      "['D054221', 'Classical Lissencephalies and Subcortical Band Heterotopias', ['C10.500.507.249.230', 'C10.500.507.750.230', 'C16.131.666.507.186.230', 'C16.131.666.507.812.230', 'C16.320.322.500.186']]\n",
      "['D020165', 'Carbamoyl-Phosphate Synthase I Deficiency Disease', ['C10.228.140.163.100.937.249', 'C16.320.565.100.940.249', 'C16.320.565.189.937.249', 'C18.452.132.100.937.249', 'C18.452.648.100.940.249', 'C18.452.648.189.937.249', 'C18.452.660.097']]\n",
      "['D020165', 1.0, 0.11875773622161681]\n"
     ]
    }
   ],
   "source": [
    "#HSDN＝１のとき（ペア1個だけしかない）\n",
    "for i in same_dd_pair[same_dd_pair[\"cosine_similarity_HSDN\"]==1].values.tolist():\n",
    "    for mesh_0 in mesh_list:\n",
    "        if i[0] == mesh_0[0]:\n",
    "            for mesh_1 in mesh_list:\n",
    "                 if i[1] == mesh_1[0]:\n",
    "                        print(mesh_0)\n",
    "                        print(mesh_1)\n",
    "                        print(i[-3:])"
   ]
  },
  {
   "cell_type": "code",
   "execution_count": 65,
   "id": "aea92d1f",
   "metadata": {},
   "outputs": [
    {
     "name": "stdout",
     "output_type": "stream",
     "text": [
      "['D007715', 'Klippel-Trenaunay-Weber Syndrome', ['C14.907.077.410']]\n",
      "['D006712', 'Homocystinuria', ['C10.228.140.163.100.365', 'C16.320.565.100.480.500', 'C16.320.565.189.365', 'C17.300.428', 'C18.452.132.100.365', 'C18.452.648.100.480.500', 'C18.452.648.189.365']]\n",
      "['D006712', 0.0112692159357413, 1.0]\n"
     ]
    }
   ],
   "source": [
    "#HPO＝１のときにHSDNが最も離れているもの\n",
    "for i in same_dd_pair[same_dd_pair[\"cosine_similarity_hpo\"]==1].sort_values(\"cosine_similarity_HSDN\")[:1].values.tolist():\n",
    "    for mesh_0 in mesh_list:\n",
    "        if i[0] == mesh_0[0]:\n",
    "            for mesh_1 in mesh_list:\n",
    "                 if i[1] == mesh_1[0]:\n",
    "                        print(mesh_0)\n",
    "                        print(mesh_1)\n",
    "                        print(i[-3:])"
   ]
  },
  {
   "cell_type": "code",
   "execution_count": 66,
   "id": "8aa9def6",
   "metadata": {},
   "outputs": [
    {
     "name": "stdout",
     "output_type": "stream",
     "text": [
      "['D007566', 'Jaundice, Chronic Idiopathic', ['C16.320.565.300.764', 'C16.614.451.500.250', 'C18.452.648.300.764']]\n",
      "['D005878', 'Gilbert Disease', ['C16.320.565.300.528', 'C18.452.648.300.528']]\n",
      "['D005878', 0.9890363012445356, 1.0]\n"
     ]
    }
   ],
   "source": [
    "#HPO＝１のときにHSDNが最も近いもの\n",
    "for i in same_dd_pair[same_dd_pair[\"cosine_similarity_hpo\"]==1].sort_values(\"cosine_similarity_HSDN\")[-1:].values.tolist():\n",
    "    for mesh_0 in mesh_list:\n",
    "        if i[0] == mesh_0[0]:\n",
    "            for mesh_1 in mesh_list:\n",
    "                 if i[1] == mesh_1[0]:\n",
    "                        print(mesh_0)\n",
    "                        print(mesh_1)\n",
    "                        print(i[-3:])"
   ]
  },
  {
   "cell_type": "code",
   "execution_count": 76,
   "id": "d416cc21",
   "metadata": {},
   "outputs": [
    {
     "data": {
      "image/png": "[encoded data removed]",
      "text/plain": [
       "<Figure size 1080x360 with 1 Axes>"
      ]
     },
     "metadata": {
      "needs_background": "light"
     },
     "output_type": "display_data"
    }
   ],
   "source": [
    "same_dd_pair[[\"cosine_similarity_HSDN\", \"cosine_similarity_hpo\"]][:50].plot.bar(figsize=(15, 5), alpha=0.8, title=\"8_2_1\")\n",
    "plt.show()"
   ]
  },
  {
   "cell_type": "code",
   "execution_count": 68,
   "id": "88e21867",
   "metadata": {},
   "outputs": [
    {
     "data": {
      "application/vnd.jupyter.widget-view+json": {
       "model_id": "f08929aa446749b9a2a669f923a8b5bc",
       "version_major": 2,
       "version_minor": 0
      },
      "text/plain": [
       "0it [00:00, ?it/s]"
      ]
     },
     "metadata": {},
     "output_type": "display_data"
    },
    {
     "name": "stderr",
     "output_type": "stream",
     "text": [
      "<ipython-input-68-fc0ce0f34623>:4: SettingWithCopyWarning: \n",
      "A value is trying to be set on a copy of a slice from a DataFrame\n",
      "\n",
      "See the caveats in the documentation: https://pandas.pydata.org/pandas-docs/stable/user_guide/indexing.html#returning-a-view-versus-a-copy\n",
      "  same_dd_pair.loc[:, 'cosine_diff'][enu] = -i\n",
      "<ipython-input-68-fc0ce0f34623>:6: SettingWithCopyWarning: \n",
      "A value is trying to be set on a copy of a slice from a DataFrame\n",
      "\n",
      "See the caveats in the documentation: https://pandas.pydata.org/pandas-docs/stable/user_guide/indexing.html#returning-a-view-versus-a-copy\n",
      "  same_dd_pair.loc[:, 'cosine_diff'][enu] = i\n"
     ]
    }
   ],
   "source": [
    "same_dd_pair[\"cosine_diff\"] = None\n",
    "for enu, i in tqdm(enumerate(same_dd_pair[\"cosine_similarity_HSDN\"]-same_dd_pair[\"cosine_similarity_hpo\"])):\n",
    "    if i<0:\n",
    "        same_dd_pair.loc[:, 'cosine_diff'][enu] = -i\n",
    "    else:\n",
    "        same_dd_pair.loc[:, 'cosine_diff'][enu] = i"
   ]
  },
  {
   "cell_type": "code",
   "execution_count": 78,
   "id": "8eda60b9",
   "metadata": {},
   "outputs": [
    {
     "data": {
      "image/png": "[encoded data removed]",
      "text/plain": [
       "<Figure size 432x288 with 1 Axes>"
      ]
     },
     "metadata": {
      "needs_background": "light"
     },
     "output_type": "display_data"
    }
   ],
   "source": [
    "same_dd_pair[\"cosine_diff\"].hist(bins=100, legend=\"True\")\n",
    "plt.title('8_2_1') \n",
    "plt.show()"
   ]
  },
  {
   "cell_type": "code",
   "execution_count": 74,
   "id": "9720b2a3",
   "metadata": {
    "scrolled": false
   },
   "outputs": [
    {
     "name": "stdout",
     "output_type": "stream",
     "text": [
      "['D007715', 'Klippel-Trenaunay-Weber Syndrome', ['C14.907.077.410']]\n",
      "['D006712', 'Homocystinuria', ['C10.228.140.163.100.365', 'C16.320.565.100.480.500', 'C16.320.565.189.365', 'C17.300.428', 'C18.452.132.100.365', 'C18.452.648.100.480.500', 'C18.452.648.189.365']]\n",
      "['D007715', 'D006712', 0.0112692159357413, 1.0, 0.9887307840642587]\n"
     ]
    }
   ],
   "source": [
    "#コサイン値の差が最大のもの\n",
    "for i in same_dd_pair.sort_values(\"cosine_diff\", ascending=False)[:1].values.tolist():\n",
    "    for mesh_0 in mesh_list:\n",
    "        if i[0] == mesh_0[0]:\n",
    "            for mesh_1 in mesh_list:\n",
    "                 if i[1] == mesh_1[0]:\n",
    "                        print(mesh_0)\n",
    "                        print(mesh_1)\n",
    "                        print(i)"
   ]
  },
  {
   "cell_type": "code",
   "execution_count": 75,
   "id": "24256ba3",
   "metadata": {},
   "outputs": [
    {
     "name": "stdout",
     "output_type": "stream",
     "text": [
      "['D015518', 'Rett Syndrome', ['C10.574.500.775', 'C10.597.606.643.455.937', 'C16.320.322.500.937', 'C16.320.400.525.937', 'C16.320.400.700']]\n",
      "['D000795', 'Fabry Disease', ['C10.228.140.163.100.435.825.200', 'C16.320.322.124', 'C16.320.565.189.435.825.200', 'C16.320.565.398.641.803.300', 'C16.320.565.595.554.825.200', 'C18.452.132.100.435.825.200', 'C18.452.584.687.803.300', 'C18.452.648.189.435.825.200', 'C18.452.648.398.641.803.300', 'C18.452.648.595.554.825.200']]\n",
      "['D015518', 'D000795', 0.0151297003332788, 0.015107196921378569, 2.2503411900231043e-05]\n"
     ]
    }
   ],
   "source": [
    "#コサイン値の差が最小のもの\n",
    "for i in same_dd_pair.sort_values(\"cosine_diff\", ascending=False)[-1:].values.tolist():\n",
    "    for mesh_0 in mesh_list:\n",
    "        if i[0] == mesh_0[0]:\n",
    "            for mesh_1 in mesh_list:\n",
    "                 if i[1] == mesh_1[0]:\n",
    "                        print(mesh_0)\n",
    "                        print(mesh_1)\n",
    "                        print(i)"
   ]
  },
  {
   "cell_type": "code",
   "execution_count": 71,
   "id": "b7e2da19",
   "metadata": {},
   "outputs": [
    {
     "name": "stdout",
     "output_type": "stream",
     "text": [
      "253\n"
     ]
    }
   ],
   "source": [
    "print(len(set(same_dd_pair[\"disease_1\"].unique().tolist()) | set(same_dd_pair[\"disease_2\"].unique().tolist())))"
   ]
  },
  {
   "cell_type": "code",
   "execution_count": 72,
   "id": "e6284dd6",
   "metadata": {},
   "outputs": [
    {
     "name": "stdout",
     "output_type": "stream",
     "text": [
      "same_pair_G: Name: \n",
      "Type: Graph\n",
      "Number of nodes: 253\n",
      "Number of edges: 3516\n",
      "Average degree:  27.7945 \n",
      "\n"
     ]
    }
   ],
   "source": [
    "same_pair_G = nx.from_pandas_edgelist( same_dd_pair,\"disease_1\", \"disease_2\" )\n",
    "print(\"same_pair_G:\", nx.info(same_pair_G), \"\\n\")"
   ]
  },
  {
   "cell_type": "code",
   "execution_count": 73,
   "id": "0bedc5dc",
   "metadata": {},
   "outputs": [
    {
     "name": "stdout",
     "output_type": "stream",
     "text": [
      "8-2-1: L_both 3516\n"
     ]
    },
    {
     "data": {
      "image/png": "[encoded data removed]",
      "text/plain": [
       "<Figure size 432x288 with 1 Axes>"
      ]
     },
     "metadata": {
      "needs_background": "light"
     },
     "output_type": "display_data"
    }
   ],
   "source": [
    "print(\"8-2-1: L_both\", len(same_dd_pair))\n",
    "same_dd_pair[\"cosine_similarity_HSDN\"].hist(bins=100, alpha=0.5, legend=\"True\")\n",
    "same_dd_pair[\"cosine_similarity_hpo\"].hist(bins=100, alpha=0.5, legend=\"True\")\n",
    "plt.show()"
   ]
  },
  {
   "cell_type": "code",
   "execution_count": null,
   "id": "9046ed39",
   "metadata": {},
   "outputs": [],
   "source": []
  }
 ],
 "metadata": {
  "kernelspec": {
   "display_name": "Python 3",
   "language": "python",
   "name": "python3"
  },
  "language_info": {
   "codemirror_mode": {
    "name": "ipython",
    "version": 3
   },
   "file_extension": ".py",
   "mimetype": "text/x-python",
   "name": "python",
   "nbconvert_exporter": "python",
   "pygments_lexer": "ipython3",
   "version": "3.8.8"
  }
 },
 "nbformat": 4,
 "nbformat_minor": 5
}
